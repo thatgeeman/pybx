{
 "cells": [
  {
   "cell_type": "markdown",
   "metadata": {},
   "source": [
    "# Exceptions"
   ]
  },
  {
   "cell_type": "code",
   "execution_count": null,
   "metadata": {},
   "outputs": [],
   "source": [
    "#| default_exp excepts\n"
   ]
  },
  {
   "cell_type": "code",
   "execution_count": null,
   "metadata": {},
   "outputs": [],
   "source": [
    "# | export\n",
    "\n",
    "__all__ = [\"NoIntersection\", \"BxViolation\"]"
   ]
  },
  {
   "cell_type": "code",
   "execution_count": null,
   "metadata": {},
   "outputs": [],
   "source": [
    "# | export\n",
    "\n",
    "class NoIntersection(Exception):\n",
    "    \"\"\"No intersection of boxes occur.\"\"\"\n",
    "\n",
    "    pass\n",
    "\n",
    "\n",
    "class BxViolation(SyntaxWarning):\n",
    "    \"\"\"Violation of Bx properties.\"\"\"\n",
    "\n",
    "    pass\n",
    "\n",
    "class NoGroundTruthBxs(SyntaxWarning):\n",
    "    \"\"\"No Ground Truth boxes found.\"\"\"\n",
    "\n",
    "    pass\n"
   ]
  },
  {
   "cell_type": "code",
   "execution_count": null,
   "metadata": {},
   "outputs": [],
   "source": [
    "#|hide\n",
    "from nbdev import nbdev_export\n",
    "nbdev_export()"
   ]
  },
  {
   "cell_type": "code",
   "execution_count": null,
   "metadata": {},
   "outputs": [],
   "source": []
  }
 ],
 "metadata": {
  "kernelspec": {
   "display_name": "pybx-kernel",
   "language": "python",
   "name": "pybx-kernel"
  }
 },
 "nbformat": 4,
 "nbformat_minor": 2
}
