{
 "cells": [
  {
   "cell_type": "markdown",
   "metadata": {},
   "source": [
    "# Generate anchor boxes\n",
    "\n",
    "> Methods to generate anchor boxes of different aspect ratios. "
   ]
  },
  {
   "cell_type": "code",
   "execution_count": null,
   "metadata": {},
   "outputs": [],
   "source": [
    "#| default_exp anchor"
   ]
  },
  {
   "cell_type": "code",
   "execution_count": null,
   "metadata": {},
   "outputs": [],
   "source": [
    "#| export\n",
    "import inspect\n",
    "\n",
    "import math\n",
    "import numpy as np\n",
    "from fastcore.foundation import L, mask2idxs\n",
    "from fastcore.utils import gt\n",
    "from numpy.typing import ArrayLike \n",
    "from typing import Union\n",
    "import json\n",
    "from collections import defaultdict \n",
    "import warnings\n",
    "\n",
    "from pybx.ops import named_idx\n",
    "from pybx.basics import get_bx, stack_bxs_inplace, BX_TYPE\n",
    "from pybx.utils import get_edges, validate_boxes, as_tuple, reassign_label\n",
    "from pybx.excepts import NoGroundTruthBxs"
   ]
  },
  {
   "cell_type": "markdown",
   "metadata": {},
   "source": [
    "To generate anchor boxes, we need three basic information:\n",
    "\n",
    "- Input image size, `image_sz`: To position our anchor boxes within the maximum \n",
    "coordinates (`width`, `height`) of the image.\n",
    "- Feature map size, `feature_sz`: Feature map is the size (`width`, `height`) \n",
    "of the output of a convolutional operation. A $10\\times10$ feature map would mean \n",
    "$10\\times10$ local receptive field locations can be traced back into the \n",
    "input image. These 100 receptive field locations ($10\\times10=100$) in the input image \n",
    "would act as our initial anchor box candidates.\n",
    "\n",
    "![](https://ars.els-cdn.com/content/image/1-s2.0-S0925231217314169-gr4.jpg)\n",
    "\n",
    "- Aspect ratio of anchor boxes, `asp_ratio`: To generate anchor boxes with \n",
    "different `width` to `height` ratio (default `asp_ratio=1`)."
   ]
  },
  {
   "cell_type": "code",
   "execution_count": null,
   "metadata": {},
   "outputs": [],
   "source": [
    "# | export\n",
    "def bx(\n",
    "    image_sz: (int, tuple),\n",
    "    feature_sz: (int, tuple),\n",
    "    asp_ratio: float = None,\n",
    "    clip: bool = True,\n",
    "    named: bool = True,\n",
    "    anchor_sfx: str = \"a\",\n",
    "    min_visibility: float = 0.25,\n",
    ") -> ArrayLike:\n",
    "    \"\"\"Calculate anchor box coords given an image size and feature size\n",
    "    for a single aspect ratio.\n",
    "\n",
    "    Parameters\n",
    "    ----------\n",
    "    image_sz : (int,tuple)\n",
    "        image size (width, height)\n",
    "    feature_sz : (int,tuple)\n",
    "        feature map size (width, height)\n",
    "    asp_ratio : float, optional\n",
    "        aspect ratio (width:height), by default None\n",
    "    clip : bool, optional\n",
    "        whether to apply np.clip, by default True\n",
    "    named : bool, optional\n",
    "        whether to return (coords, labels), by default True\n",
    "    anchor_sfx : str, optional\n",
    "        suffix anchor label with anchor_sfx, by default \"a\"\n",
    "    min_visibility : float, optional\n",
    "        minimum visibility dictates the condition for a box to be considered\n",
    "        valid. The value corresponds to the ratio of expected area of an anchor box\n",
    "        to the calculated area after clipping to image dimensions., by default 0.25\n",
    "\n",
    "    Returns\n",
    "    -------\n",
    "    ArrayLike\n",
    "        anchor box coordinates in `pascal_voc` format\n",
    "        if named=True, a list of anchor box labels are also returned.\n",
    "    \"\"\"\n",
    "    labels = None\n",
    "    image_sz = as_tuple(image_sz)\n",
    "    feature_sz = as_tuple(feature_sz)\n",
    "    asp_ratio = 1.0 if asp_ratio is None else asp_ratio\n",
    "    # n_boxes = __mul__(*feature_sz)\n",
    "    top_edges = get_edges(image_sz, feature_sz, op=\"noop\")\n",
    "    bot_edge = get_edges(image_sz, feature_sz, op=\"add\")\n",
    "    coords = np.hstack([top_edges, bot_edge])  # raw coords\n",
    "    coords_wh = coords[:, 2:] - coords[:, :2]  # w -> xmax-xmin, h -> ymax-ymin\n",
    "    coords_center = coords[:, 2:] - coords_wh / 2  # xmax-w/2, ymax-h/2\n",
    "    # scale the dimension of width and height with asp ratios\n",
    "    _w = coords_wh[:, 0] * math.sqrt(asp_ratio)\n",
    "    _h = coords_wh[:, 1] / math.sqrt(asp_ratio)\n",
    "    coords_asp_wh = np.stack([_w, _h], -1)\n",
    "    xy_min = coords_center - coords_asp_wh / 2\n",
    "    xy_max = coords_center + coords_asp_wh / 2\n",
    "    coords = np.hstack([xy_min, xy_max])\n",
    "    # check for valid boxes\n",
    "    b = validate_boxes(\n",
    "        coords, image_sz, feature_sz, clip=clip, min_visibility=min_visibility\n",
    "    )\n",
    "    if named:\n",
    "        anchor_sfx = f\"{anchor_sfx}_{feature_sz[0]}x{feature_sz[1]}_{asp_ratio:.1f}_\"\n",
    "        labels = named_idx(len(b), anchor_sfx)\n",
    "    # init multibx\n",
    "    b = get_bx(b, labels)\n",
    "    return (b.coords, b.label) if named else b.coords\n"
   ]
  },
  {
   "cell_type": "code",
   "execution_count": null,
   "metadata": {},
   "outputs": [],
   "source": [
    "coords_1, labels_1 = bx(100, 10, 0.5)"
   ]
  },
  {
   "cell_type": "code",
   "execution_count": null,
   "metadata": {},
   "outputs": [
    {
     "data": {
      "text/plain": [
       "[[1, 0, 8, 12],\n",
       " [11, 0, 18, 12],\n",
       " [21, 0, 28, 12],\n",
       " [31, 0, 38, 12],\n",
       " [41, 0, 48, 12],\n",
       " [51, 0, 58, 12],\n",
       " [61, 0, 68, 12],\n",
       " [71, 0, 78, 12],\n",
       " [81, 0, 88, 12],\n",
       " [91, 0, 98, 12],\n",
       " [1, 7, 8, 22],\n",
       " [11, 7, 18, 22],\n",
       " [21, 7, 28, 22],\n",
       " [31, 7, 38, 22],\n",
       " [41, 7, 48, 22],\n",
       " [51, 7, 58, 22],\n",
       " [61, 7, 68, 22],\n",
       " [71, 7, 78, 22],\n",
       " [81, 7, 88, 22],\n",
       " [91, 7, 98, 22],\n",
       " [1, 17, 8, 32],\n",
       " [11, 17, 18, 32],\n",
       " [21, 17, 28, 32],\n",
       " [31, 17, 38, 32],\n",
       " [41, 17, 48, 32],\n",
       " [51, 17, 58, 32],\n",
       " [61, 17, 68, 32],\n",
       " [71, 17, 78, 32],\n",
       " [81, 17, 88, 32],\n",
       " [91, 17, 98, 32],\n",
       " [1, 27, 8, 42],\n",
       " [11, 27, 18, 42],\n",
       " [21, 27, 28, 42],\n",
       " [31, 27, 38, 42],\n",
       " [41, 27, 48, 42],\n",
       " [51, 27, 58, 42],\n",
       " [61, 27, 68, 42],\n",
       " [71, 27, 78, 42],\n",
       " [81, 27, 88, 42],\n",
       " [91, 27, 98, 42],\n",
       " [1, 37, 8, 52],\n",
       " [11, 37, 18, 52],\n",
       " [21, 37, 28, 52],\n",
       " [31, 37, 38, 52],\n",
       " [41, 37, 48, 52],\n",
       " [51, 37, 58, 52],\n",
       " [61, 37, 68, 52],\n",
       " [71, 37, 78, 52],\n",
       " [81, 37, 88, 52],\n",
       " [91, 37, 98, 52],\n",
       " [1, 47, 8, 62],\n",
       " [11, 47, 18, 62],\n",
       " [21, 47, 28, 62],\n",
       " [31, 47, 38, 62],\n",
       " [41, 47, 48, 62],\n",
       " [51, 47, 58, 62],\n",
       " [61, 47, 68, 62],\n",
       " [71, 47, 78, 62],\n",
       " [81, 47, 88, 62],\n",
       " [91, 47, 98, 62],\n",
       " [1, 57, 8, 72],\n",
       " [11, 57, 18, 72],\n",
       " [21, 57, 28, 72],\n",
       " [31, 57, 38, 72],\n",
       " [41, 57, 48, 72],\n",
       " [51, 57, 58, 72],\n",
       " [61, 57, 68, 72],\n",
       " [71, 57, 78, 72],\n",
       " [81, 57, 88, 72],\n",
       " [91, 57, 98, 72],\n",
       " [1, 67, 8, 82],\n",
       " [11, 67, 18, 82],\n",
       " [21, 67, 28, 82],\n",
       " [31, 67, 38, 82],\n",
       " [41, 67, 48, 82],\n",
       " [51, 67, 58, 82],\n",
       " [61, 67, 68, 82],\n",
       " [71, 67, 78, 82],\n",
       " [81, 67, 88, 82],\n",
       " [91, 67, 98, 82],\n",
       " [1, 77, 8, 92],\n",
       " [11, 77, 18, 92],\n",
       " [21, 77, 28, 92],\n",
       " [31, 77, 38, 92],\n",
       " [41, 77, 48, 92],\n",
       " [51, 77, 58, 92],\n",
       " [61, 77, 68, 92],\n",
       " [71, 77, 78, 92],\n",
       " [81, 77, 88, 92],\n",
       " [91, 77, 98, 92],\n",
       " [1, 87, 8, 100],\n",
       " [11, 87, 18, 100],\n",
       " [21, 87, 28, 100],\n",
       " [31, 87, 38, 100],\n",
       " [41, 87, 48, 100],\n",
       " [51, 87, 58, 100],\n",
       " [61, 87, 68, 100],\n",
       " [71, 87, 78, 100],\n",
       " [81, 87, 88, 100],\n",
       " [91, 87, 98, 100]]"
      ]
     },
     "execution_count": null,
     "metadata": {},
     "output_type": "execute_result"
    }
   ],
   "source": [
    "coords_1"
   ]
  },
  {
   "cell_type": "markdown",
   "metadata": {},
   "source": [
    "Usually multiple anchor boxes with different `feature_sz` and `asp_ratio` are \n",
    "needed. This requirement arises in the case of multiscale object detection.\n",
    "\n",
    "For multiscale object detection, feature maps from different convolution \n",
    "operations of the network are used to trace back into the input image, to \n",
    "generate anchor boxes. \n",
    "The `bxs` method of `pybx` provides this possibility."
   ]
  },
  {
   "cell_type": "code",
   "execution_count": null,
   "metadata": {},
   "outputs": [],
   "source": [
    "# | export\n",
    "\n",
    "\n",
    "def bxs(\n",
    "    image_sz: (int, tuple),\n",
    "    feature_szs: list = None,\n",
    "    asp_ratios: list = None,\n",
    "    named: bool = True,\n",
    "    **kwargs,\n",
    ") -> ArrayLike:\n",
    "    \"\"\"Calculate anchor box coords given an image size and multiple\n",
    "    feature sizes for mutiple aspect ratios.\n",
    "\n",
    "    Parameters\n",
    "    ----------\n",
    "    image_sz : (int,tuple)\n",
    "        image size (width, height)\n",
    "    feature_szs : list, optional\n",
    "        list of feature map sizes, each feature map size being an int or tuple, by default [(8, 8), (2, 2)]\n",
    "    asp_ratios : list, optional\n",
    "        list of aspect ratios for anchor boxes, each aspect ratio being a float calculated by (width:height), by default [1 / 2.0, 1.0, 2.0]\n",
    "    named : bool, optional\n",
    "        whether to return (coords, labels), by default True\n",
    "\n",
    "    Returns\n",
    "    -------\n",
    "    ArrayLike\n",
    "        anchor box coordinates in pascal_voc format\n",
    "        if named=True, a list of anchor box labels are also returned.\n",
    "    \"\"\"\n",
    "    image_sz = as_tuple(image_sz)\n",
    "    feature_szs = [8, 2] if feature_szs is None else feature_szs\n",
    "    feature_szs = [as_tuple(fsz) for fsz in feature_szs]\n",
    "    asp_ratios = [1 / 2.0, 1.0, 2.0] if asp_ratios is None else asp_ratios\n",
    "    # always named=True for bx() call. named=True in fn signature of bxs() is in its scope.\n",
    "    coords_ = [\n",
    "        bx(image_sz, f, ar, named=True, **kwargs)\n",
    "        for f in feature_szs\n",
    "        for ar in asp_ratios\n",
    "    ]\n",
    "    coords_, labels_ = L(zip(*coords_))\n",
    "    coords_ = np.vstack(coords_)\n",
    "    labels_ = L([l_ for lab_ in labels_ for l_ in lab_])\n",
    "    return (coords_, labels_) if named else np.vstack(coords_)\n"
   ]
  },
  {
   "cell_type": "code",
   "execution_count": null,
   "metadata": {},
   "outputs": [],
   "source": [
    "coords, labels = bxs(100, [10, 8, 5, 2], [1, 0.5, 0.3])"
   ]
  },
  {
   "cell_type": "code",
   "execution_count": null,
   "metadata": {},
   "outputs": [
    {
     "data": {
      "text/plain": [
       "((587, 4), 587)"
      ]
     },
     "execution_count": null,
     "metadata": {},
     "output_type": "execute_result"
    }
   ],
   "source": [
    "coords.shape, len(labels)"
   ]
  },
  {
   "cell_type": "markdown",
   "metadata": {},
   "source": [
    "All methods work with asymetric `image_sz` (and or `feature_szs` as well):"
   ]
  },
  {
   "cell_type": "code",
   "execution_count": null,
   "metadata": {},
   "outputs": [],
   "source": [
    "coords, labels = bxs((100, 200), [10, 8, 5, 2], [1, 0.5, 0.3])"
   ]
  },
  {
   "cell_type": "code",
   "execution_count": null,
   "metadata": {},
   "outputs": [
    {
     "data": {
      "text/plain": [
       "((654, 4), 654)"
      ]
     },
     "execution_count": null,
     "metadata": {},
     "output_type": "execute_result"
    }
   ],
   "source": [
    "coords.shape, len(labels)"
   ]
  },
  {
   "cell_type": "markdown",
   "metadata": {},
   "source": [
    "# Ground truth anchor boxes\n",
    "Ground truth boxes are anchor boxes with maximum IOU with the true annotations."
   ]
  },
  {
   "cell_type": "markdown",
   "metadata": {},
   "source": [
    "Load actual annotations."
   ]
  },
  {
   "cell_type": "code",
   "execution_count": null,
   "metadata": {},
   "outputs": [
    {
     "data": {
      "text/plain": [
       "[{'x_min': 130, 'y_min': 63, 'x_max': 225, 'y_max': 180, 'label': 'clock'},\n",
       " {'x_min': 13, 'y_min': 158, 'x_max': 90, 'y_max': 213, 'label': 'frame'}]"
      ]
     },
     "execution_count": null,
     "metadata": {},
     "output_type": "execute_result"
    }
   ],
   "source": [
    "true_annots = json.load(open('../data/annots.json'))\n",
    "true_annots"
   ]
  },
  {
   "cell_type": "markdown",
   "metadata": {},
   "source": [
    "Convert to MultiBx for convenience:"
   ]
  },
  {
   "cell_type": "code",
   "execution_count": null,
   "metadata": {},
   "outputs": [
    {
     "data": {
      "text/plain": [
       "MultiBx(coords=[[130, 63, 225, 180], [13, 158, 90, 213]], label=['clock', 'frame'])"
      ]
     },
     "execution_count": null,
     "metadata": {},
     "output_type": "execute_result"
    }
   ],
   "source": [
    "true_annots_as_bx = get_bx(true_annots)\n",
    "true_annots_as_bx"
   ]
  },
  {
   "cell_type": "markdown",
   "metadata": {},
   "source": [
    "Generate anchor boxes for object detection task, given that we know: \n",
    "\n",
    "```py\n",
    "image_sz = (256, 256)  # to know the upper bounds of candidate bounding boxes\n",
    "feature_sz = [20, 10, 8, 3]\n",
    "asp_ratio = [1, 0.5, 0.3]\n",
    "```"
   ]
  },
  {
   "cell_type": "code",
   "execution_count": null,
   "metadata": {},
   "outputs": [],
   "source": [
    "coords, labels = bxs((256, 256), [20, 10, 8, 3], [1, 0.5, 0.3])"
   ]
  },
  {
   "cell_type": "code",
   "execution_count": null,
   "metadata": {},
   "outputs": [
    {
     "data": {
      "text/plain": [
       "((1741, 4), 1741)"
      ]
     },
     "execution_count": null,
     "metadata": {},
     "output_type": "execute_result"
    }
   ],
   "source": [
    "coords.shape, len(labels)"
   ]
  },
  {
   "cell_type": "code",
   "execution_count": null,
   "metadata": {},
   "outputs": [
    {
     "data": {
      "text/plain": [
       "1741"
      ]
     },
     "execution_count": null,
     "metadata": {},
     "output_type": "execute_result"
    }
   ],
   "source": [
    "n_boxes = coords.shape[0]\n",
    "n_boxes"
   ]
  },
  {
   "cell_type": "markdown",
   "metadata": {},
   "source": [
    "Store coords as multibx for convenience."
   ]
  },
  {
   "cell_type": "code",
   "execution_count": null,
   "metadata": {},
   "outputs": [],
   "source": [
    "coords_as_bx = get_bx(coords=coords, label=labels)"
   ]
  },
  {
   "cell_type": "markdown",
   "metadata": {},
   "source": [
    "Can use the true annotations and anchor boxes to calulate the IOU."
   ]
  },
  {
   "cell_type": "code",
   "execution_count": null,
   "metadata": {},
   "outputs": [
    {
     "data": {
      "text/plain": [
       "MultiBx(coords=[[130, 63, 225, 180], [13, 158, 90, 213]], label=['clock', 'frame'])"
      ]
     },
     "execution_count": null,
     "metadata": {},
     "output_type": "execute_result"
    }
   ],
   "source": [
    "true_annots_as_bx"
   ]
  },
  {
   "cell_type": "code",
   "execution_count": null,
   "metadata": {},
   "outputs": [
    {
     "data": {
      "text/plain": [
       "(2, 1741)"
      ]
     },
     "execution_count": null,
     "metadata": {},
     "output_type": "execute_result"
    }
   ],
   "source": [
    "len(true_annots_as_bx), len(coords_as_bx)"
   ]
  },
  {
   "cell_type": "markdown",
   "metadata": {},
   "source": [
    "The question: for each true label in the provided true annotations, what are the possible ground truth anchor boxes?"
   ]
  },
  {
   "cell_type": "code",
   "execution_count": null,
   "metadata": {},
   "outputs": [
    {
     "name": "stdout",
     "output_type": "stream",
     "text": [
      "BaseBx(coords=[[130, 63, 225, 180]], label=['clock'])\n",
      "BaseBx(coords=[[13, 158, 90, 213]], label=['frame'])\n"
     ]
    }
   ],
   "source": [
    "for annots in true_annots_as_bx:\n",
    "    print(annots)"
   ]
  },
  {
   "cell_type": "code",
   "execution_count": null,
   "metadata": {},
   "outputs": [],
   "source": [
    "gt_anchors_per_class = defaultdict(lambda: L())\n",
    "iou_per_box = defaultdict(lambda: L())\n",
    "for annots in true_annots_as_bx:\n",
    "    label = annots.label[0]  # is a list of len 1\n",
    "    ious = [annots.iou(coords_as_bx[i]) for i in range(n_boxes)]\n",
    "    iou_per_box[label].extend(ious)"
   ]
  },
  {
   "cell_type": "code",
   "execution_count": null,
   "metadata": {},
   "outputs": [
    {
     "data": {
      "text/plain": [
       "dict_keys(['clock', 'frame'])"
      ]
     },
     "execution_count": null,
     "metadata": {},
     "output_type": "execute_result"
    }
   ],
   "source": [
    "iou_per_box.keys()"
   ]
  },
  {
   "cell_type": "code",
   "execution_count": null,
   "metadata": {},
   "outputs": [
    {
     "data": {
      "text/plain": [
       "0.34822804314329736"
      ]
     },
     "execution_count": null,
     "metadata": {},
     "output_type": "execute_result"
    }
   ],
   "source": [
    "max(iou_per_box['clock'])"
   ]
  },
  {
   "cell_type": "code",
   "execution_count": null,
   "metadata": {},
   "outputs": [
    {
     "data": {
      "text/plain": [
       "(#2) [1719,1728]"
      ]
     },
     "execution_count": null,
     "metadata": {},
     "output_type": "execute_result"
    }
   ],
   "source": [
    "iou_per_box['clock'].argwhere(gt(0.3))  # indices of boxes with iou > 0.3"
   ]
  },
  {
   "cell_type": "code",
   "execution_count": null,
   "metadata": {},
   "outputs": [
    {
     "data": {
      "text/plain": [
       "(#3) [1720,1729,1738]"
      ]
     },
     "execution_count": null,
     "metadata": {},
     "output_type": "execute_result"
    }
   ],
   "source": [
    "iou_per_box['frame'].argwhere(gt(0.3))  # indices of boxes with iou > 0.3"
   ]
  },
  {
   "cell_type": "code",
   "execution_count": null,
   "metadata": {},
   "outputs": [
    {
     "data": {
      "text/plain": [
       "(0.34822804314329736, 0.4488243430152144)"
      ]
     },
     "execution_count": null,
     "metadata": {},
     "output_type": "execute_result"
    }
   ],
   "source": [
    "(max(iou_per_box['clock'])), max(iou_per_box['frame'])  # add more anchor boxes to get better ground truth IOUs"
   ]
  },
  {
   "cell_type": "markdown",
   "metadata": {},
   "source": [
    "Improve the loop to return only those with good IOU:"
   ]
  },
  {
   "cell_type": "code",
   "execution_count": null,
   "metadata": {},
   "outputs": [],
   "source": [
    "iou_thresh = 0.3\n",
    "gt_anchors_per_class = defaultdict(lambda: L())\n",
    "iou_per_box = defaultdict(lambda: L())\n",
    "for annots in true_annots_as_bx:\n",
    "    label = annots.label[0]  # is a list of len 1\n",
    "    ious = L([annots.iou(coords_as_bx[i]) for i in range(n_boxes)])\n",
    "    ious_filter = ious.argwhere(gt(iou_thresh))\n",
    "    # report filtered box IOUs\n",
    "    iou_per_box[label].extend(ious[ious_filter])\n",
    "    # report selected boxes\n",
    "    gt_anchors_per_class[label] = stack_bxs_inplace(\n",
    "        *[coords_as_bx[i] for i in ious_filter]\n",
    "    )"
   ]
  },
  {
   "cell_type": "code",
   "execution_count": null,
   "metadata": {},
   "outputs": [
    {
     "data": {
      "text/plain": [
       "((#2) [0.34,0.34822804314329736],\n",
       " (#3) [0.36643389750266303,0.4488243430152144,0.3523238380809595])"
      ]
     },
     "execution_count": null,
     "metadata": {},
     "output_type": "execute_result"
    }
   ],
   "source": [
    "iou_per_box['clock'], iou_per_box['frame']"
   ]
  },
  {
   "cell_type": "code",
   "execution_count": null,
   "metadata": {},
   "outputs": [
    {
     "data": {
      "text/plain": [
       "MultiBx(coords=[[170, 85, 256, 170], [183, 67, 243, 188]], label=['a_3x3_1.0_5', 'a_3x3_0.5_5'])"
      ]
     },
     "execution_count": null,
     "metadata": {},
     "output_type": "execute_result"
    }
   ],
   "source": [
    "gt_anchors_per_class['clock']"
   ]
  },
  {
   "cell_type": "markdown",
   "metadata": {},
   "source": [
    "Not very far from the original annotations. These scales and aspect ratios can also be read from the label. \n",
    "The finer the anchor boxes, the better the starting positions (ground truth anchor boxes)."
   ]
  },
  {
   "cell_type": "code",
   "execution_count": null,
   "metadata": {},
   "outputs": [
    {
     "data": {
      "text/plain": [
       "{'x_min': 130, 'y_min': 63, 'x_max': 225, 'y_max': 180, 'label': 'clock'}"
      ]
     },
     "execution_count": null,
     "metadata": {},
     "output_type": "execute_result"
    }
   ],
   "source": [
    "true_annots[0]"
   ]
  },
  {
   "cell_type": "code",
   "execution_count": null,
   "metadata": {},
   "outputs": [],
   "source": [
    "tmp = L([1, 2, 3])\n",
    "msk = tmp.map(lambda x: x>1)"
   ]
  },
  {
   "cell_type": "code",
   "execution_count": null,
   "metadata": {},
   "outputs": [
    {
     "data": {
      "text/plain": [
       "(#2) [2,3]"
      ]
     },
     "execution_count": null,
     "metadata": {},
     "output_type": "execute_result"
    }
   ],
   "source": [
    "tmp[msk]"
   ]
  },
  {
   "cell_type": "code",
   "execution_count": null,
   "metadata": {},
   "outputs": [
    {
     "data": {
      "text/plain": [
       "[1, 2]"
      ]
     },
     "execution_count": null,
     "metadata": {},
     "output_type": "execute_result"
    }
   ],
   "source": [
    "mask2idxs(msk)"
   ]
  },
  {
   "cell_type": "code",
   "execution_count": null,
   "metadata": {},
   "outputs": [],
   "source": [
    "# | export\n",
    "\n",
    "\n",
    "def get_gt_thresh_iou(\n",
    "    true_annots,\n",
    "    anchor_boxes,\n",
    "    anchor_labels=None,\n",
    "    iou_thresh=0.3,\n",
    "    return_ious=False,\n",
    "    return_masks=False,\n",
    "    update_labels=True,\n",
    "):\n",
    "    \"\"\"Calculate positive ground truth and extra positive ground truth bounding boxes based on iou threhsold.\n",
    "\n",
    "    Can result in uneven number of positive ground truth boxes per class.\n",
    "\n",
    "    Args:\n",
    "        true_annots (Any): True annotations, typically in `pascal_voc` format\n",
    "        anchor_boxes (Any): Candidate anchor boxes, typically calculated with `pybx.bxs`\n",
    "        anchor_labels (List, optional): Anchor box labels, will be overwritten with true labels if `update_labels=True`. Defaults to None.\n",
    "        iou_thresh (float, optional): IOU threshold to filter out negative ground truth anchor boxes. Defaults to 0.3.\n",
    "        return_ious (bool, optional): Return IOU values for selected positive ground truth anchor boxes. Defaults to False.\n",
    "        return_masks (bool, optional): Return boolean masks for all anchor boxes indicating if a box is positive (`True`) or negative (`False`) ground truth box. Defaults to False.\n",
    "        update_labels (bool, optional): Overwrite with true annotations. Defaults to True.\n",
    "\n",
    "    Returns:\n",
    "        dict: positive ground truth anchor boxes per class\n",
    "        dict: IOU of positive ground truth anchor boxes per class\n",
    "        dict: boolean list indicating positive ground truth anchor boxes per class\n",
    "    \"\"\"\n",
    "    gt_anchors_per_class = defaultdict(lambda: L())\n",
    "    iou_per_class = defaultdict(lambda: L())\n",
    "    mask_per_class = defaultdict(lambda: L())\n",
    "    true_annots_as_bx = (\n",
    "        get_bx(true_annots) if not isinstance(true_annots, BX_TYPE) else true_annots\n",
    "    )\n",
    "    anchor_labels = (\n",
    "        [f\"bx_{i}\" for i in range(len(anchor_boxes))]\n",
    "        if anchor_labels is None\n",
    "        else anchor_labels\n",
    "    )\n",
    "    coords_as_bx = (\n",
    "        get_bx(coords=anchor_boxes, label=anchor_labels)\n",
    "        if not isinstance(anchor_boxes, BX_TYPE)\n",
    "        else anchor_boxes\n",
    "    )\n",
    "    n_boxes = len(coords_as_bx)\n",
    "\n",
    "    for annots in true_annots_as_bx:\n",
    "        label = annots.label[0]  # is a list of len 1\n",
    "        ious = L([round(annots.iou(coords_as_bx[i]), 4) for i in range(n_boxes)])\n",
    "        # ious_filter = ious.argwhere(gt(iou_thresh))\n",
    "        mask = ious.map(lambda x: x >= iou_thresh)\n",
    "        ious_filter = mask2idxs(mask=mask)\n",
    "\n",
    "        if mask.sum() < 1:\n",
    "            warnings.warn(\n",
    "                NoGroundTruthBxs(\n",
    "                    f\"No good ground truth anchors found for label={label}, try lowering threshold (iou_thresh={iou_thresh} or increasing candidates.\"\n",
    "                )\n",
    "            )\n",
    "            gt_anchors_per_class[label] = None\n",
    "\n",
    "        if return_ious:\n",
    "            # report filtered box IOUs\n",
    "            iou_per_class[label].extend(ious[ious_filter])\n",
    "        if return_masks:\n",
    "            mask_per_class[label].extend(mask)\n",
    "        # report selected boxes\n",
    "        # print([coords_as_bx[i] for i in ious_filter])\n",
    "        if mask.sum() > 0:\n",
    "            gt_anchors_per_class[label] = stack_bxs_inplace(\n",
    "                *[\n",
    "                    reassign_label(coords_as_bx[i], label=[label])\n",
    "                    if update_labels\n",
    "                    else coords_as_bx[i]\n",
    "                    for i in ious_filter\n",
    "                ]\n",
    "            )\n",
    "\n",
    "    return dict(gt_anchors_per_class), dict(iou_per_class), dict(mask_per_class)"
   ]
  },
  {
   "cell_type": "code",
   "execution_count": null,
   "metadata": {},
   "outputs": [
    {
     "data": {
      "text/plain": [
       "array([[  0,   0,  12,  12],\n",
       "       [ 12,   0,  25,  12],\n",
       "       [ 25,   0,  38,  12],\n",
       "       ...,\n",
       "       [ 19, 135,  66, 256],\n",
       "       [104, 135, 151, 256],\n",
       "       [189, 135, 236, 256]])"
      ]
     },
     "execution_count": null,
     "metadata": {},
     "output_type": "execute_result"
    }
   ],
   "source": [
    "coords"
   ]
  },
  {
   "cell_type": "code",
   "execution_count": null,
   "metadata": {},
   "outputs": [
    {
     "data": {
      "text/plain": [
       "{'clock': MultiBx(coords=[[170, 85, 256, 170], [183, 67, 243, 188]], label=['clock', 'clock']),\n",
       " 'frame': MultiBx(coords=[[0, 170, 85, 256], [12, 152, 72, 256], [19, 135, 66, 256]], label=['frame', 'frame', 'frame'])}"
      ]
     },
     "execution_count": null,
     "metadata": {},
     "output_type": "execute_result"
    }
   ],
   "source": [
    "gt_anchors_per_class, ious_per_class, mask_per_class = get_gt_thresh_iou(true_annots, coords, iou_thresh=0.3, return_ious=True)\n",
    "gt_anchors_per_class"
   ]
  },
  {
   "cell_type": "code",
   "execution_count": null,
   "metadata": {},
   "outputs": [
    {
     "data": {
      "text/plain": [
       "{}"
      ]
     },
     "execution_count": null,
     "metadata": {},
     "output_type": "execute_result"
    }
   ],
   "source": [
    "mask_per_class"
   ]
  },
  {
   "cell_type": "code",
   "execution_count": null,
   "metadata": {},
   "outputs": [
    {
     "data": {
      "text/plain": [
       "[{'x_min': 130, 'y_min': 63, 'x_max': 225, 'y_max': 180, 'label': 'clock'},\n",
       " {'x_min': 13, 'y_min': 158, 'x_max': 90, 'y_max': 213, 'label': 'frame'}]"
      ]
     },
     "execution_count": null,
     "metadata": {},
     "output_type": "execute_result"
    }
   ],
   "source": [
    "true_annots"
   ]
  },
  {
   "cell_type": "code",
   "execution_count": null,
   "metadata": {},
   "outputs": [
    {
     "data": {
      "text/plain": [
       "(#2) [0.34,0.3482]"
      ]
     },
     "execution_count": null,
     "metadata": {},
     "output_type": "execute_result"
    }
   ],
   "source": [
    "ious_per_class['clock']"
   ]
  },
  {
   "cell_type": "code",
   "execution_count": null,
   "metadata": {},
   "outputs": [
    {
     "data": {
      "text/plain": [
       "[[170, 85, 256, 170], [183, 67, 243, 188]]"
      ]
     },
     "execution_count": null,
     "metadata": {},
     "output_type": "execute_result"
    }
   ],
   "source": [
    "gt_anchors_per_class['clock'].coords"
   ]
  },
  {
   "cell_type": "markdown",
   "metadata": {},
   "source": [
    "If anchor box labels are passed, they can be preserved instead of overwriting with ground truth labels."
   ]
  },
  {
   "cell_type": "code",
   "execution_count": null,
   "metadata": {},
   "outputs": [
    {
     "data": {
      "text/plain": [
       "({'hat': MultiBx(coords=[[85, 170, 170, 256], [97, 152, 158, 256], [104, 135, 151, 256]], label=['a_3x3_1.0_7', 'a_3x3_0.5_7', 'a_3x3_0.3_7'])},\n",
       " {'hat': (#3) [0.453,0.4899,0.3921]},\n",
       " {})"
      ]
     },
     "execution_count": null,
     "metadata": {},
     "output_type": "execute_result"
    }
   ],
   "source": [
    "get_gt_thresh_iou([100, 150, 180, 300, 'hat'], coords, iou_thresh=0.3, anchor_labels=labels, update_labels=False, return_ious=True)"
   ]
  },
  {
   "cell_type": "markdown",
   "metadata": {},
   "source": [
    "True annots can also be a list containing the label as the last item."
   ]
  },
  {
   "cell_type": "code",
   "execution_count": null,
   "metadata": {},
   "outputs": [
    {
     "data": {
      "text/plain": [
       "({'hat': MultiBx(coords=[[85, 170, 170, 256], [97, 152, 158, 256], [104, 135, 151, 256]], label=['hat', 'hat', 'hat'])},\n",
       " {'hat': (#3) [0.453,0.4899,0.3921]},\n",
       " {})"
      ]
     },
     "execution_count": null,
     "metadata": {},
     "output_type": "execute_result"
    }
   ],
   "source": [
    "get_gt_thresh_iou([100, 150, 180, 300, 'hat'], coords, iou_thresh=0.3, return_ious=True)"
   ]
  },
  {
   "cell_type": "code",
   "execution_count": null,
   "metadata": {},
   "outputs": [
    {
     "name": "stderr",
     "output_type": "stream",
     "text": [
      "/mnt/data/projects/pybx/.venv/lib/python3.7/site-packages/ipykernel_launcher.py:59: NoGroundTruthBxs: No good ground truth anchors found for label=shirt, try lowering threshold (iou_thresh=0.3 or increasing candidates.\n"
     ]
    },
    {
     "data": {
      "text/plain": [
       "({'hat': MultiBx(coords=[[85, 170, 170, 256], [97, 152, 158, 256], [104, 135, 151, 256]], label=['hat', 'hat', 'hat']),\n",
       "  'shirt': None},\n",
       " {'hat': (#3) [0.453,0.4899,0.3921], 'shirt': (#0) []},\n",
       " {})"
      ]
     },
     "execution_count": null,
     "metadata": {},
     "output_type": "execute_result"
    }
   ],
   "source": [
    "get_gt_thresh_iou([[100, 150, 180, 300, 'hat'], [100, 120, 280, 200, 'shirt']], coords, iou_thresh=0.3, return_ious=True)"
   ]
  },
  {
   "cell_type": "markdown",
   "metadata": {},
   "source": [
    "Method to also return just the max IOU ground truth boxes."
   ]
  },
  {
   "cell_type": "code",
   "execution_count": null,
   "metadata": {},
   "outputs": [],
   "source": []
  },
  {
   "cell_type": "code",
   "execution_count": null,
   "metadata": {},
   "outputs": [],
   "source": [
    "# | export\n",
    "\n",
    "\n",
    "def get_gt_max_iou(\n",
    "    true_annots,\n",
    "    anchor_boxes,\n",
    "    anchor_labels=None,\n",
    "    return_ious=False,\n",
    "    return_masks=False,\n",
    "    positive_boxes=1, \n",
    "    update_labels=True\n",
    "):\n",
    "    \"\"\"Calculate positive ground truth and extra positive ground truth bounding boxes based on maximum IOU condition.\n",
    "\n",
    "    Will always provide a box, therfore constant number `positive_boxes` of positive ground truth boxes per class.\n",
    "\n",
    "    Args:\n",
    "        true_annots (Any): True annotations, typically in `pascal_voc` format\n",
    "        anchor_boxes (Any): Candidate anchor boxes, typically calculated with `pybx.bxs`\n",
    "        anchor_labels (List, optional): Anchor box labels, will be overwritten with true labels if `update_labels=True`. Defaults to None.\n",
    "        return_ious (bool, optional): Return IOU values for selected positive ground truth anchor boxes. Defaults to False.\n",
    "        return_masks (bool, optional): Return boolean masks for all anchor boxes indicating if a box is positive (`True`) or negative (`False`) ground truth box. Defaults to False.\n",
    "        update_labels (bool, optional): Overwrite with true annotations. Defaults to True.\n",
    "        positive_boxes (int, optional): Number of extra/positive ground truth boxes to return. Defaults to 1.\n",
    "\n",
    "    Returns:\n",
    "        dict: positive ground truth anchor boxes per class\n",
    "        dict: IOU of positive ground truth anchor boxes per class\n",
    "        dict: boolean list indicating positive ground truth anchor boxes per class\n",
    "    \"\"\"\n",
    "    gt_anchors_per_class = defaultdict(lambda: L())\n",
    "    iou_per_class = defaultdict(lambda: L()) \n",
    "    mask_per_class = defaultdict(lambda: L())\n",
    "    true_annots_as_bx = (\n",
    "        get_bx(true_annots) if not isinstance(true_annots, BX_TYPE) else true_annots\n",
    "    )\n",
    "    anchor_labels = (\n",
    "        [f\"bx_{i}\" for i in range(len(anchor_boxes))]\n",
    "        if anchor_labels is None\n",
    "        else anchor_labels\n",
    "    )\n",
    "    coords_as_bx = (\n",
    "        get_bx(coords=anchor_boxes, label=anchor_labels)\n",
    "        if not isinstance(anchor_boxes, BX_TYPE)\n",
    "        else anchor_boxes\n",
    "    )\n",
    "    n_boxes = len(coords_as_bx) \n",
    "\n",
    "    for annots in true_annots_as_bx:\n",
    "        label = annots.label[0]  # is a list of len 1\n",
    "        ious = L([round(annots.iou(coords_as_bx[i]), 4) for i in range(n_boxes)])\n",
    "        ious_sorted = ious.sorted(reverse=True)\n",
    "        max_iou = ious_sorted[:positive_boxes]\n",
    "        ious_filter = [ious.index(m) for m in max_iou]\n",
    "        mask = L([True if idx in ious_filter else False for idx in range(n_boxes)])\n",
    "        \n",
    "        if mask.sum() < 1:\n",
    "            warnings.warn(\n",
    "                NoGroundTruthBxs(\n",
    "                    f\"No good ground truth anchors found for label={label}, try increasing candidates.\"\n",
    "                )\n",
    "            )\n",
    "            gt_anchors_per_class[label] = None\n",
    "\n",
    "        # print(max_iou, ious_filter)\n",
    "        if return_ious:\n",
    "            # report filtered box IOUs\n",
    "            iou_per_class[label].extend(ious[ious_filter])\n",
    "        if return_masks:\n",
    "            mask_per_class[label].extend(mask)\n",
    "        # report selected boxes\n",
    "        # print([coords_as_bx[i] for i in ious_filter])\n",
    "        if mask.sum() > 0:\n",
    "            gt_anchors_per_class[label] = stack_bxs_inplace(\n",
    "                *[\n",
    "                    reassign_label(coords_as_bx[i], label=[label])\n",
    "                    if update_labels\n",
    "                    else coords_as_bx[i]\n",
    "                    for i in ious_filter\n",
    "                ]\n",
    "            )\n",
    "\n",
    "    return dict(gt_anchors_per_class), dict(iou_per_class), dict(mask_per_class)"
   ]
  },
  {
   "cell_type": "code",
   "execution_count": null,
   "metadata": {},
   "outputs": [
    {
     "data": {
      "text/plain": [
       "({'clock': MultiBx(coords=[[183, 67, 243, 188]], label=['clock']),\n",
       "  'frame': MultiBx(coords=[[12, 152, 72, 256]], label=['frame'])},\n",
       " {},\n",
       " {})"
      ]
     },
     "execution_count": null,
     "metadata": {},
     "output_type": "execute_result"
    }
   ],
   "source": [
    "get_gt_max_iou(true_annots, coords)"
   ]
  },
  {
   "cell_type": "markdown",
   "metadata": {},
   "source": [
    "Can also use methods for the box to calculate properties or convert to different box formats."
   ]
  },
  {
   "cell_type": "code",
   "execution_count": null,
   "metadata": {},
   "outputs": [
    {
     "data": {
      "text/plain": [
       "BaseBx(coords=[[183, 67, 243, 188]], label=['clock'])"
      ]
     },
     "execution_count": null,
     "metadata": {},
     "output_type": "execute_result"
    }
   ],
   "source": [
    "tmp_bx = get_gt_max_iou(true_annots, coords)[0]['clock']\n",
    "tmp_bx[0]"
   ]
  },
  {
   "cell_type": "code",
   "execution_count": null,
   "metadata": {},
   "outputs": [
    {
     "data": {
      "text/plain": [
       "(#1) [[183, 67, 60, 121]]"
      ]
     },
     "execution_count": null,
     "metadata": {},
     "output_type": "execute_result"
    }
   ],
   "source": [
    "tmp_bx[0].xywh"
   ]
  },
  {
   "cell_type": "code",
   "execution_count": null,
   "metadata": {},
   "outputs": [
    {
     "data": {
      "text/plain": [
       "(#1) [[0.71, 0.425, 0.2, 0.4033]]"
      ]
     },
     "execution_count": null,
     "metadata": {},
     "output_type": "execute_result"
    }
   ],
   "source": [
    "tmp_bx[0].yolo(w=300, h=300, normalize=False)  # cx, cy, bw, bh"
   ]
  },
  {
   "cell_type": "code",
   "execution_count": null,
   "metadata": {},
   "outputs": [
    {
     "data": {
      "text/plain": [
       "(#1) [[0.71, 0.425, 0.2, 0.4033]]"
      ]
     },
     "execution_count": null,
     "metadata": {},
     "output_type": "execute_result"
    }
   ],
   "source": [
    "# here w h is the image w and h\n",
    "tmp_bx[0].yolo(w=300, h=300, normalize=True)  # cx/w, cy/h, bw/w, bh/h"
   ]
  },
  {
   "cell_type": "code",
   "execution_count": null,
   "metadata": {},
   "outputs": [
    {
     "data": {
      "text/plain": [
       "array([0.4047, 0.8406, 0.5031, 0.2438])"
      ]
     },
     "execution_count": null,
     "metadata": {},
     "output_type": "execute_result"
    }
   ],
   "source": [
    "np.round([0.4046875, 0.840625, 0.503125, 0.24375], 4)"
   ]
  },
  {
   "cell_type": "code",
   "execution_count": null,
   "metadata": {},
   "outputs": [
    {
     "data": {
      "text/plain": [
       "[{'x_min': 130, 'y_min': 63, 'x_max': 225, 'y_max': 180, 'label': 'clock'},\n",
       " {'x_min': 13, 'y_min': 158, 'x_max': 90, 'y_max': 213, 'label': 'frame'}]"
      ]
     },
     "execution_count": null,
     "metadata": {},
     "output_type": "execute_result"
    }
   ],
   "source": [
    "true_annots"
   ]
  },
  {
   "cell_type": "code",
   "execution_count": null,
   "metadata": {},
   "outputs": [
    {
     "data": {
      "text/plain": [
       "({'clock': MultiBx(coords=[[183, 67, 243, 188], [170, 85, 256, 170]], label=['clock', 'clock']),\n",
       "  'frame': MultiBx(coords=[[12, 152, 72, 256], [0, 170, 85, 256]], label=['frame', 'frame'])},\n",
       " {'clock': (#2) [0.3482,0.34], 'frame': (#2) [0.4488,0.3664]},\n",
       " {'clock': (#1741) [False,False,False,False,False,False,False,False,False,False...],\n",
       "  'frame': (#1741) [False,False,False,False,False,False,False,False,False,False...]})"
      ]
     },
     "execution_count": null,
     "metadata": {},
     "output_type": "execute_result"
    }
   ],
   "source": [
    "get_gt_max_iou(\n",
    "    true_annots,\n",
    "    coords,\n",
    "    return_ious=True,\n",
    "    return_masks=True,\n",
    "    positive_boxes=2,  # number of positive bounding boxes to allow\n",
    ")"
   ]
  },
  {
   "cell_type": "markdown",
   "metadata": {},
   "source": [
    "Vocabulary:\n",
    "- Ground truth bounding box\n",
    "- Ground truth anchor box or positive anchor box\n",
    "- Negative anchor box\n",
    "- Offset is calculated as ground truth bounding box minus positive anchor box coordinates (not for all anchor boxes, use mask)\n",
    "- Normalized offsets"
   ]
  },
  {
   "cell_type": "markdown",
   "metadata": {},
   "source": [
    "# Calculate offsets for ground truth anchor boxes\n",
    "\n",
    "`BaseBx` also supports calculation of bounding box offset by calling the `get_offset()` method."
   ]
  },
  {
   "cell_type": "code",
   "execution_count": null,
   "metadata": {},
   "outputs": [],
   "source": [
    "# first calculate the ground truth anchor boxes\n",
    "gt_anchors_per_class, ious_per_class, mask_per_class = get_gt_max_iou(\n",
    "    true_annots,\n",
    "    coords,\n",
    "    return_ious=True,\n",
    "    return_masks=True,\n",
    "    positive_boxes=1,  # number of positive bounding boxes to allow\n",
    ")"
   ]
  },
  {
   "cell_type": "code",
   "execution_count": null,
   "metadata": {},
   "outputs": [
    {
     "data": {
      "text/plain": [
       "{'clock': (#1741) [False,False,False,False,False,False,False,False,False,False...],\n",
       " 'frame': (#1741) [False,False,False,False,False,False,False,False,False,False...]}"
      ]
     },
     "execution_count": null,
     "metadata": {},
     "output_type": "execute_result"
    }
   ],
   "source": [
    "mask_per_class"
   ]
  },
  {
   "cell_type": "code",
   "execution_count": null,
   "metadata": {},
   "outputs": [
    {
     "data": {
      "text/plain": [
       "{'clock': MultiBx(coords=[[183, 67, 243, 188]], label=['clock']),\n",
       " 'frame': MultiBx(coords=[[12, 152, 72, 256]], label=['frame'])}"
      ]
     },
     "execution_count": null,
     "metadata": {},
     "output_type": "execute_result"
    }
   ],
   "source": [
    "gt_anchors_per_class"
   ]
  },
  {
   "cell_type": "code",
   "execution_count": null,
   "metadata": {},
   "outputs": [
    {
     "data": {
      "text/plain": [
       "MultiBx(coords=[[130, 63, 225, 180], [13, 158, 90, 213]], label=['clock', 'frame'])"
      ]
     },
     "execution_count": null,
     "metadata": {},
     "output_type": "execute_result"
    }
   ],
   "source": [
    "true_annots_bx = get_bx(true_annots)\n",
    "true_annots_bx"
   ]
  },
  {
   "cell_type": "code",
   "execution_count": null,
   "metadata": {},
   "outputs": [
    {
     "data": {
      "text/plain": [
       "MultiBx(coords=[[183, 67, 243, 188]], label=['clock'])"
      ]
     },
     "execution_count": null,
     "metadata": {},
     "output_type": "execute_result"
    }
   ],
   "source": [
    "gt_anchors_per_class['clock']  # this is still a MultiBx"
   ]
  },
  {
   "cell_type": "code",
   "execution_count": null,
   "metadata": {},
   "outputs": [
    {
     "data": {
      "text/plain": [
       "1"
      ]
     },
     "execution_count": null,
     "metadata": {},
     "output_type": "execute_result"
    }
   ],
   "source": [
    "len(gt_anchors_per_class['clock'])"
   ]
  },
  {
   "cell_type": "code",
   "execution_count": null,
   "metadata": {},
   "outputs": [
    {
     "data": {
      "text/plain": [
       "BaseBx(coords=[[183, 67, 243, 188]], label=['clock'])"
      ]
     },
     "execution_count": null,
     "metadata": {},
     "output_type": "execute_result"
    }
   ],
   "source": [
    "gt_anchors_per_class['clock'][0]  # this is a BaseBx, which wont raise a warning"
   ]
  },
  {
   "cell_type": "code",
   "execution_count": null,
   "metadata": {},
   "outputs": [
    {
     "name": "stderr",
     "output_type": "stream",
     "text": [
      "/mnt/data/projects/pybx/pybx/basics.py:577: BxViolation: Other should be BaseBx, got MultiBx\n",
      "  warnings.warn(BxViolation(f\"Other should be BaseBx, got MultiBx\"))\n"
     ]
    },
    {
     "data": {
      "text/plain": [
       "(#4) [-5.9167,-0.4959,2.2977,-0.1681]"
      ]
     },
     "execution_count": null,
     "metadata": {},
     "output_type": "execute_result"
    }
   ],
   "source": [
    "true_annots_bx[0].get_offset(gt_anchors_per_class['clock'])  "
   ]
  },
  {
   "cell_type": "code",
   "execution_count": null,
   "metadata": {},
   "outputs": [
    {
     "data": {
      "text/plain": [
       "(#4) [-5.9167,-0.4959,2.2977,-0.1681]"
      ]
     },
     "execution_count": null,
     "metadata": {},
     "output_type": "execute_result"
    }
   ],
   "source": [
    "true_annots_bx[0].get_offset(gt_anchors_per_class['clock'][0])  # by default normalize=True"
   ]
  },
  {
   "cell_type": "markdown",
   "metadata": {},
   "source": [
    "With `normalize=False`, it calculates simple difference between centers `(dcx, dcy)` and ratio of width and heights `(w'/w, h'/h)`  the two boxes."
   ]
  },
  {
   "cell_type": "code",
   "execution_count": null,
   "metadata": {},
   "outputs": [
    {
     "data": {
      "text/plain": [
       "(#4) [-35.5,-6.0,95.0,117.0]"
      ]
     },
     "execution_count": null,
     "metadata": {},
     "output_type": "execute_result"
    }
   ],
   "source": [
    "true_annots_bx[0].get_offset(gt_anchors_per_class['clock'][0], normalize=False)  # "
   ]
  },
  {
   "cell_type": "markdown",
   "metadata": {},
   "source": [
    "The following function repeats the same operation for multiple boxes, provided the masks (so that only ground truch anchor box offsets are calculated)"
   ]
  },
  {
   "cell_type": "code",
   "execution_count": null,
   "metadata": {},
   "outputs": [],
   "source": [
    "# | export\n",
    "\n",
    "def get_gt_offsets(\n",
    "    true_annots, \n",
    "    anchor_boxes,\n",
    "    anchor_labels=None,\n",
    "    masks=None, \n",
    "    sigma=(0.1, 0.2), \n",
    "    normalize=True,\n",
    "    log_func=np.log,\n",
    "):\n",
    "\n",
    "    Na = len(anchor_boxes)  # no of anchor boxes (includes positive and negative anchor boxes)\n",
    "    masks = masks if masks is not None else L([True]*Na)\n",
    "    offsets = np.zeros((Na, 4))\n",
    "\n",
    "    for idx, (box, mask) in enumerate(zip(anchor_boxes, masks)):\n",
    "        if mask:\n",
    "            offsets[idx, :] = true_annots.get_offset(box, normalize=normalize, sigma=sigma, log_func=log_func)\n",
    "            # print(offsets[idx, :])\n",
    "    # assert N=(gt_offsets_clock[:, 0]!=0).sum()\n",
    "    return offsets"
   ]
  },
  {
   "cell_type": "code",
   "execution_count": null,
   "metadata": {},
   "outputs": [],
   "source": [
    "#get_gt_offsets(true_annots_bx[0], gt_anchors_per_class['clock'])  # not usually done, typically all anchors are passed\n",
    "gt_offsets_clock = get_gt_offsets(true_annots_bx[0], coords, masks=mask_per_class['clock']) "
   ]
  },
  {
   "cell_type": "code",
   "execution_count": null,
   "metadata": {},
   "outputs": [
    {
     "data": {
      "text/plain": [
       "array([0., 0., 0., ..., 0., 0., 0.])"
      ]
     },
     "execution_count": null,
     "metadata": {},
     "output_type": "execute_result"
    }
   ],
   "source": [
    "gt_offsets_clock[:, 0]"
   ]
  },
  {
   "cell_type": "code",
   "execution_count": null,
   "metadata": {},
   "outputs": [
    {
     "data": {
      "text/plain": [
       "array([[-5.9167, -0.4959,  2.2977, -0.1681]])"
      ]
     },
     "execution_count": null,
     "metadata": {},
     "output_type": "execute_result"
    }
   ],
   "source": [
    "gt_offsets_clock[mask_per_class['clock']]  # czan use the mask to index the only valid offset"
   ]
  },
  {
   "cell_type": "markdown",
   "metadata": {},
   "source": [
    "Repeating the same operations for all classes."
   ]
  },
  {
   "cell_type": "code",
   "execution_count": null,
   "metadata": {},
   "outputs": [],
   "source": [
    "for idx, true_bx in enumerate(true_annots_bx):\n",
    "    get_gt_offsets(true_bx, coords, masks=mask_per_class[true_bx.label[0]]) "
   ]
  },
  {
   "cell_type": "code",
   "execution_count": null,
   "metadata": {},
   "outputs": [],
   "source": []
  },
  {
   "cell_type": "code",
   "execution_count": null,
   "metadata": {},
   "outputs": [],
   "source": [
    "#|hide\n",
    "from nbdev import nbdev_export\n",
    "nbdev_export()"
   ]
  },
  {
   "cell_type": "code",
   "execution_count": null,
   "metadata": {},
   "outputs": [],
   "source": []
  },
  {
   "cell_type": "code",
   "execution_count": null,
   "metadata": {},
   "outputs": [],
   "source": []
  }
 ],
 "metadata": {
  "kernelspec": {
   "display_name": "pybx-kernel",
   "language": "python",
   "name": "pybx-kernel"
  }
 },
 "nbformat": 4,
 "nbformat_minor": 4
}
