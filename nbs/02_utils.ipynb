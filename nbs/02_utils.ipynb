{
 "cells": [
  {
   "cell_type": "markdown",
   "metadata": {},
   "source": [
    "# Utilities\n",
    "\n",
    "> Utility functions used in `pybx` to calculate anchor boxes, among others."
   ]
  },
  {
   "cell_type": "code",
   "execution_count": null,
   "metadata": {},
   "outputs": [],
   "source": [
    "#| default_exp utils"
   ]
  },
  {
   "cell_type": "code",
   "execution_count": null,
   "metadata": {},
   "outputs": [],
   "source": [
    "#| export\n",
    "import inspect\n",
    "\n",
    "import numpy as np\n",
    "\n",
    "from pybx.ops import __ops__, get_op\n",
    "from pybx.basics import get_bx, BaseBx\n",
    "\n",
    "from fastcore.foundation import L"
   ]
  },
  {
   "cell_type": "code",
   "execution_count": null,
   "metadata": {},
   "outputs": [],
   "source": [
    "np.random.seed(42)"
   ]
  },
  {
   "cell_type": "code",
   "execution_count": null,
   "metadata": {},
   "outputs": [],
   "source": [
    "# | export\n",
    "def get_edges(image_sz: tuple, feature_sz: tuple, op=\"noop\"):\n",
    "    \"\"\"Generate offsetted top `(x_min, y_min)` or bottom edges `(x_max, y_max)`\n",
    "    coordinates of a given feature size based on op.\n",
    "    if `op` is `noop`, gets the top edges.\n",
    "    if `op` is `add`, gets the bottom edges.\n",
    "    :param op: operation for calculating edges, either 'add' 'sub' 'noop'\n",
    "    :param image_sz: tuple of `(W, H)` of an image\n",
    "    :param feature_sz: tuple of `(W, H)` of a channel\n",
    "    :return: offsetted edges of each feature\n",
    "    \"\"\"\n",
    "    assert (\n",
    "        len(image_sz) == 2\n",
    "    ), f\"{inspect.stack()[0][3]} of {__name__}: Expected image_sz of len 2, got {len(image_sz)}\"\n",
    "\n",
    "    assert (\n",
    "        op in __ops__\n",
    "    ), f\"{inspect.stack()[0][3]} of {__name__}: Operator not in allowed operations: {__ops__}\"\n",
    "    w, h = image_sz\n",
    "    nx, ny = feature_sz\n",
    "    diag_edge_ofs = w / nx, h / ny\n",
    "    op_ = get_op(op)\n",
    "    x_ = op_(np.linspace(0, w, nx + 1), diag_edge_ofs[0])\n",
    "    y_ = op_(np.linspace(0, h, ny + 1), diag_edge_ofs[1])\n",
    "    mesh = np.meshgrid(x_, y_)\n",
    "    edges = np.stack([m.flatten() for m in mesh], axis=-1)\n",
    "    return edges\n",
    "\n",
    "\n",
    "def validate_boxes(coords, image_sz, feature_sz, clip=True, min_visibility=0.25):\n",
    "    \"\"\"Validate calculated anchor box coords.\n",
    "    :param coords: anchor box coordinates\n",
    "    :param image_sz: tuple of (width, height) of an image\n",
    "    :param feature_sz: tuple of (width, height) of a channel\n",
    "    :param clip: whether to apply np.clip\n",
    "    :param min_visibility: minimum visibility dictates the condition for a box to be considered valid. The value corresponds to the\n",
    "    ratio of expected area to the calculated area after clipping to image dimensions.\n",
    "    :return: anchor box coordinates in [pascal_voc] format\n",
    "    \"\"\"\n",
    "    _max = max(image_sz[0], image_sz[1])\n",
    "    # make the boxes int\n",
    "    coords = np.floor(coords).astype(int)\n",
    "    # clip the boxes to image dimensions\n",
    "    bxs = get_bx(coords.clip(0, _max)) if clip else get_bx(coords)\n",
    "    # check if the area of the bounding box is fitting the minimum area criterion\n",
    "    min_area = (\n",
    "        (image_sz[0] / feature_sz[0]) * (image_sz[1] / feature_sz[1]) * min_visibility\n",
    "    )\n",
    "    bxs = L(list(b._coords) for b in bxs if b.area > min_area)\n",
    "    return bxs\n"
   ]
  },
  {
   "cell_type": "markdown",
   "metadata": {},
   "source": [
    "Generate (`x_min`, `y_min`) corners."
   ]
  },
  {
   "cell_type": "code",
   "execution_count": null,
   "metadata": {},
   "outputs": [],
   "source": [
    "#| export\n",
    "def as_tuple(x):\n",
    "    \"\"\"Get x as a tuple (x, x) if not already a tuple.\n",
    "\n",
    "    Parameters\n",
    "    ----------\n",
    "    x : (int, tuple)\n",
    "        Item that needs to be converted to a tuple.\n",
    "    \"\"\"    \n",
    "    return (x, x) if isinstance(x, int) else x"
   ]
  },
  {
   "cell_type": "code",
   "execution_count": null,
   "metadata": {},
   "outputs": [
    {
     "data": {
      "text/plain": [
       "(2, 2)"
      ]
     },
     "execution_count": null,
     "metadata": {},
     "output_type": "execute_result"
    }
   ],
   "source": [
    "as_tuple(2)"
   ]
  },
  {
   "cell_type": "code",
   "execution_count": null,
   "metadata": {},
   "outputs": [],
   "source": [
    "#| export\n",
    "\n",
    "def reassign_label(gt_bx: BaseBx, label=None):\n",
    "    \"\"\"Update the label of the bounding box.\n",
    "\n",
    "    Args:\n",
    "        gt_bx (BaseBx): A pybx bounding box of type BaseBx.\n",
    "        label (list, optional): New label as a list of single item. Defaults to None.\n",
    "\n",
    "    Returns:\n",
    "        _type_: _description_\n",
    "    \"\"\"\n",
    "    return get_bx(coords=gt_bx.coords, label=label)\n",
    "    "
   ]
  },
  {
   "cell_type": "code",
   "execution_count": null,
   "metadata": {},
   "outputs": [],
   "source": [
    "#|hide\n",
    "from nbdev import nbdev_export\n",
    "nbdev_export()"
   ]
  },
  {
   "cell_type": "code",
   "execution_count": null,
   "metadata": {},
   "outputs": [],
   "source": []
  }
 ],
 "metadata": {
  "kernelspec": {
   "display_name": "pybx-kernel",
   "language": "python",
   "name": "pybx-kernel"
  }
 },
 "nbformat": 4,
 "nbformat_minor": 4
}
