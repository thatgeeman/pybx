{
 "cells": [
  {
   "cell_type": "markdown",
   "metadata": {},
   "source": [
    "# Basic objects\n",
    "\n",
    "> Basic object types and methods utilized in `pybx`"
   ]
  },
  {
   "cell_type": "code",
   "execution_count": null,
   "metadata": {},
   "outputs": [],
   "source": [
    "#| default_exp basics"
   ]
  },
  {
   "cell_type": "code",
   "execution_count": null,
   "metadata": {},
   "outputs": [],
   "source": [
    "#| export\n",
    "import warnings\n",
    "import inspect\n",
    "from typing import Union\n",
    "from numpy.typing import ArrayLike\n",
    "\n",
    "import numpy as np\n",
    "from fastcore.dispatch import explode_types\n",
    "from fastcore.foundation import L, noop\n",
    "from fastcore.basics import concat, store_attr, patch, GetAttr\n",
    "from fastcore.xtras import is_listy\n",
    "\n",
    "from pybx.ops import mul, sub, intersection_box, make_single_iterable, voc_keys, update_keys\n",
    "from pybx.excepts import *\n",
    "\n",
    "COORD_TYPES = (np.float_, np.int_, int)\n",
    "ITER_TYPES = (np.ndarray, list, L)\n",
    "ITER_TYPES_TUPLE = (tuple, )\n",
    "ITER_TYPES_EXTRA = (dict, )\n",
    "ALL_TYPES = COORD_TYPES + ITER_TYPES"
   ]
  },
  {
   "cell_type": "code",
   "execution_count": null,
   "metadata": {},
   "outputs": [],
   "source": [
    "import json\n",
    "from fastcore.test import test_eq, test_fail, test_warns, ExceptionExpected"
   ]
  },
  {
   "cell_type": "markdown",
   "metadata": {},
   "source": [
    "Anchor box coordinates of type `list`/`dict`/`json`/`array` can be converted \n",
    "to a `Bx` instance. Once wrapped as a `Bx` instance, some interesting properties can\n",
    "be calculated from the coordinates. "
   ]
  },
  {
   "cell_type": "code",
   "execution_count": null,
   "metadata": {},
   "outputs": [],
   "source": [
    "# | export\n",
    "class Bx:\n",
    "    \"\"\"Interface for all future Bx's\"\"\"\n",
    "\n",
    "    def __init__(self, coords, label: list = None):\n",
    "        label = label if label else []\n",
    "        label = L(label) if not is_listy(label) else label\n",
    "        coords = [coords] if len(coords) > 1 else coords  # make list of list\n",
    "        # other props\n",
    "        _coords = coords[0]  # internat representation as a list\n",
    "        assert len(_coords) == 4, f\"Expected 4 items in _coords, got {_coords}\"\n",
    "        x_min, y_min, x_max, y_max = _coords\n",
    "        store_attr(\"x_min, y_min, x_max, y_max, _coords, coords, label\")\n",
    "\n",
    "    def __str__(self):\n",
    "        return f\"Bx(coords={self.coords}, label={self.label})\"\n",
    "\n",
    "    def __repr__(self):\n",
    "        return self.__str__()\n",
    "\n",
    "    def __len__(self):\n",
    "        return len(self.coords)\n",
    "\n",
    "    def get_coords(self):\n",
    "        return self.coords\n",
    "\n",
    "    @property\n",
    "    def coords_as_numpy(self):\n",
    "        return np.array(self.coords, dtype=int)\n",
    "\n",
    "    def get_label(self):\n",
    "        return self.label\n",
    "\n",
    "    @property\n",
    "    def bw(self):\n",
    "        \"\"\"Calculate width\"\"\"\n",
    "        return sub(*self._coords[::2][::-1])\n",
    "\n",
    "    @property\n",
    "    def bh(self):\n",
    "        \"\"\"Calculate height\"\"\"\n",
    "        return sub(*self._coords[1::2][::-1])\n",
    "\n",
    "    @property\n",
    "    def cx(self):\n",
    "        \"\"\"Calculate centroid-x\"\"\"\n",
    "        return (self.x_min + self.x_max) / 2.\n",
    "\n",
    "    @property\n",
    "    def cy(self):\n",
    "        \"\"\"Calculate centroid-y\"\"\"\n",
    "        return (self.y_min + self.y_max) / 2.\n",
    "\n",
    "    @property\n",
    "    def area(self):\n",
    "        \"\"\"Calculates the absolute value of the area of the box.\"\"\"\n",
    "        return abs(mul(self.bw, self.bh))\n",
    "\n",
    "    @property\n",
    "    def values(self):\n",
    "        \"\"\"Returns the coordinates and label as a single list.\"\"\"\n",
    "        return L([[*self._coords, *self.label]])\n",
    "\n",
    "    @property\n",
    "    def valid(self):\n",
    "        \"\"\"Checks for validity of the box and returns a boolean.\n",
    "        From `v0.1.3`, validity implies that the box has non-zero area.\n",
    "        \"\"\"\n",
    "        v_area = bool(self.area)  # False if 0\n",
    "        v_all = np.array([v_area])\n",
    "        return True if v_all.all() else False\n",
    "\n",
    "    @property\n",
    "    def xywh(self):\n",
    "        \"\"\"Converts the `pascal_voc` bounding box to `coco` format.\"\"\"\n",
    "        return L([[self.x_min, self.y_min, self.bw, self.bh]])\n",
    "\n",
    "    def yolo(self, w=1, h=1, normalize=False):\n",
    "        \"\"\"Converts the `pascal_voc` bounding box to `yolo` centroids format.\n",
    "        :param normalize: Whether to normalize the bounding box with image width and height.\n",
    "        :param w: Width of image. Not to be confused with `BaseBx` attribute `w`.\n",
    "        :param h: Height of image. Not to be confused with `BaseBx` attribute `h`.\n",
    "        \"\"\"\n",
    "        if normalize:\n",
    "            assert (w > 1) and (\n",
    "                (h > 1)\n",
    "            ), f\"{inspect.stack()[0][3]} of {__name__}: Expected width and height of image with normalize={normalize}.\"\n",
    "        _yolo = np.array([[self.cx, self.cy, self.bw, self.bh]])/np.tile([w, h], 2)\n",
    "        return L(_yolo.round(4).tolist()) "
   ]
  },
  {
   "cell_type": "markdown",
   "metadata": {},
   "source": [
    "Initializing an empty `Bx` class. It does a whole lot of things!"
   ]
  },
  {
   "cell_type": "markdown",
   "metadata": {},
   "source": [
    "Generate random coordinates for one anchor boxes."
   ]
  },
  {
   "cell_type": "code",
   "execution_count": null,
   "metadata": {},
   "outputs": [
    {
     "data": {
      "text/plain": [
       "[[14, 51, 71, 92]]"
      ]
     },
     "execution_count": null,
     "metadata": {},
     "output_type": "execute_result"
    }
   ],
   "source": [
    "np.random.seed(42)\n",
    "annots = [sorted([np.random.randint(100) for i in range(4)])]\n",
    "annots"
   ]
  },
  {
   "cell_type": "markdown",
   "metadata": {},
   "source": [
    "If a single list is passed, `Bx` will make it a list of list."
   ]
  },
  {
   "cell_type": "code",
   "execution_count": null,
   "metadata": {},
   "outputs": [
    {
     "data": {
      "text/plain": [
       "Bx(coords=[[14, 51, 71, 92]], label=[])"
      ]
     },
     "execution_count": null,
     "metadata": {},
     "output_type": "execute_result"
    }
   ],
   "source": [
    "Bx(annots[0])"
   ]
  },
  {
   "cell_type": "markdown",
   "metadata": {},
   "source": [
    "So the correct way to do it would be to pass a list of list."
   ]
  },
  {
   "cell_type": "code",
   "execution_count": null,
   "metadata": {},
   "outputs": [
    {
     "data": {
      "text/plain": [
       "[[14, 51, 71, 92]]"
      ]
     },
     "execution_count": null,
     "metadata": {},
     "output_type": "execute_result"
    }
   ],
   "source": [
    "annots"
   ]
  },
  {
   "cell_type": "code",
   "execution_count": null,
   "metadata": {},
   "outputs": [
    {
     "data": {
      "text/plain": [
       "Bx(coords=[[14, 51, 71, 92]], label=[])"
      ]
     },
     "execution_count": null,
     "metadata": {},
     "output_type": "execute_result"
    }
   ],
   "source": [
    "b = Bx(annots)\n",
    "b"
   ]
  },
  {
   "cell_type": "code",
   "execution_count": null,
   "metadata": {},
   "outputs": [
    {
     "data": {
      "text/plain": [
       "1"
      ]
     },
     "execution_count": null,
     "metadata": {},
     "output_type": "execute_result"
    }
   ],
   "source": [
    "len(b)"
   ]
  },
  {
   "cell_type": "code",
   "execution_count": null,
   "metadata": {},
   "outputs": [
    {
     "data": {
      "text/plain": [
       "42.5"
      ]
     },
     "execution_count": null,
     "metadata": {},
     "output_type": "execute_result"
    }
   ],
   "source": [
    "b.cx"
   ]
  },
  {
   "cell_type": "code",
   "execution_count": null,
   "metadata": {},
   "outputs": [
    {
     "data": {
      "text/plain": [
       "<bound method Bx.yolo of Bx(coords=[[14, 51, 71, 92]], label=[])>"
      ]
     },
     "execution_count": null,
     "metadata": {},
     "output_type": "execute_result"
    }
   ],
   "source": [
    "b.yolo"
   ]
  },
  {
   "cell_type": "markdown",
   "metadata": {},
   "source": [
    "To get normalized coordinates wrt to the image dimensions."
   ]
  },
  {
   "cell_type": "code",
   "execution_count": null,
   "metadata": {},
   "outputs": [
    {
     "data": {
      "text/plain": [
       "(#1) [[0.1897, 0.3192, 0.2545, 0.183]]"
      ]
     },
     "execution_count": null,
     "metadata": {},
     "output_type": "execute_result"
    }
   ],
   "source": [
    "b.yolo(224, 224, normalize=True)"
   ]
  },
  {
   "cell_type": "code",
   "execution_count": null,
   "metadata": {},
   "outputs": [
    {
     "data": {
      "text/plain": [
       "(#1) [[14, 51, 71, 92]]"
      ]
     },
     "execution_count": null,
     "metadata": {},
     "output_type": "execute_result"
    }
   ],
   "source": [
    "b.values"
   ]
  },
  {
   "cell_type": "code",
   "execution_count": null,
   "metadata": {},
   "outputs": [
    {
     "data": {
      "text/plain": [
       "array([[14, 51, 71, 92]])"
      ]
     },
     "execution_count": null,
     "metadata": {},
     "output_type": "execute_result"
    }
   ],
   "source": [
    "b.coords_as_numpy"
   ]
  },
  {
   "cell_type": "markdown",
   "metadata": {},
   "source": [
    "`Bx` is inherited by all other types in `pybx`: `BaseBx`, `MultiBx`, `ListBx`, `JsonBx`, exposing the same properties.\n",
    "\n",
    "`BaseBx` works with other types of coordinates too. \n",
    "It accepts the coordinates and label for one anchor box in a `list` or `ndarray` \n",
    "format."
   ]
  },
  {
   "cell_type": "code",
   "execution_count": null,
   "metadata": {},
   "outputs": [],
   "source": [
    "# | export \n",
    "class BaseBx(Bx):\n",
    "    \"\"\"BaseBx is the most primitive form of representing a bounding box.\n",
    "    Coordinates and label of a bounding box can be wrapped as a BaseBx using:\n",
    "    `bbx(coords, label)`.\n",
    "\n",
    "    :param coords: can be of type `list` or `array` representing a single box.\n",
    "        - `list` can be formatted with `label`: `[x_min, y_min, x_max, y_max, label]`\n",
    "            or without `label`: `[x_min, y_min, x_max, y_max]`\n",
    "        - `array` should be a 1-dimensional array of shape `(4,)`\n",
    "\n",
    "    :param label: a `list` or `str` that has the class name or label for the object\n",
    "    in the corresponding box.\n",
    "    \"\"\"\n",
    "\n",
    "    def __init__(self, coords, label: list = None):\n",
    "        self.index = 0  # Fixes #2, calls itself everytime\n",
    "        assert isinstance(coords, (list, L, np.ndarray)), f\"{__name__}: Expected type list or np.ndarray for coords, got {type(coords)}\"\n",
    "        assert isinstance(coords[0], ALL_TYPES), (\n",
    "            f\"{__name__}: Expected float, int or single-nested list or np.ndarray at coords[0], \"\n",
    "            f\"got {type(coords[0])} with {coords[0]}\"\n",
    "        ) \n",
    "        super().__init__(coords, label) \n",
    "    \n",
    "    def __str__(self):\n",
    "        return f'BaseBx(coords={self.coords}, label={self.label})'\n",
    "        "
   ]
  },
  {
   "cell_type": "markdown",
   "metadata": {},
   "source": [
    "Works with arrays and lists:"
   ]
  },
  {
   "cell_type": "code",
   "execution_count": null,
   "metadata": {},
   "outputs": [
    {
     "data": {
      "text/plain": [
       "BaseBx(coords=[[14, 51, 71, 92]], label=[])"
      ]
     },
     "execution_count": null,
     "metadata": {},
     "output_type": "execute_result"
    }
   ],
   "source": [
    "BaseBx(annots)"
   ]
  },
  {
   "cell_type": "code",
   "execution_count": null,
   "metadata": {},
   "outputs": [],
   "source": [
    "b = BaseBx(annots, 'flower')"
   ]
  },
  {
   "cell_type": "code",
   "execution_count": null,
   "metadata": {},
   "outputs": [
    {
     "data": {
      "text/plain": [
       "BaseBx(coords=[[14, 51, 71, 92]], label=['flower'])"
      ]
     },
     "execution_count": null,
     "metadata": {},
     "output_type": "execute_result"
    }
   ],
   "source": [
    "b"
   ]
  },
  {
   "cell_type": "code",
   "execution_count": null,
   "metadata": {},
   "outputs": [
    {
     "data": {
      "text/plain": [
       "[[14, 51, 71, 92]]"
      ]
     },
     "execution_count": null,
     "metadata": {},
     "output_type": "execute_result"
    }
   ],
   "source": [
    "b.coords"
   ]
  },
  {
   "cell_type": "code",
   "execution_count": null,
   "metadata": {},
   "outputs": [
    {
     "data": {
      "text/plain": [
       "array([[14, 51, 71, 92]])"
      ]
     },
     "execution_count": null,
     "metadata": {},
     "output_type": "execute_result"
    }
   ],
   "source": [
    "b.coords_as_numpy"
   ]
  },
  {
   "cell_type": "markdown",
   "metadata": {},
   "source": [
    "Calling the `values` attribute returns the labels along with the coordinates."
   ]
  },
  {
   "cell_type": "code",
   "execution_count": null,
   "metadata": {},
   "outputs": [
    {
     "data": {
      "text/plain": [
       "(#1) [[14, 51, 71, 92, 'flower']]"
      ]
     },
     "execution_count": null,
     "metadata": {},
     "output_type": "execute_result"
    }
   ],
   "source": [
    "b.values"
   ]
  },
  {
   "cell_type": "markdown",
   "metadata": {},
   "source": [
    "`BaseBx` also exposes a method to calculate the Intersection Over Union (IOU):"
   ]
  },
  {
   "cell_type": "code",
   "execution_count": null,
   "metadata": {},
   "outputs": [],
   "source": [
    "# | export\n",
    "\n",
    "\n",
    "@patch\n",
    "def iou(self: BaseBx, other):\n",
    "    \"\"\"Caclulates the Intersection Over Union (IOU) of the box\n",
    "    w.r.t. another `BaseBx`. Returns the IOU only if the box is\n",
    "    considered `valid`.\n",
    "    \"\"\"\n",
    "    if not isinstance(other, Bx):\n",
    "        other = bbx(other)\n",
    "    if self.valid:\n",
    "        try:\n",
    "            int_box = bbx(intersection_box(self.coords, other.coords))\n",
    "        except NoIntersection:\n",
    "            return 0.0\n",
    "        int_area = int_box.area\n",
    "        union_area = other.area + self.area - int_area\n",
    "        return int_area / union_area\n",
    "    return 0.0"
   ]
  },
  {
   "cell_type": "code",
   "execution_count": null,
   "metadata": {},
   "outputs": [
    {
     "data": {
      "text/plain": [
       "BaseBx(coords=[[14, 51, 71, 92]], label=['flower'])"
      ]
     },
     "execution_count": null,
     "metadata": {},
     "output_type": "execute_result"
    }
   ],
   "source": [
    "b"
   ]
  },
  {
   "cell_type": "code",
   "execution_count": null,
   "metadata": {},
   "outputs": [],
   "source": []
  },
  {
   "cell_type": "code",
   "execution_count": null,
   "metadata": {},
   "outputs": [],
   "source": []
  },
  {
   "cell_type": "markdown",
   "metadata": {},
   "source": [
    "`BaseBx` is also pseudo-iterable (calling an iterator returns `self` itself and not the coordinates or labels)."
   ]
  },
  {
   "cell_type": "code",
   "execution_count": null,
   "metadata": {},
   "outputs": [],
   "source": [
    "#| export\n",
    "@patch\n",
    "def __iter__(self:BaseBx):\n",
    "    \"\"\"Iterates through the boxes in `BaseBx` where self.valid is True.\"\"\"\n",
    "    return self\n",
    "\n",
    "@patch\n",
    "def __getitem__(self:BaseBx, idx):\n",
    "        \"\"\"Gets the item at index idx as a BaseBx.\"\"\"\n",
    "        if idx>0: \n",
    "            # Fixes #2\n",
    "            raise IndexError(f\"BaseBx has only a single coordinate at idx=0. Got idx={idx}.\")\n",
    "        return self\n",
    "\n",
    "@patch\n",
    "def __next__(self:BaseBx):\n",
    "    \"\"\"Iteration is allowed only for valid boxes\"\"\"\n",
    "    try:\n",
    "        b = self[self.index]\n",
    "        if not b.valid:\n",
    "            # 0 area boxes are not valid\n",
    "            self.index += 1\n",
    "            return self.__next__()\n",
    "    except IndexError:\n",
    "        self.index = 0  # reset index\n",
    "        raise StopIteration\n",
    "    self.index += 1\n",
    "    return b"
   ]
  },
  {
   "cell_type": "code",
   "execution_count": null,
   "metadata": {},
   "outputs": [],
   "source": [
    "b = BaseBx(annots, 'flower')"
   ]
  },
  {
   "cell_type": "code",
   "execution_count": null,
   "metadata": {},
   "outputs": [
    {
     "data": {
      "text/plain": [
       "BaseBx(coords=[[14, 51, 71, 92]], label=['flower'])"
      ]
     },
     "execution_count": null,
     "metadata": {},
     "output_type": "execute_result"
    }
   ],
   "source": [
    "next(b)"
   ]
  },
  {
   "cell_type": "code",
   "execution_count": null,
   "metadata": {},
   "outputs": [],
   "source": [
    "for b_ in b:\n",
    "    print(b_)"
   ]
  },
  {
   "cell_type": "markdown",
   "metadata": {},
   "source": [
    "Working with multiple bounding boxes and annotaions is usually done with the help\n",
    "of `MultiBx`. `MultiBx` allows iteration."
   ]
  },
  {
   "cell_type": "code",
   "execution_count": null,
   "metadata": {},
   "outputs": [],
   "source": [
    "# | export\n",
    "class MultiBx:\n",
    "    \"\"\"`MultiBx` represents a collection of bounding boxes as ndarrays.\n",
    "    Objects of type `MultiBx` can be indexed into, which returns a\n",
    "    `BaseBx` exposing a suite of box-bound operations.\n",
    "    Multiple coordinates and labels of bounding boxes can be wrapped\n",
    "    as a `MultiBx` using:\n",
    "        `mbx(coords, label)`.\n",
    "    :param coords: can be nested coordinates of type `list` of `list`s/`json` records\n",
    "        (`list`s of `dict`s)/`ndarray`s representing multiple boxes.\n",
    "        If passing a list/json each index of the object should be of the following formats:\n",
    "        - `list` can be formatted with `label`: `[x_min, y_min, x_max, y_max, label]`\n",
    "            or without `label`: `[x_min, y_min, x_max, y_max]`\n",
    "        - `dict` should be in `pascal_voc` format using the keys\n",
    "            {\"x_min\": 0, \"y_min\": 0, \"x_max\": 1, \"y_max\": 1, \"label\": 'none'}\n",
    "        If passing an `ndarray`, it should be of shape `(N,4)`.\n",
    "\n",
    "    :param label: a `list` of `str`s that has the class name or label for the object in the\n",
    "    corresponding box.\n",
    "    \"\"\"\n",
    "\n",
    "    def __init__(self, coords, label: list = None):\n",
    "        index = 0\n",
    "        coords = coords.tolist() if isinstance(coords, np.ndarray) else list(coords)\n",
    "        if label is None:\n",
    "            label = [None] * len(coords)\n",
    "        assert len(coords) == len(\n",
    "            label\n",
    "        ), f\"wrong shape for coords {len(coords)} and label {len(label)}\"\n",
    "        bxs = [BaseBx([list(c)], l) for c, l in zip(coords, label)]\n",
    "        store_attr(\"coords, label, index, bxs\")\n",
    "\n",
    "    def __len__(self):\n",
    "        \"\"\"Gets the length of coordinates.\"\"\"\n",
    "        return len(self.bxs)\n",
    "\n",
    "    def __getitem__(self, idx):\n",
    "        \"\"\"Gets the item at index idx as a BaseBx.\"\"\"\n",
    "        return self.bxs[idx]\n",
    "\n",
    "    def __iter__(self):\n",
    "        \"\"\"Iterates through the boxes in `MultiBx` where self.valid is True.\"\"\"\n",
    "        return self\n",
    "\n",
    "    def __next__(self):\n",
    "        \"\"\"Iteration is allowed only for valid boxes\"\"\"\n",
    "        try:\n",
    "            b = self[self.index]\n",
    "            if not b.valid:\n",
    "                # 0 area boxes are not valid\n",
    "                self.index += 1\n",
    "                return self.__next__() \n",
    "        except IndexError:\n",
    "            self.index = 0  # reset index\n",
    "            raise StopIteration\n",
    "        self.index += 1\n",
    "        return b\n",
    "\n",
    "    def __str__(self):\n",
    "        return f\"MultiBx(coords={self.coords}, label={self.label})\"\n",
    "\n",
    "    def __repr__(self):\n",
    "        return self.__str__()\n",
    "\n",
    "    @property\n",
    "    def shape(self):\n",
    "        \"\"\"Returns shape of the coordinates\"\"\"\n",
    "        return self.coords.shape\n"
   ]
  },
  {
   "cell_type": "code",
   "execution_count": null,
   "metadata": {},
   "outputs": [],
   "source": [
    "#| export \n",
    "BX_TYPE = (Bx, MultiBx)"
   ]
  },
  {
   "cell_type": "markdown",
   "metadata": {},
   "source": [
    "Generate random coordinates:"
   ]
  },
  {
   "cell_type": "code",
   "execution_count": null,
   "metadata": {},
   "outputs": [
    {
     "data": {
      "text/plain": [
       "[[14, 51, 71, 92], [20, 60, 82, 86], [74, 74, 87, 99]]"
      ]
     },
     "execution_count": null,
     "metadata": {},
     "output_type": "execute_result"
    }
   ],
   "source": [
    "np.random.seed(42)\n",
    "annots = [sorted([np.random.randint(100) for i in range(4)]) for j in range(3)]\n",
    "annots"
   ]
  },
  {
   "cell_type": "markdown",
   "metadata": {},
   "source": [
    "All annotations are stored as a `BaseBx` in a container called `MultiBx`"
   ]
  },
  {
   "cell_type": "code",
   "execution_count": null,
   "metadata": {},
   "outputs": [
    {
     "data": {
      "text/plain": [
       "MultiBx(coords=[[14, 51, 71, 92], [20, 60, 82, 86], [74, 74, 87, 99]], label=['apple', 'coke', 'tree'])"
      ]
     },
     "execution_count": null,
     "metadata": {},
     "output_type": "execute_result"
    }
   ],
   "source": [
    "bxs = MultiBx(annots, ['apple', 'coke', 'tree'])\n",
    "bxs"
   ]
  },
  {
   "cell_type": "markdown",
   "metadata": {},
   "source": [
    "Each index reveals the stored coordinate as a `BaseBx`"
   ]
  },
  {
   "cell_type": "code",
   "execution_count": null,
   "metadata": {},
   "outputs": [
    {
     "data": {
      "text/plain": [
       "BaseBx(coords=[[14, 51, 71, 92]], label=['apple'])"
      ]
     },
     "execution_count": null,
     "metadata": {},
     "output_type": "execute_result"
    }
   ],
   "source": [
    "bxs[0] "
   ]
  },
  {
   "cell_type": "markdown",
   "metadata": {},
   "source": [
    "They can also be iterated:"
   ]
  },
  {
   "cell_type": "code",
   "execution_count": null,
   "metadata": {},
   "outputs": [
    {
     "data": {
      "text/plain": [
       "BaseBx(coords=[[14, 51, 71, 92]], label=['apple'])"
      ]
     },
     "execution_count": null,
     "metadata": {},
     "output_type": "execute_result"
    }
   ],
   "source": [
    "next(bxs)"
   ]
  },
  {
   "cell_type": "markdown",
   "metadata": {},
   "source": [
    "Or using list comprehension, properties of individual boxes can be extracted"
   ]
  },
  {
   "cell_type": "code",
   "execution_count": null,
   "metadata": {},
   "outputs": [
    {
     "data": {
      "text/plain": [
       "[1612, 325]"
      ]
     },
     "execution_count": null,
     "metadata": {},
     "output_type": "execute_result"
    }
   ],
   "source": [
    "[b.area for b in bxs]"
   ]
  },
  {
   "cell_type": "code",
   "execution_count": null,
   "metadata": {},
   "outputs": [
    {
     "data": {
      "text/plain": [
       "True"
      ]
     },
     "execution_count": null,
     "metadata": {},
     "output_type": "execute_result"
    }
   ],
   "source": [
    "bxs[0].valid"
   ]
  },
  {
   "cell_type": "code",
   "execution_count": null,
   "metadata": {},
   "outputs": [],
   "source": []
  },
  {
   "cell_type": "code",
   "execution_count": null,
   "metadata": {},
   "outputs": [
    {
     "data": {
      "text/plain": [
       "(#1) [[51.0, 73.0, 62.0, 26.0]]"
      ]
     },
     "execution_count": null,
     "metadata": {},
     "output_type": "execute_result"
    }
   ],
   "source": [
    "bxs[1].yolo()"
   ]
  },
  {
   "cell_type": "code",
   "execution_count": null,
   "metadata": {},
   "outputs": [
    {
     "data": {
      "text/plain": [
       "2337"
      ]
     },
     "execution_count": null,
     "metadata": {},
     "output_type": "execute_result"
    }
   ],
   "source": [
    "bxs[0].area"
   ]
  },
  {
   "cell_type": "code",
   "execution_count": null,
   "metadata": {},
   "outputs": [
    {
     "data": {
      "text/plain": [
       "[2337, 1612, 325]"
      ]
     },
     "execution_count": null,
     "metadata": {},
     "output_type": "execute_result"
    }
   ],
   "source": [
    "[b_.area for b_ in bxs]"
   ]
  },
  {
   "cell_type": "markdown",
   "metadata": {},
   "source": [
    "Extending `BaseBx` to also accept (`json`, `dict`) formatted coordinates and labels."
   ]
  },
  {
   "cell_type": "code",
   "execution_count": null,
   "metadata": {},
   "outputs": [],
   "source": [
    "#| export\n",
    "class __JsonBx(MultiBx):\n",
    "    \"\"\"\n",
    "    If five items per coordinate are passed, the last index is taken as the label.\n",
    "    \"\"\"\n",
    "\n",
    "    def __init__(self, coords, label: list = None):\n",
    "        super().__init__(coords, label) \n",
    "\n",
    "    @classmethod\n",
    "    def jsonbx(cls, coords, label=None, keys=None):\n",
    "        \"\"\"Classmethod for JsonBx. \n",
    "        \n",
    "        Also accepts keys as a list, otherwise uses `voc_keys`.\n",
    "        \"\"\"\n",
    "        l = L()\n",
    "        r = L()\n",
    "        for i, c in enumerate(coords):\n",
    "            assert isinstance(c, ITER_TYPES+ITER_TYPES_EXTRA), f\"{inspect.stack()[0][3]} of \\\n",
    "                {__name__}: Expected b of type dict, got {type(c)}\"\n",
    "            if keys is None:\n",
    "                # Fixes issue #3.\n",
    "                keys = update_keys(c, default_keys=voc_keys)\n",
    "            c_ = [c[k] for k in keys]  # read in order\n",
    "            l_ = c_[-1] if len(c_) > 4 else \"\" if label is None else label[i]\n",
    "            l.append(l_)\n",
    "            r.append(c_[:-1] if len(c_) > 4 else c_)\n",
    "        return cls(r, label=l)\n",
    "\n",
    "    def __str__(self):\n",
    "        return f'__JsonBx(coords={self.coords}, label={self.label})'\n",
    "\n",
    "def jbx(coords=None, labels=None, keys=None):\n",
    "    \"\"\"Alias of the JsonBx class to process `json` records into\n",
    "    `MultiBx` or `BaseBx` objects exposing many validation methods\n",
    "\n",
    "    Also accepts keys as a list, otherwise uses `voc_keys`.\n",
    "    \"\"\"\n",
    "    return __JsonBx.jsonbx(coords, labels, keys)"
   ]
  },
  {
   "cell_type": "code",
   "execution_count": null,
   "metadata": {},
   "outputs": [
    {
     "data": {
      "text/plain": [
       "[{'x_min': 130, 'y_min': 63, 'x_max': 225, 'y_max': 180, 'label': 'clock'},\n",
       " {'x_min': 13, 'y_min': 158, 'x_max': 90, 'y_max': 213, 'label': 'frame'}]"
      ]
     },
     "execution_count": null,
     "metadata": {},
     "output_type": "execute_result"
    }
   ],
   "source": [
    "annots = json.load(open('../data/annots.json'))\n",
    "annots"
   ]
  },
  {
   "cell_type": "code",
   "execution_count": null,
   "metadata": {},
   "outputs": [
    {
     "data": {
      "text/plain": [
       "__JsonBx(coords=[[130, 63, 225, 180], [13, 158, 90, 213]], label=['clock', 'frame'])"
      ]
     },
     "execution_count": null,
     "metadata": {},
     "output_type": "execute_result"
    }
   ],
   "source": [
    "jbx(annots, keys=voc_keys)"
   ]
  },
  {
   "cell_type": "markdown",
   "metadata": {},
   "source": [
    "Also accepts keys (for the dict) as a list, otherwise uses `voc_keys`."
   ]
  },
  {
   "cell_type": "code",
   "execution_count": null,
   "metadata": {},
   "outputs": [
    {
     "data": {
      "text/plain": [
       "['x_min', 'y_min', 'x_max', 'y_max', 'label']"
      ]
     },
     "execution_count": null,
     "metadata": {},
     "output_type": "execute_result"
    }
   ],
   "source": [
    "voc_keys"
   ]
  },
  {
   "cell_type": "markdown",
   "metadata": {},
   "source": [
    "Making `MultiBx` work with lists with more than 4 items. It is a common practice\n",
    "to have the class label along with the coordinates. This classmethod is useful in such \n",
    "situations"
   ]
  },
  {
   "cell_type": "code",
   "execution_count": null,
   "metadata": {},
   "outputs": [
    {
     "data": {
      "text/plain": [
       "(numpy.ndarray, list, fastcore.foundation.L)"
      ]
     },
     "execution_count": null,
     "metadata": {},
     "output_type": "execute_result"
    }
   ],
   "source": [
    "ITER_TYPES"
   ]
  },
  {
   "cell_type": "code",
   "execution_count": null,
   "metadata": {},
   "outputs": [],
   "source": [
    "#| export\n",
    "class __ListBx(MultiBx):\n",
    "    \"\"\"\n",
    "    If five items per coordinate are passed, the last index is taken as the label.\n",
    "    \"\"\"\n",
    "\n",
    "    def __init__(self, coords, label: list = None):\n",
    "        super().__init__(coords, label) \n",
    "\n",
    "    @classmethod\n",
    "    def listbx(cls, coords, label=None):\n",
    "        \"\"\"Classmethod for __ListBx.\n",
    "        \"\"\"\n",
    "        l = L()\n",
    "        r = L()\n",
    "        for i, c in enumerate(coords):\n",
    "            assert isinstance(c, ITER_TYPES), f\"{inspect.stack()[0][3]} of \\\n",
    "                {__name__}: Expected b of type list, got {type(c)}\"\n",
    "            l_ = label[i] if label else c[-1] if len(c) > 4 else None\n",
    "            l.append(l_)\n",
    "            r.append(c[:-1] if len(c) > 4 else c) \n",
    "        return cls(r, label=l)\n",
    "    \n",
    "    def __str__(self):\n",
    "        return f'__ListBx(coords={self.coords}, label={self.label})'\n",
    "\n",
    "def lbx(coords=None, labels=None):\n",
    "    \"\"\"Alias of the __ListBx class to process `list` into\n",
    "    `MultiBx` or `BaseBx` objects exposing many validation methods \n",
    "    \"\"\"\n",
    "    return __ListBx.listbx(coords, labels)"
   ]
  },
  {
   "cell_type": "code",
   "execution_count": null,
   "metadata": {},
   "outputs": [
    {
     "data": {
      "text/plain": [
       "[[10, 20, 100, 200, 'apple'], [40, 50, 80, 90, 'coke']]"
      ]
     },
     "execution_count": null,
     "metadata": {},
     "output_type": "execute_result"
    }
   ],
   "source": [
    "annots = [[10, 20, 100, 200, 'apple'], [40, 50, 80, 90, 'coke'], ]\n",
    "annots"
   ]
  },
  {
   "cell_type": "code",
   "execution_count": null,
   "metadata": {},
   "outputs": [
    {
     "data": {
      "text/plain": [
       "__ListBx(coords=[[10, 20, 100, 200], [40, 50, 80, 90]], label=['apple', 'coke'])"
      ]
     },
     "execution_count": null,
     "metadata": {},
     "output_type": "execute_result"
    }
   ],
   "source": [
    "lbx(annots)"
   ]
  },
  {
   "cell_type": "code",
   "execution_count": null,
   "metadata": {},
   "outputs": [
    {
     "data": {
      "text/plain": [
       "BaseBx(coords=[[10, 20, 100, 200]], label=['apple'])"
      ]
     },
     "execution_count": null,
     "metadata": {},
     "output_type": "execute_result"
    }
   ],
   "source": [
    "lbx(annots)[0]"
   ]
  },
  {
   "cell_type": "markdown",
   "metadata": {},
   "source": [
    "Inserting classmethod to process lists and dicts in `MultiBx`."
   ]
  },
  {
   "cell_type": "code",
   "execution_count": null,
   "metadata": {},
   "outputs": [],
   "source": [
    "#| export\n",
    "@patch(cls_method=True)\n",
    "def multibox(cls:MultiBx, coords, label: list = None, keys: list=None):\n",
    "    \"\"\"Classmethod for `MultiBx`. Same as mbx(coords, label).\n",
    "    Calls classmethods of `JsonBx` and `ListBx` based on the type\n",
    "    of coords passed.\n",
    "    \"\"\"\n",
    "    t = explode_types(coords)\n",
    "    # if explode_types returns a single class, it means they are not nested\n",
    "    if t == np.ndarray: \n",
    "        return cls(coords, label)\n",
    "    if t == dict: \n",
    "        b = jbx([coords], label, keys)\n",
    "        return cls(b.coords, b.label)\n",
    "    if t == list: \n",
    "        b = lbx([coords], label)\n",
    "        return cls(b.coords, b.label)\n",
    "    # if list of list or dicts\n",
    "    type_l0 = list(t.keys())[0]\n",
    "    type_l1 = t[type_l0][0]\n",
    "    # process the data\n",
    "    if type_l1 == dict: \n",
    "        b = jbx(coords, label, keys)\n",
    "        return cls(b.coords, b.label)\n",
    "    # process lists of lists or ndarray\n",
    "    try: \n",
    "        b = lbx(coords, label)\n",
    "        return cls(b.coords, b.label)\n",
    "    except: \n",
    "        return cls(coords, label)        \n",
    "    \n",
    "def mbx(coords=None, label=None, keys=None):\n",
    "    \"\"\"Alias of the `MultiBx` class.\"\"\"\n",
    "    return MultiBx.multibox(coords, label, keys)\n"
   ]
  },
  {
   "cell_type": "code",
   "execution_count": null,
   "metadata": {},
   "outputs": [
    {
     "data": {
      "text/plain": [
       "[[10, 20, 100, 200, 'apple'], [40, 50, 80, 90, 'coke']]"
      ]
     },
     "execution_count": null,
     "metadata": {},
     "output_type": "execute_result"
    }
   ],
   "source": [
    "annots_list = annots\n",
    "annots_list"
   ]
  },
  {
   "cell_type": "code",
   "execution_count": null,
   "metadata": {},
   "outputs": [
    {
     "data": {
      "text/plain": [
       "[{'x_min': 130, 'y_min': 63, 'x_max': 225, 'y_max': 180, 'label': 'clock'},\n",
       " {'x_min': 13, 'y_min': 158, 'x_max': 90, 'y_max': 213, 'label': 'frame'}]"
      ]
     },
     "execution_count": null,
     "metadata": {},
     "output_type": "execute_result"
    }
   ],
   "source": [
    "annots_json = json.load(open('../data/annots.json'))\n",
    "annots_json"
   ]
  },
  {
   "cell_type": "markdown",
   "metadata": {},
   "source": [
    "How the class method works:"
   ]
  },
  {
   "cell_type": "code",
   "execution_count": null,
   "metadata": {},
   "outputs": [
    {
     "data": {
      "text/plain": [
       "{list: [{list: [int, int, int, int, str]}, {list: [int, int, int, int, str]}]}"
      ]
     },
     "execution_count": null,
     "metadata": {},
     "output_type": "execute_result"
    }
   ],
   "source": [
    "t = explode_types(annots_list)  # get all types\n",
    "t"
   ]
  },
  {
   "cell_type": "code",
   "execution_count": null,
   "metadata": {},
   "outputs": [
    {
     "data": {
      "text/plain": [
       "{list: [int, int, int, int, str]}"
      ]
     },
     "execution_count": null,
     "metadata": {},
     "output_type": "execute_result"
    }
   ],
   "source": [
    "t[list][0]  # index into the nested list and call the right class"
   ]
  },
  {
   "cell_type": "code",
   "execution_count": null,
   "metadata": {},
   "outputs": [
    {
     "data": {
      "text/plain": [
       "MultiBx(coords=[[130, 63, 225, 180], [13, 158, 90, 213]], label=['clock', 'frame'])"
      ]
     },
     "execution_count": null,
     "metadata": {},
     "output_type": "execute_result"
    }
   ],
   "source": [
    "mbx(annots_json)"
   ]
  },
  {
   "cell_type": "code",
   "execution_count": null,
   "metadata": {},
   "outputs": [
    {
     "data": {
      "text/plain": [
       "MultiBx(coords=[[10, 20, 100, 200], [40, 50, 80, 90]], label=['apple', 'coke'])"
      ]
     },
     "execution_count": null,
     "metadata": {},
     "output_type": "execute_result"
    }
   ],
   "source": [
    "mbx(annots_list)"
   ]
  },
  {
   "cell_type": "code",
   "execution_count": null,
   "metadata": {},
   "outputs": [
    {
     "data": {
      "text/plain": [
       "MultiBx(coords=[[130, 63, 225, 180]], label=['clock'])"
      ]
     },
     "execution_count": null,
     "metadata": {},
     "output_type": "execute_result"
    }
   ],
   "source": [
    "mbx(annots_json[0])"
   ]
  },
  {
   "cell_type": "markdown",
   "metadata": {},
   "source": [
    "Checking if it works with ndarrays"
   ]
  },
  {
   "cell_type": "code",
   "execution_count": null,
   "metadata": {},
   "outputs": [
    {
     "data": {
      "text/plain": [
       "array([[14, 51, 71, 92],\n",
       "       [20, 60, 82, 86],\n",
       "       [74, 74, 87, 99]])"
      ]
     },
     "execution_count": null,
     "metadata": {},
     "output_type": "execute_result"
    }
   ],
   "source": [
    "np.random.seed(42)\n",
    "annots = np.array([sorted([np.random.randint(100) for i in range(4)]) for j in range(3)])\n",
    "annots"
   ]
  },
  {
   "cell_type": "code",
   "execution_count": null,
   "metadata": {},
   "outputs": [
    {
     "data": {
      "text/plain": [
       "MultiBx(coords=[[14, 51, 71, 92], [20, 60, 82, 86], [74, 74, 87, 99]], label=[None, None, None])"
      ]
     },
     "execution_count": null,
     "metadata": {},
     "output_type": "execute_result"
    }
   ],
   "source": [
    "mbx(annots)"
   ]
  },
  {
   "cell_type": "markdown",
   "metadata": {},
   "source": [
    "Allowing `BaseBx` to process a single `dict` and `list` directly."
   ]
  },
  {
   "cell_type": "code",
   "execution_count": null,
   "metadata": {},
   "outputs": [],
   "source": [
    "#| export\n",
    "@patch(cls_method=True)\n",
    "def basebx(cls:BaseBx, coords, label: list = None, keys: list = voc_keys):\n",
    "    \"\"\"Classmethod for `BaseBx`. Same as bbx(coords, label), made to work with\n",
    "    other object types other than ndarray.\"\"\"\n",
    "    try:\n",
    "        coords, label = make_single_iterable(coords, keys=keys)\n",
    "    except ValueError:\n",
    "        coords = make_single_iterable(coords)\n",
    "    finally:\n",
    "        return cls(coords, label)\n",
    "\n",
    "def bbx(coords=None, labels=None, keys=voc_keys):\n",
    "    \"\"\"Alias of the `BaseBx` class.\"\"\"\n",
    "    return BaseBx.basebx(coords, labels, keys)"
   ]
  },
  {
   "cell_type": "markdown",
   "metadata": {},
   "source": [
    "Remember that `BaseBx` can only have one box coordinate and label at a time."
   ]
  },
  {
   "cell_type": "code",
   "execution_count": null,
   "metadata": {},
   "outputs": [
    {
     "data": {
      "text/plain": [
       "[[10, 20, 100, 200, 'apple'], [40, 50, 80, 90, 'coke']]"
      ]
     },
     "execution_count": null,
     "metadata": {},
     "output_type": "execute_result"
    }
   ],
   "source": [
    "annots_list"
   ]
  },
  {
   "cell_type": "markdown",
   "metadata": {},
   "source": [
    "What does `make_single_iterable` do? It converts a single list or dict of \n",
    "coordinates into an iterable list that can be used by `BaseBx`."
   ]
  },
  {
   "cell_type": "code",
   "execution_count": null,
   "metadata": {},
   "outputs": [
    {
     "data": {
      "text/plain": [
       "[10, 20, 100, 200, 'apple']"
      ]
     },
     "execution_count": null,
     "metadata": {},
     "output_type": "execute_result"
    }
   ],
   "source": [
    "annots_list[0]"
   ]
  },
  {
   "cell_type": "code",
   "execution_count": null,
   "metadata": {},
   "outputs": [
    {
     "data": {
      "text/plain": [
       "((#1) [[10, 20, 100, 200]], ['apple'])"
      ]
     },
     "execution_count": null,
     "metadata": {},
     "output_type": "execute_result"
    }
   ],
   "source": [
    "make_single_iterable(annots_list[0], keys=voc_keys)"
   ]
  },
  {
   "cell_type": "markdown",
   "metadata": {},
   "source": [
    "The class method makes it easier to directly call `BaseBx` without making the coordinates a list of list."
   ]
  },
  {
   "cell_type": "code",
   "execution_count": null,
   "metadata": {},
   "outputs": [
    {
     "data": {
      "text/plain": [
       "BaseBx(coords=[[10, 20, 100, 200]], label=['apple'])"
      ]
     },
     "execution_count": null,
     "metadata": {},
     "output_type": "execute_result"
    }
   ],
   "source": [
    "bbx(annots_list[0])"
   ]
  },
  {
   "cell_type": "code",
   "execution_count": null,
   "metadata": {},
   "outputs": [
    {
     "data": {
      "text/plain": [
       "[10, 20, 100, 200]"
      ]
     },
     "execution_count": null,
     "metadata": {},
     "output_type": "execute_result"
    }
   ],
   "source": [
    "annots_list[0][:-1]"
   ]
  },
  {
   "cell_type": "code",
   "execution_count": null,
   "metadata": {},
   "outputs": [
    {
     "data": {
      "text/plain": [
       "BaseBx(coords=[[10, 20, 100, 200]], label=[])"
      ]
     },
     "execution_count": null,
     "metadata": {},
     "output_type": "execute_result"
    }
   ],
   "source": [
    "bbx(annots_list[0][:-1])  # if label is not passed"
   ]
  },
  {
   "cell_type": "code",
   "execution_count": null,
   "metadata": {},
   "outputs": [
    {
     "data": {
      "text/plain": [
       "BaseBx(coords=[[130, 63, 225, 180]], label=['clock'])"
      ]
     },
     "execution_count": null,
     "metadata": {},
     "output_type": "execute_result"
    }
   ],
   "source": [
    "bbx(annots_json[0])"
   ]
  },
  {
   "cell_type": "markdown",
   "metadata": {},
   "source": [
    "# `get_bx`\n",
    "\n",
    "When in doubt, use `get_bx`."
   ]
  },
  {
   "cell_type": "code",
   "execution_count": null,
   "metadata": {},
   "outputs": [
    {
     "data": {
      "text/plain": [
       "(numpy.ndarray, list, fastcore.foundation.L)"
      ]
     },
     "execution_count": null,
     "metadata": {},
     "output_type": "execute_result"
    }
   ],
   "source": [
    "ITER_TYPES"
   ]
  },
  {
   "cell_type": "code",
   "execution_count": null,
   "metadata": {},
   "outputs": [],
   "source": [
    "#| export \n",
    "\n",
    "def get_bx(coords, label=None):\n",
    "    \"\"\"\n",
    "    Helper function to check and call the correct type of Bx instance.\n",
    "\n",
    "    Checks for the type of data passed and calls the respective class \n",
    "    to generate a Bx instance. Currently only supports ndarray, list, dict, \n",
    "    tuple, nested list, nested tuple.\n",
    "\n",
    "    Parameters\n",
    "    ----------\n",
    "    coords : ndarray, list, dict, tuple, nested list, nested tuple\n",
    "        Coordinates of anchor boxes.\n",
    "    label : list, optional\n",
    "        Labels for anchor boxes in order, by default None\n",
    "\n",
    "    Returns\n",
    "    -------\n",
    "    Bx\n",
    "        An instance of MultiBx, ListBx, BaseBx or JsonBx\n",
    "\n",
    "    Raises\n",
    "    ------\n",
    "    NotImplementedError\n",
    "        If unknown type of coordinates are passed.\n",
    "    \"\"\"\n",
    "    # process ndarray\n",
    "    if isinstance(coords, np.ndarray):\n",
    "        coords = np.atleast_2d(coords)\n",
    "        return mbx(coords, label)\n",
    "    # process list\n",
    "    if isinstance(coords, (list, L)): \n",
    "        if isinstance(coords[0], COORD_TYPES):\n",
    "            \"\"\"If first item is a position\"\"\"\n",
    "            return bbx(coords, label)\n",
    "        elif isinstance(coords[0], ITER_TYPES+ITER_TYPES_EXTRA):\n",
    "            \"\"\"If fist item is an iterable\"\"\"\n",
    "            return mbx(coords, label)\n",
    "        elif isinstance(coords[0], ITER_TYPES_TUPLE):\n",
    "            \"\"\"If first item is a tuple\"\"\"\n",
    "            return mbx([list(c) for c in coords], label)\n",
    "    # process dict\n",
    "    if isinstance(coords, dict):\n",
    "        return bbx([coords], label)\n",
    "    # process tuple\n",
    "    if isinstance(coords, tuple):\n",
    "        return bbx(list(coords), label)\n",
    "    # process BX_TYPE\n",
    "    if isinstance(coords, BX_TYPE):\n",
    "        return coords\n",
    "    else:\n",
    "        raise NotImplementedError(\n",
    "            f\"{inspect.stack()[0][3]} of {__name__}: Got coords={coords} of type {type(coords)}.\"\n",
    "        )"
   ]
  },
  {
   "cell_type": "markdown",
   "metadata": {},
   "source": [
    "`get_bx` runs a bunch of if-else statements to call the right module when in doubt."
   ]
  },
  {
   "cell_type": "code",
   "execution_count": null,
   "metadata": {},
   "outputs": [
    {
     "data": {
      "text/plain": [
       "[{'x_min': 130, 'y_min': 63, 'x_max': 225, 'y_max': 180, 'label': 'clock'},\n",
       " {'x_min': 13, 'y_min': 158, 'x_max': 90, 'y_max': 213, 'label': 'frame'}]"
      ]
     },
     "execution_count": null,
     "metadata": {},
     "output_type": "execute_result"
    }
   ],
   "source": [
    "annots_json"
   ]
  },
  {
   "cell_type": "code",
   "execution_count": null,
   "metadata": {},
   "outputs": [
    {
     "data": {
      "text/plain": [
       "MultiBx(coords=[[130, 63, 225, 180], [13, 158, 90, 213]], label=['clock', 'frame'])"
      ]
     },
     "execution_count": null,
     "metadata": {},
     "output_type": "execute_result"
    }
   ],
   "source": [
    "get_bx(annots_json)"
   ]
  },
  {
   "cell_type": "code",
   "execution_count": null,
   "metadata": {},
   "outputs": [
    {
     "data": {
      "text/plain": [
       "5"
      ]
     },
     "execution_count": null,
     "metadata": {},
     "output_type": "execute_result"
    }
   ],
   "source": [
    "len(annots_json[0])"
   ]
  },
  {
   "cell_type": "code",
   "execution_count": null,
   "metadata": {},
   "outputs": [
    {
     "data": {
      "text/plain": [
       "MultiBx(coords=[[130, 63, 225, 180]], label=['clock'])"
      ]
     },
     "execution_count": null,
     "metadata": {},
     "output_type": "execute_result"
    }
   ],
   "source": [
    "get_bx([annots_json[0]])"
   ]
  },
  {
   "cell_type": "code",
   "execution_count": null,
   "metadata": {},
   "outputs": [
    {
     "data": {
      "text/plain": [
       "MultiBx(coords=[[10, 20, 100, 200], [40, 50, 80, 90]], label=['apple', 'coke'])"
      ]
     },
     "execution_count": null,
     "metadata": {},
     "output_type": "execute_result"
    }
   ],
   "source": [
    "get_bx(annots_list)"
   ]
  },
  {
   "cell_type": "code",
   "execution_count": null,
   "metadata": {},
   "outputs": [
    {
     "data": {
      "text/plain": [
       "BaseBx(coords=[[0, 1, 0, 1]], label=[])"
      ]
     },
     "execution_count": null,
     "metadata": {},
     "output_type": "execute_result"
    }
   ],
   "source": [
    "get_bx([0, 1, 0, 1])"
   ]
  },
  {
   "cell_type": "markdown",
   "metadata": {},
   "source": [
    "The addition operation stacks the bounding boxes."
   ]
  },
  {
   "cell_type": "code",
   "execution_count": null,
   "metadata": {},
   "outputs": [],
   "source": [
    "#| export\n",
    "@patch\n",
    "def __add__(self:BaseBx, other):\n",
    "        \"\"\"Pseudo-add method that stacks the provided boxes and labels. Stacking two\n",
    "        boxes imply that the resulting box is a `MultiBx`: `BaseBx` + `BaseBx`\n",
    "        = `MultiBx`. This violates the idea of `BaseBx` since the result\n",
    "        holds more than 1 coordinate/label for the box.\n",
    "        From `v.2.0`, a `UserWarning` is issued if called.\n",
    "        Recommended use is either: `BaseBx` + `BaseBx` = `MultiBx` or\n",
    "        `basics.stack_bxs()`.\n",
    "        \"\"\"\n",
    "        if not isinstance(other, BX_TYPE):\n",
    "            raise TypeError(\n",
    "                f\"{inspect.stack()[0][3]} of {__name__}: Expected a subclass of {BX_TYPE}\"\n",
    "            )\n",
    "        else:\n",
    "            warnings.warn(\n",
    "                BxViolation(\n",
    "                    f\"Change of object type imminent if trying to add \"\n",
    "                    f\"{type(self)}+{type(other)}. Use {type(other)}+{type(self)} \"\n",
    "                    f\"instead or basics.stack_bxs().\"\n",
    "                )\n",
    "            )\n",
    "        coords = self.coords + other.coords\n",
    "        label = self.label + other.label\n",
    "        return mbx(coords, label)\n",
    "\n",
    "@patch\n",
    "def __add__(self:MultiBx, other):\n",
    "    \"\"\"Pseudo-add method that stacks the provided boxes and labels. Stacking two\n",
    "    boxes imply that the resulting box is a `MultiBx`: `MultiBx` + `MultiBx`\n",
    "    = `MultiBx`. Same as `basics.stack_bxs()`.\n",
    "    \"\"\"\n",
    "    if not isinstance(other, BX_TYPE):\n",
    "        raise TypeError(\n",
    "            f\"{inspect.stack()[0][3]} of {__name__}: Expected type {BX_TYPE}, \"\n",
    "            f\"got self={type(self)}, other={type(other)}\"\n",
    "        )\n",
    "    coords = self.coords + other.coords\n",
    "    label = self.label + other.label\n",
    "    return mbx(coords, label)"
   ]
  },
  {
   "cell_type": "code",
   "execution_count": null,
   "metadata": {},
   "outputs": [],
   "source": [
    "#| export\n",
    "def stack_bxs(b1, b2):\n",
    "    \"\"\"\n",
    "    Method to stack two Bx-types together. Similar to `__add__` of BxTypes\n",
    "    but avoids UserWarning.\n",
    "    :param b1: \n",
    "    :param b2: \n",
    "    :return:  \n",
    "    _summary_\n",
    "\n",
    "    Parameters\n",
    "    ----------\n",
    "    b1 : Bx, MultiBx\n",
    "        Anchor box coordinates Bx\n",
    "    b2 : Bx, MultiBx\n",
    "        Anchor box coordinates Bx\n",
    "\n",
    "    Returns\n",
    "    -------\n",
    "    MultiBx\n",
    "        Stacked anchor box coordinates of MultiBx type.\n",
    "\n",
    "    Raises\n",
    "    ------\n",
    "    TypeError\n",
    "        If unknown type of coordinates are passed.\n",
    "    \"\"\"\n",
    "\n",
    "    if not isinstance(b1, BX_TYPE):\n",
    "        raise TypeError(\n",
    "            f\"{inspect.stack()[0][3]} of {__name__}: Expected type {BX_TYPE}, got b1={type(b1)}\"\n",
    "        )\n",
    "    if not isinstance(b2, BX_TYPE):\n",
    "        raise TypeError(\n",
    "            f\"{inspect.stack()[0][3]} of {__name__}: Expected type {BX_TYPE}, got b2={type(b2)}\"\n",
    "        )\n",
    "    if isinstance(b1, BaseBx):\n",
    "        with warnings.catch_warnings():\n",
    "            warnings.filterwarnings(\"ignore\")\n",
    "            return b1 + b2\n",
    "    return b1 + b2\n",
    "\n",
    "\n",
    "def add_bxs(b1, b2):\n",
    "    \"\"\"Alias of stack_bxs().\"\"\"\n",
    "    return stack_bxs(b1, b2)\n",
    " "
   ]
  },
  {
   "cell_type": "code",
   "execution_count": null,
   "metadata": {},
   "outputs": [
    {
     "data": {
      "text/plain": [
       "BaseBx(coords=[[14, 51, 71, 92]], label=['flower'])"
      ]
     },
     "execution_count": null,
     "metadata": {},
     "output_type": "execute_result"
    }
   ],
   "source": [
    "b"
   ]
  },
  {
   "cell_type": "markdown",
   "metadata": {},
   "source": [
    "Internally this is what is done to stack them:"
   ]
  },
  {
   "cell_type": "code",
   "execution_count": null,
   "metadata": {},
   "outputs": [
    {
     "data": {
      "text/plain": [
       "([[14, 51, 71, 92], [20, 60, 82, 86], [74, 74, 87, 99], [14, 51, 71, 92]],\n",
       " (#4) ['apple','coke','tree','flower'])"
      ]
     },
     "execution_count": null,
     "metadata": {},
     "output_type": "execute_result"
    }
   ],
   "source": [
    "bxs.coords + b.coords, bxs.label + b.label"
   ]
  },
  {
   "cell_type": "code",
   "execution_count": null,
   "metadata": {},
   "outputs": [
    {
     "data": {
      "text/plain": [
       "MultiBx(coords=[[14, 51, 71, 92], [20, 60, 82, 86], [74, 74, 87, 99], [14, 51, 71, 92]], label=['apple', 'coke', 'tree', 'flower'])"
      ]
     },
     "execution_count": null,
     "metadata": {},
     "output_type": "execute_result"
    }
   ],
   "source": [
    "bxs + b"
   ]
  },
  {
   "cell_type": "markdown",
   "metadata": {},
   "source": [
    "Adding a `MultiBx` to a `BaseBx` makes the new set of coordinates a `MultiBx`, so a `BxViolation` warning is issued\n",
    "if this was not intended. "
   ]
  },
  {
   "cell_type": "code",
   "execution_count": null,
   "metadata": {},
   "outputs": [
    {
     "name": "stderr",
     "output_type": "stream",
     "text": [
      "/mnt/data/projects/pybx/.venv/lib/python3.7/site-packages/ipykernel_launcher.py:19: BxViolation: Change of object type imminent if trying to add <class '__main__.BaseBx'>+<class '__main__.MultiBx'>. Use <class '__main__.MultiBx'>+<class '__main__.BaseBx'> instead or basics.stack_bxs().\n"
     ]
    },
    {
     "data": {
      "text/plain": [
       "MultiBx(coords=[[14, 51, 71, 92], [14, 51, 71, 92], [20, 60, 82, 86], [74, 74, 87, 99]], label=['flower', 'apple', 'coke', 'tree'])"
      ]
     },
     "execution_count": null,
     "metadata": {},
     "output_type": "execute_result"
    }
   ],
   "source": [
    "b + bxs"
   ]
  },
  {
   "cell_type": "code",
   "execution_count": null,
   "metadata": {},
   "outputs": [
    {
     "data": {
      "text/plain": [
       "MultiBx(coords=[[14, 51, 71, 92], [14, 51, 71, 92], [20, 60, 82, 86], [74, 74, 87, 99]], label=['flower', 'apple', 'coke', 'tree'])"
      ]
     },
     "execution_count": null,
     "metadata": {},
     "output_type": "execute_result"
    }
   ],
   "source": [
    "stack_bxs(b, bxs)"
   ]
  },
  {
   "cell_type": "markdown",
   "metadata": {},
   "source": [
    "To avoid the `BxViolation`, use the method `stack_bxs`."
   ]
  },
  {
   "cell_type": "code",
   "execution_count": null,
   "metadata": {},
   "outputs": [
    {
     "data": {
      "text/plain": [
       "MultiBx(coords=[[14, 51, 71, 92], [20, 60, 82, 86], [74, 74, 87, 99], [14, 51, 71, 92]], label=['apple', 'coke', 'tree', 'flower'])"
      ]
     },
     "execution_count": null,
     "metadata": {},
     "output_type": "execute_result"
    }
   ],
   "source": [
    "stack_bxs(bxs, b)"
   ]
  },
  {
   "cell_type": "code",
   "execution_count": null,
   "metadata": {},
   "outputs": [],
   "source": [
    "#| export \n",
    "def stack_bxs_inplace(b, *args):\n",
    "    \"\"\"Stack the passed boxes on top of the first item.\"\"\"\n",
    "    for b_ in args:\n",
    "        b = stack_bxs(b, b_)\n",
    "    return b\n"
   ]
  },
  {
   "cell_type": "code",
   "execution_count": null,
   "metadata": {},
   "outputs": [],
   "source": [
    "boxes = [BaseBx(coords=[[200, 100, 300, 200]], label=['a_3x3_1.0_5']),\n",
    "         BaseBx(coords=[[214, 79, 285, 220]], label=['a_3x3_0.5_5']),\n",
    "         BaseBx(coords=[[222, 58, 277, 241]], label=['a_3x3_0.3_5'])]"
   ]
  },
  {
   "cell_type": "code",
   "execution_count": null,
   "metadata": {},
   "outputs": [],
   "source": [
    "stacked_bxs = stack_bxs_inplace(*boxes)"
   ]
  },
  {
   "cell_type": "code",
   "execution_count": null,
   "metadata": {},
   "outputs": [
    {
     "data": {
      "text/plain": [
       "MultiBx(coords=[[200, 100, 300, 200], [214, 79, 285, 220], [222, 58, 277, 241]], label=['a_3x3_1.0_5', 'a_3x3_0.5_5', 'a_3x3_0.3_5'])"
      ]
     },
     "execution_count": null,
     "metadata": {},
     "output_type": "execute_result"
    }
   ],
   "source": [
    "stacked_bxs"
   ]
  },
  {
   "cell_type": "code",
   "execution_count": null,
   "metadata": {},
   "outputs": [
    {
     "data": {
      "text/plain": [
       "3"
      ]
     },
     "execution_count": null,
     "metadata": {},
     "output_type": "execute_result"
    }
   ],
   "source": [
    "len(stacked_bxs)"
   ]
  },
  {
   "cell_type": "markdown",
   "metadata": {},
   "source": [
    "`BaseBx` also supports calculation of bounding box offset by calling the `get_offset()` method."
   ]
  },
  {
   "cell_type": "code",
   "execution_count": null,
   "metadata": {},
   "outputs": [
    {
     "data": {
      "text/plain": [
       "(BaseBx(coords=[[14, 51, 71, 92]], label=['flower']),\n",
       " BaseBx(coords=[[18, 44, 71, 90]], label=['probably_flower']))"
      ]
     },
     "execution_count": null,
     "metadata": {},
     "output_type": "execute_result"
    }
   ],
   "source": [
    "b1 = b\n",
    "b2 = BaseBx([[18, 44, 71, 90]], 'probably_flower')  # simulating the case where we might have a bbox prediction\n",
    "b1, b2"
   ]
  },
  {
   "cell_type": "code",
   "execution_count": null,
   "metadata": {},
   "outputs": [
    {
     "data": {
      "text/plain": [
       "array([[-4,  7,  0,  2]])"
      ]
     },
     "execution_count": null,
     "metadata": {},
     "output_type": "execute_result"
    }
   ],
   "source": [
    "(b.coords_as_numpy - b2.coords_as_numpy)"
   ]
  },
  {
   "cell_type": "code",
   "execution_count": null,
   "metadata": {},
   "outputs": [
    {
     "data": {
      "text/plain": [
       "array([[-2.,  7.,  0.,  2.]])"
      ]
     },
     "execution_count": null,
     "metadata": {},
     "output_type": "execute_result"
    }
   ],
   "source": [
    "(b.coords_as_numpy - b2.coords_as_numpy)/np.tile([2, 1], 2)"
   ]
  },
  {
   "cell_type": "code",
   "execution_count": null,
   "metadata": {},
   "outputs": [],
   "source": [
    "# | export\n",
    "\n",
    "\n",
    "@patch\n",
    "def get_offset(\n",
    "    self: BaseBx,\n",
    "    other: BaseBx,\n",
    "    normalize=True,\n",
    "    log_func=np.log,\n",
    "    sigma=(0.1, 0.2),\n",
    "    self_is_anchor=False,\n",
    "):\n",
    "    \"\"\"\n",
    "    Caclulates the offset of the box I with another box O. \n",
    "    The most basic calculation of offset involves a) taking the distance between the centers: `I_cx - O_cx`, `I_cy - O_cy`.\n",
    "    b) taking the ratio of the two boxes: `I_w/Ow, I_h/O_h`.\n",
    "\n",
    "    If `normalize=True`, the center distances and ratios are normalized as per https://arxiv.org/pdf/1512.02325.pdf\n",
    "    `(I_cx - O_cx)/O_w`, `(I_cy - O_cy)/O_h`, `log(I_w/Ow), log(I_h/O_h)`\n",
    "    These are further scaled with an appoximation of standard deviation for the distances and ratios\n",
    "    `((I_cx - O_cx)/O_w)/sigma_c`, `((I_cy - O_cy)/O_h)/sigma_c`, `log(I_w/Ow)/sigma_r, log(I_h/O_h)/sigma_r`\n",
    "\n",
    "    Args:\n",
    "        other (BaseBx): Any supported type of bounding box format, even takes a list of coordinates. Typically the anchor box.\n",
    "        normalize (bool, optional): Whether to normalize the offsets. Defaults to True.\n",
    "        log_func (func, optional): Function for normalizing the ratio of widths and heights. Defaults to np.log.\n",
    "        sigma (tuple, optional): Estimated of standard deviation for the distances and ratios. Defaults to (0.1, 0.2).\n",
    "        self_is_anchor (bool, optional): Typically `other` is assumed to be the anchor box, this flag tells that this assumption is False. Defaults to False.\n",
    "\n",
    "    Returns:\n",
    "        list: Offsets of the two bounding boxes\n",
    "    \"\"\" \n",
    "    if isinstance(other, MultiBx):\n",
    "        warnings.warn(BxViolation(f\"Other should be BaseBx, got MultiBx\"))\n",
    "        assert len(other) == 1, f\"{other} cannot be converted to single bounding box.\"\n",
    "        other = other[0]\n",
    "    elif not isinstance(other, Bx):\n",
    "        other = bbx(other)\n",
    "\n",
    "    if self_is_anchor:\n",
    "        # if self_is_anchor, ie anchor.get_offset(ground_truth) is called\n",
    "        anchor = self\n",
    "        gt = other\n",
    "    else:\n",
    "        # if not self_is_anchor, ie ground_truth.get_offset(anchor) is called (default behaviour)\n",
    "        gt = self\n",
    "        anchor = other\n",
    "    # get anchor box w and h\n",
    "    anchor_bw_norm = anchor.bw\n",
    "    anchor_bh_norm = anchor.bh\n",
    "    sigma_c, sigma_r = sigma\n",
    "    # if not normalize, reset params\n",
    "    if not normalize:\n",
    "        log_func = noop\n",
    "        sigma_c, sigma_r, anchor_bw_norm, anchor_bh_norm = [1.0] * 4\n",
    "    # center distances\n",
    "    # norm with anchor box w and h\n",
    "    cx_offset, cy_offset = (gt.cx - anchor.cx) / anchor_bw_norm, (\n",
    "        gt.cy - anchor.cy\n",
    "    ) / anchor_bh_norm\n",
    "    # scale of boxes\n",
    "    w_offset = log_func(gt.bw / anchor_bw_norm)\n",
    "    h_offset = log_func(gt.bh / anchor_bh_norm)\n",
    "\n",
    "    offset = np.asarray([cx_offset, cy_offset, w_offset, h_offset])\n",
    "    # norm with sigmaxy and sigmawh\n",
    "    # print(sigma_c, sigma_r)\n",
    "    offset /= np.repeat([sigma_c, sigma_r], 2)\n",
    "    # not np.tile as norm is cx/sigma_c, cy/sigma_c, w/sigma_r, h/sigma_r\n",
    "    return L(offset.round(4).tolist())"
   ]
  },
  {
   "cell_type": "code",
   "execution_count": null,
   "metadata": {},
   "outputs": [
    {
     "data": {
      "text/plain": [
       "array([1, 1, 2, 2])"
      ]
     },
     "execution_count": null,
     "metadata": {},
     "output_type": "execute_result"
    }
   ],
   "source": [
    "np.repeat([1, 2], 2)"
   ]
  },
  {
   "cell_type": "code",
   "execution_count": null,
   "metadata": {},
   "outputs": [
    {
     "data": {
      "text/plain": [
       "True"
      ]
     },
     "execution_count": null,
     "metadata": {},
     "output_type": "execute_result"
    }
   ],
   "source": [
    "isinstance(b, BaseBx)"
   ]
  },
  {
   "cell_type": "code",
   "execution_count": null,
   "metadata": {},
   "outputs": [
    {
     "data": {
      "text/plain": [
       "(BaseBx(coords=[[14, 51, 71, 92]], label=['flower']),\n",
       " BaseBx(coords=[[18, 44, 71, 90]], label=['probably_flower']))"
      ]
     },
     "execution_count": null,
     "metadata": {},
     "output_type": "execute_result"
    }
   ],
   "source": [
    "b, b2"
   ]
  },
  {
   "cell_type": "code",
   "execution_count": null,
   "metadata": {},
   "outputs": [
    {
     "data": {
      "text/plain": [
       "(#4) [-2.0,4.5,57.0,41.0]"
      ]
     },
     "execution_count": null,
     "metadata": {},
     "output_type": "execute_result"
    }
   ],
   "source": [
    "b.get_offset(b2, normalize=False)"
   ]
  },
  {
   "cell_type": "code",
   "execution_count": null,
   "metadata": {},
   "outputs": [
    {
     "data": {
      "text/plain": [
       "(#4) [-0.3774,0.9783,0.3638,-0.5753]"
      ]
     },
     "execution_count": null,
     "metadata": {},
     "output_type": "execute_result"
    }
   ],
   "source": [
    "b.get_offset(b2, normalize=True)"
   ]
  },
  {
   "cell_type": "markdown",
   "metadata": {},
   "source": [
    "To make sure consistency with the reverse case where self is the ground truth anchor box and ground truth bounding box is the other box, use the `self_is_anchor` flag."
   ]
  },
  {
   "cell_type": "code",
   "execution_count": null,
   "metadata": {},
   "outputs": [
    {
     "data": {
      "text/plain": [
       "(#4) [-0.3774,0.9783,0.3638,-0.5753]"
      ]
     },
     "execution_count": null,
     "metadata": {},
     "output_type": "execute_result"
    }
   ],
   "source": [
    "b2.get_offset(b, normalize=True, self_is_anchor=True) # correct"
   ]
  },
  {
   "cell_type": "markdown",
   "metadata": {},
   "source": [
    "If `self_is_anchor=False` flag is not turned on, when ground truth bounding box is the other box, the latter can lead to a systematic bug."
   ]
  },
  {
   "cell_type": "code",
   "execution_count": null,
   "metadata": {},
   "outputs": [
    {
     "data": {
      "text/plain": [
       "(#4) [0.3509,-1.0976,-0.3638,0.5753]"
      ]
     },
     "execution_count": null,
     "metadata": {},
     "output_type": "execute_result"
    }
   ],
   "source": [
    "b2.get_offset(b, normalize=True)  # not correct"
   ]
  },
  {
   "cell_type": "code",
   "execution_count": null,
   "metadata": {},
   "outputs": [],
   "source": []
  },
  {
   "cell_type": "code",
   "execution_count": null,
   "metadata": {},
   "outputs": [],
   "source": [
    "#|hide\n",
    "from nbdev import nbdev_export\n",
    "nbdev_export()"
   ]
  },
  {
   "cell_type": "code",
   "execution_count": null,
   "metadata": {},
   "outputs": [],
   "source": []
  }
 ],
 "metadata": {
  "kernelspec": {
   "display_name": "pybx-kernel",
   "language": "python",
   "name": "pybx-kernel"
  }
 },
 "nbformat": 4,
 "nbformat_minor": 4
}
