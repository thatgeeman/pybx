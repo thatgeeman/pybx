{
 "cells": [
  {
   "cell_type": "markdown",
   "metadata": {},
   "source": [
    "# Basic objects\n",
    "\n",
    "> Basic object types and methods utilized in `pybx`"
   ]
  },
  {
   "cell_type": "code",
   "execution_count": 32,
   "metadata": {},
   "outputs": [],
   "source": [
    "# | default_exp basics"
   ]
  },
  {
   "cell_type": "code",
   "execution_count": 33,
   "metadata": {},
   "outputs": [],
   "source": [
    "# | export\n",
    "import warnings\n",
    "import inspect\n",
    "from typing import Union, Dict\n",
    "from numpy.typing import ArrayLike\n",
    "\n",
    "import numpy as np\n",
    "from fastcore.dispatch import explode_types\n",
    "from fastcore.foundation import L, noop\n",
    "from fastcore.basics import concat, store_attr, patch, GetAttr\n",
    "from fastcore.xtras import is_listy\n",
    "\n",
    "from pybx.ops import (\n",
    "    mul,\n",
    "    sub,\n",
    "    intersection_box,\n",
    "    make_single_iterable,\n",
    "    voc_keys,\n",
    "    label_keys,\n",
    "    update_keys,\n",
    ")\n",
    "from pybx.excepts import *\n",
    "\n",
    "COORD_TYPES = (np.int_, int, np.float_)\n",
    "ITER_TYPE_JSON = Dict[str, str]\n",
    "ITER_TYPES = (np.ndarray, list, L)\n",
    "ITER_TYPES_TUPLE = (tuple,)\n",
    "ITER_TYPES_EXTRA = (dict, ITER_TYPE_JSON)\n",
    "ITER_TYPE_HASHED = (dict, ITER_TYPE_JSON)\n",
    "ALL_ITER_TYPES = ITER_TYPES + ITER_TYPES_TUPLE + ITER_TYPES_EXTRA\n",
    "ALL_TYPES = COORD_TYPES + ITER_TYPES"
   ]
  },
  {
   "cell_type": "code",
   "execution_count": 34,
   "metadata": {},
   "outputs": [],
   "source": [
    "import json\n",
    "from fastcore.test import test_eq, test_fail, test_warns, ExceptionExpected"
   ]
  },
  {
   "cell_type": "markdown",
   "metadata": {},
   "source": [
    "# Check validity of boxes"
   ]
  },
  {
   "cell_type": "code",
   "execution_count": 35,
   "metadata": {},
   "outputs": [],
   "source": [
    "# | export\n",
    "\n",
    "\n",
    "def check_format_types(b: list, verbose=False):\n",
    "    \"\"\"\n",
    "    Checks if the provided bounding box is in the correct format, typically of [int, int, int, int, str].\n",
    "\n",
    "    Args:\n",
    "        b (list): bounding box coordinates with or without label\n",
    "\n",
    "    Returns:\n",
    "        bool\n",
    "    \"\"\"\n",
    "    result = all(map(lambda x: isinstance(x, (COORD_TYPES, str)), b))\n",
    "    if verbose:\n",
    "        verbose_result = \"Passed\" if result else \"Failed\"\n",
    "        print(f\"{verbose_result} `check_format_types`.\")\n",
    "    return result"
   ]
  },
  {
   "cell_type": "code",
   "execution_count": 36,
   "metadata": {},
   "outputs": [],
   "source": [
    "list_bbox = [14, 51, 71, 92, \"item\"]\n",
    "list_bbox_nolabel = [14, 51, 71, 92]"
   ]
  },
  {
   "cell_type": "code",
   "execution_count": 37,
   "metadata": {},
   "outputs": [
    {
     "data": {
      "text/plain": [
       "(True, True)"
      ]
     },
     "execution_count": 37,
     "metadata": {},
     "output_type": "execute_result"
    }
   ],
   "source": [
    "check_format_types(list_bbox), check_format_types(list_bbox_nolabel)"
   ]
  },
  {
   "cell_type": "code",
   "execution_count": 38,
   "metadata": {},
   "outputs": [
    {
     "data": {
      "text/plain": [
       "dtype('int64')"
      ]
     },
     "execution_count": 38,
     "metadata": {},
     "output_type": "execute_result"
    }
   ],
   "source": [
    "np.array(list_bbox_nolabel).dtype"
   ]
  },
  {
   "cell_type": "code",
   "execution_count": 39,
   "metadata": {},
   "outputs": [
    {
     "name": "stdout",
     "output_type": "stream",
     "text": [
      "Passed `check_format_types`.\n"
     ]
    },
    {
     "data": {
      "text/plain": [
       "True"
      ]
     },
     "execution_count": 39,
     "metadata": {},
     "output_type": "execute_result"
    }
   ],
   "source": [
    "check_format_types(np.array(list_bbox_nolabel), verbose=True)"
   ]
  },
  {
   "cell_type": "code",
   "execution_count": 40,
   "metadata": {},
   "outputs": [],
   "source": [
    "# | export\n",
    "\n",
    "\n",
    "def check_length_types(b: list, verbose=False):\n",
    "    \"\"\"\n",
    "    Checks if the provided bounding box has an acceptable length and type,\n",
    "    typically of [int, int, int, int, str] or [int, int, int, int]\n",
    "\n",
    "    Also checks that all values are positive.\n",
    "\n",
    "    Args:\n",
    "        b (list): bounding box coordinates with or without label\n",
    "\n",
    "    Returns:\n",
    "        bool\n",
    "    \"\"\"\n",
    "    b_label = True\n",
    "    # check if len of the coordinates are 4\n",
    "    b_len = len(b[:4]) == 4\n",
    "    # check if first 4 items are int and positive\n",
    "    b_coord_pos = all(\n",
    "        map(lambda x: x >= 0 if isinstance(x, COORD_TYPES) else False, b[:4])\n",
    "    )\n",
    "    # if labels provided, check if string\n",
    "    if len(b) > 4:\n",
    "        b_label = all(map(lambda x: isinstance(x, str), b[4:]))\n",
    "\n",
    "    result = all((b_len, b_coord_pos, b_label))\n",
    "    if verbose:\n",
    "        verbose_result = \"Passed\" if result else \"Failed\"\n",
    "        print(\n",
    "            f\"{verbose_result} `check_length_types`. Results were label:{b_label}, len:{b_len}, coords:{b_coord_pos}\"\n",
    "        )\n",
    "    return result"
   ]
  },
  {
   "cell_type": "code",
   "execution_count": 41,
   "metadata": {},
   "outputs": [
    {
     "data": {
      "text/plain": [
       "(True, True)"
      ]
     },
     "execution_count": 41,
     "metadata": {},
     "output_type": "execute_result"
    }
   ],
   "source": [
    "check_length_types(list_bbox), check_length_types(list_bbox_nolabel)"
   ]
  },
  {
   "cell_type": "code",
   "execution_count": 42,
   "metadata": {},
   "outputs": [
    {
     "data": {
      "text/plain": [
       "(False, False, False)"
      ]
     },
     "execution_count": 42,
     "metadata": {},
     "output_type": "execute_result"
    }
   ],
   "source": [
    "(\n",
    "    check_length_types([14, 51, 92, \"item1\"]),\n",
    "    check_length_types([14, 51, 92]),\n",
    "    check_length_types([14, 51, -1, 92]),\n",
    ")"
   ]
  },
  {
   "cell_type": "code",
   "execution_count": 43,
   "metadata": {},
   "outputs": [
    {
     "name": "stdout",
     "output_type": "stream",
     "text": [
      "Failed `check_length_types`. Results were label:True, len:True, coords:False\n"
     ]
    },
    {
     "data": {
      "text/plain": [
       "False"
      ]
     },
     "execution_count": 43,
     "metadata": {},
     "output_type": "execute_result"
    }
   ],
   "source": [
    "check_length_types([14, 51, 92, \"item1\"], verbose=True)"
   ]
  },
  {
   "cell_type": "code",
   "execution_count": 44,
   "metadata": {},
   "outputs": [],
   "source": [
    "# | export\n",
    "\n",
    "\n",
    "def check_max_voc(b: list, verbose=False):\n",
    "    \"\"\"\n",
    "    Checks if the provided bounding box bottom right corner (x_max, y_max) is greater\n",
    "    than the top left corner (x_min, y_min), which is true for voc format.\n",
    "\n",
    "    Args:\n",
    "        b (list): bounding box coordinates with or without label\n",
    "\n",
    "    Returns:\n",
    "        bool\n",
    "    \"\"\"\n",
    "    assert len(b) >= 4, f\"Not enough items in passed bounding box {b}.\"\n",
    "    b_coord = b[:4]\n",
    "    xs, ys = b_coord[::2], b_coord[1::2]\n",
    "    assert all(\n",
    "        map(lambda x: isinstance(x, COORD_TYPES), xs)\n",
    "    ), f\"Got `x_min`, `x_max` of wrong type {xs}\"\n",
    "    assert all(\n",
    "        map(lambda x: isinstance(x, COORD_TYPES), ys)\n",
    "    ), f\"Got `y_min`, `y_max` of wrong type {ys}\"\n",
    "\n",
    "    check_xs = xs[1] > xs[0]\n",
    "    check_ys = ys[1] > ys[0]\n",
    "    result = check_xs and check_ys\n",
    "    if verbose:\n",
    "        verbose_result = \"Passed\" if result else \"Failed\"\n",
    "        print(\n",
    "            f\"{verbose_result} `check_max_voc`. Results were check_xs:{check_xs}, check_ys:{check_ys}\"\n",
    "        )\n",
    "    return result"
   ]
  },
  {
   "cell_type": "code",
   "execution_count": 45,
   "metadata": {},
   "outputs": [],
   "source": [
    "list_bbox = [14, 51, 71, 92, \"item\"]\n",
    "list_bbox_nolabel = [14, 51, 71, 92]"
   ]
  },
  {
   "cell_type": "code",
   "execution_count": 46,
   "metadata": {},
   "outputs": [
    {
     "data": {
      "text/plain": [
       "(True, True)"
      ]
     },
     "execution_count": 46,
     "metadata": {},
     "output_type": "execute_result"
    }
   ],
   "source": [
    "check_max_voc(list_bbox), check_max_voc(list_bbox_nolabel)"
   ]
  },
  {
   "cell_type": "code",
   "execution_count": 47,
   "metadata": {},
   "outputs": [
    {
     "data": {
      "text/plain": [
       "(False, True)"
      ]
     },
     "execution_count": 47,
     "metadata": {},
     "output_type": "execute_result"
    }
   ],
   "source": [
    "check_max_voc([14, 51, 10, 92]), check_max_voc([0, -1, 10, 92])"
   ]
  },
  {
   "cell_type": "code",
   "execution_count": 48,
   "metadata": {},
   "outputs": [
    {
     "name": "stdout",
     "output_type": "stream",
     "text": [
      "Failed `check_max_voc`. Results were check_xs:False, check_ys:True\n"
     ]
    },
    {
     "data": {
      "text/plain": [
       "False"
      ]
     },
     "execution_count": 48,
     "metadata": {},
     "output_type": "execute_result"
    }
   ],
   "source": [
    "check_max_voc([14, 51, 10, 92], verbose=True)"
   ]
  },
  {
   "cell_type": "markdown",
   "metadata": {},
   "source": [
    "Method that does all of the above checks."
   ]
  },
  {
   "cell_type": "code",
   "execution_count": 49,
   "metadata": {},
   "outputs": [],
   "source": [
    "# | export\n",
    "\n",
    "\n",
    "def perform_box_checks(b: list, verbose=False):\n",
    "    \"\"\"Calls all checks for bounding boxes: check_max_voc, check_length_types, check_format_types.\"\"\"\n",
    "    checks = (\n",
    "        check_max_voc(b, verbose=verbose),\n",
    "        check_length_types(b, verbose=verbose),\n",
    "        check_format_types(b, verbose=verbose),\n",
    "    )\n",
    "    return all(checks)"
   ]
  },
  {
   "cell_type": "code",
   "execution_count": 50,
   "metadata": {},
   "outputs": [
    {
     "name": "stdout",
     "output_type": "stream",
     "text": [
      "Failed `check_max_voc`. Results were check_xs:False, check_ys:True\n",
      "Passed `check_length_types`. Results were label:True, len:True, coords:True\n",
      "Passed `check_format_types`.\n"
     ]
    },
    {
     "data": {
      "text/plain": [
       "False"
      ]
     },
     "execution_count": 50,
     "metadata": {},
     "output_type": "execute_result"
    }
   ],
   "source": [
    "perform_box_checks([14, 51, 10, 92], verbose=True)"
   ]
  },
  {
   "cell_type": "markdown",
   "metadata": {},
   "source": [
    "# Parse bounding boxes\n",
    "\n",
    "Bounding box coordinates of type `list`/`dict`/`json`/`array` can be converted \n",
    "to a `Bx` instance. Once wrapped as a `Bx` instance, some interesting properties can\n",
    "be calculated from the coordinates. "
   ]
  },
  {
   "cell_type": "code",
   "execution_count": 51,
   "metadata": {},
   "outputs": [],
   "source": [
    "# | export\n",
    "\n",
    "\n",
    "def parse_list(b: Union[list, ArrayLike], verbose=False, no_check=False):\n",
    "    \"\"\"\n",
    "    Takes a list and splits into bounding box coordinates and label\n",
    "\n",
    "    Args:\n",
    "        b (list): Bounding box coordinates with or without label\n",
    "\n",
    "    Returns:\n",
    "        list: Bounding box coordinates\n",
    "        str: Bounding box label\n",
    "    \"\"\"\n",
    "    if not no_check:\n",
    "        assert perform_box_checks(\n",
    "            b, verbose=verbose\n",
    "        ), f\"Failed `perform_box_checks` for bounding box coordinates {b}\"\n",
    "    coords = list(b[:4])\n",
    "    label = \"unknown\"\n",
    "    if len(b) > 4:\n",
    "        label = b[-1]\n",
    "    return [coords], [label]"
   ]
  },
  {
   "cell_type": "code",
   "execution_count": 52,
   "metadata": {},
   "outputs": [
    {
     "data": {
      "text/plain": [
       "([[10, 0, 11, 6]], ['unknown'])"
      ]
     },
     "execution_count": 52,
     "metadata": {},
     "output_type": "execute_result"
    }
   ],
   "source": [
    "parse_list([10, 0, 11, 6])"
   ]
  },
  {
   "cell_type": "code",
   "execution_count": 53,
   "metadata": {},
   "outputs": [],
   "source": [
    "list_bbox = [14, 51, 71, 92, \"item\"]\n",
    "list_bbox_nolabel = [14, 51, 71, 92]"
   ]
  },
  {
   "cell_type": "code",
   "execution_count": 54,
   "metadata": {},
   "outputs": [
    {
     "data": {
      "text/plain": [
       "(([[14, 51, 71, 92]], ['item']), ([[14, 51, 71, 92]], ['unknown']))"
      ]
     },
     "execution_count": 54,
     "metadata": {},
     "output_type": "execute_result"
    }
   ],
   "source": [
    "parse_list(list_bbox), parse_list(list_bbox_nolabel)"
   ]
  },
  {
   "cell_type": "markdown",
   "metadata": {},
   "source": [
    "Works the same way with arrays."
   ]
  },
  {
   "cell_type": "code",
   "execution_count": 55,
   "metadata": {},
   "outputs": [
    {
     "data": {
      "text/plain": [
       "True"
      ]
     },
     "execution_count": 55,
     "metadata": {},
     "output_type": "execute_result"
    }
   ],
   "source": [
    "perform_box_checks(np.array(list_bbox_nolabel))"
   ]
  },
  {
   "cell_type": "code",
   "execution_count": 56,
   "metadata": {},
   "outputs": [
    {
     "data": {
      "text/plain": [
       "([[14, 51, 71, 92]], ['unknown'])"
      ]
     },
     "execution_count": 56,
     "metadata": {},
     "output_type": "execute_result"
    }
   ],
   "source": [
    "parse_list(np.array(list_bbox_nolabel))"
   ]
  },
  {
   "cell_type": "markdown",
   "metadata": {},
   "source": [
    "If wrong or bad bounding boxes are passed, it will throw an Error."
   ]
  },
  {
   "cell_type": "code",
   "execution_count": 57,
   "metadata": {},
   "outputs": [
    {
     "name": "stdout",
     "output_type": "stream",
     "text": [
      "Failed `perform_box_checks` for bounding box coordinates [14, 51, 71, -1]\n"
     ]
    }
   ],
   "source": [
    "try:\n",
    "    parse_list([14, 51, 71, -1])\n",
    "except AssertionError as A:\n",
    "    print(A)"
   ]
  },
  {
   "cell_type": "code",
   "execution_count": 58,
   "metadata": {},
   "outputs": [
    {
     "name": "stdout",
     "output_type": "stream",
     "text": [
      "Not enough items in passed bounding box [14, 51, 71].\n"
     ]
    }
   ],
   "source": [
    "try:\n",
    "    parse_list([14, 51, 71])\n",
    "except AssertionError as A:\n",
    "    print(A)"
   ]
  },
  {
   "cell_type": "code",
   "execution_count": 59,
   "metadata": {},
   "outputs": [
    {
     "name": "stdout",
     "output_type": "stream",
     "text": [
      "Got `y_min`, `y_max` of wrong type [51, 'item']\n"
     ]
    }
   ],
   "source": [
    "try:\n",
    "    parse_list([14, 51, 71, \"item\"])\n",
    "except AssertionError as A:\n",
    "    print(A)"
   ]
  },
  {
   "cell_type": "markdown",
   "metadata": {},
   "source": [
    "Same operations with `dict` and `json` strings."
   ]
  },
  {
   "cell_type": "code",
   "execution_count": 60,
   "metadata": {},
   "outputs": [],
   "source": [
    "dict_bbox = {\"x_min\": 14, \"y_min\": 51, \"x_max\": 71, \"y_max\": 92, \"label\": \"item\"}\n",
    "dict_bbox_labelkey = {\n",
    "    \"x_min\": 14,\n",
    "    \"y_min\": 51,\n",
    "    \"x_max\": 71,\n",
    "    \"y_max\": 92,\n",
    "    \"object\": \"item\",\n",
    "}\n",
    "dict_bbox_nolabel = {\"x_min\": 14, \"y_min\": 51, \"x_max\": 71, \"y_max\": 92}"
   ]
  },
  {
   "cell_type": "code",
   "execution_count": 67,
   "metadata": {},
   "outputs": [
    {
     "data": {
      "text/plain": [
       "['x_min', 'y_min', 'x_max', 'y_max', 'label']"
      ]
     },
     "execution_count": 67,
     "metadata": {},
     "output_type": "execute_result"
    }
   ],
   "source": [
    "voc_keys"
   ]
  },
  {
   "cell_type": "code",
   "execution_count": 78,
   "metadata": {},
   "outputs": [],
   "source": [
    "# | export\n",
    "\n",
    "\n",
    "def parse_dict(b: dict, **kwargs):\n",
    "    \"\"\"\n",
    "    Takes a dict and splits into bounding box coordinates and label\n",
    "\n",
    "    Args:\n",
    "        b (dict): Bounding box coordinates with or without label\n",
    "\n",
    "    Returns:\n",
    "        list: Bounding box coordinates\n",
    "        str: Bounding box label\n",
    "    \"\"\"\n",
    "    b_ = []\n",
    "    keys = update_keys(b)\n",
    "    for k in keys:\n",
    "        try:\n",
    "            b_.append(b[k])\n",
    "        except KeyError:\n",
    "            warnings.warn(f\"No {k} key in {b}\")\n",
    "            pass\n",
    "    return parse_list(b_, **kwargs)"
   ]
  },
  {
   "cell_type": "code",
   "execution_count": 79,
   "metadata": {},
   "outputs": [
    {
     "data": {
      "text/plain": [
       "['x_min', 'y_min', 'x_max', 'y_max', 'label']"
      ]
     },
     "execution_count": 79,
     "metadata": {},
     "output_type": "execute_result"
    }
   ],
   "source": [
    "update_keys(dict_bbox_nolabel)"
   ]
  },
  {
   "cell_type": "code",
   "execution_count": 80,
   "metadata": {},
   "outputs": [
    {
     "name": "stderr",
     "output_type": "stream",
     "text": [
      "/var/folders/sl/tgj9ztc51hz_d2yt8kg97f840000gn/T/ipykernel_15739/1918640422.py:21: UserWarning: No label key in {'x_min': 14, 'y_min': 51, 'x_max': 71, 'y_max': 92}\n",
      "  warnings.warn(f\"No {k} key in {b}\")\n"
     ]
    },
    {
     "data": {
      "text/plain": [
       "(([[14, 51, 71, 92]], ['item']),\n",
       " ([[14, 51, 71, 92]], ['item']),\n",
       " ([[14, 51, 71, 92]], ['unknown']))"
      ]
     },
     "execution_count": 80,
     "metadata": {},
     "output_type": "execute_result"
    }
   ],
   "source": [
    "parse_dict(dict_bbox), parse_dict(dict_bbox_labelkey), parse_dict(dict_bbox_nolabel)"
   ]
  },
  {
   "cell_type": "markdown",
   "metadata": {},
   "source": [
    "Same operations with Json strings."
   ]
  },
  {
   "cell_type": "code",
   "execution_count": 63,
   "metadata": {},
   "outputs": [],
   "source": [
    "json_bbox = '{\"x_min\": 14, \"y_min\": 51, \"x_max\": 71, \"y_max\": 92, \"label\": \"item\"}'\n",
    "json_bbox_labelkey = (\n",
    "    '{\"x_min\": 14, \"y_min\": 51, \"x_max\": 71, \"y_max\": 92, \"object\": \"item\"}'\n",
    ")\n",
    "json_bbox_nolabel = '{\"x_min\": 14, \"y_min\": 51, \"x_max\": 71, \"y_max\": 92}'"
   ]
  },
  {
   "cell_type": "code",
   "execution_count": 64,
   "metadata": {},
   "outputs": [],
   "source": [
    "# | export\n",
    "\n",
    "\n",
    "def parse_json(b: Union[str, Dict], **kwargs):\n",
    "    \"\"\"\n",
    "    Takes a json string or dict and splits into bounding box coordinates and label\n",
    "\n",
    "    Args:\n",
    "        b (json str): Bounding box coordinates with or without label\n",
    "\n",
    "    Returns:\n",
    "        list: Bounding box coordinates\n",
    "        str: Bounding box label\n",
    "    \"\"\"\n",
    "    if isinstance(b, str):\n",
    "        b = json.loads(b)\n",
    "    elif isinstance(b, dict):\n",
    "        return parse_dict(b, **kwargs)\n",
    "    else:\n",
    "        raise NotImplementedError(f\"Unknown type passed to `parse_json` {b}\")\n",
    "    return parse_dict(b, **kwargs)"
   ]
  },
  {
   "cell_type": "code",
   "execution_count": 66,
   "metadata": {},
   "outputs": [
    {
     "data": {
      "text/plain": [
       "'{\"x_min\": 14, \"y_min\": 51, \"x_max\": 71, \"y_max\": 92, \"label\": \"item\"}'"
      ]
     },
     "execution_count": 66,
     "metadata": {},
     "output_type": "execute_result"
    }
   ],
   "source": [
    "json_bbox"
   ]
  },
  {
   "cell_type": "code",
   "execution_count": 65,
   "metadata": {},
   "outputs": [
    {
     "data": {
      "text/plain": [
       "(([[14, 51, 71, 92]], ['item']),\n",
       " ([[14, 51, 71, 92]], ['item']),\n",
       " ([[14, 51, 71, 92]], ['unknown']))"
      ]
     },
     "execution_count": 65,
     "metadata": {},
     "output_type": "execute_result"
    }
   ],
   "source": [
    "parse_json(json_bbox), parse_json(json_bbox_labelkey), parse_json(json_bbox_nolabel)"
   ]
  },
  {
   "cell_type": "markdown",
   "metadata": {},
   "source": [
    "It could also be a json object read from file."
   ]
  },
  {
   "cell_type": "code",
   "execution_count": null,
   "metadata": {},
   "outputs": [
    {
     "data": {
      "text/plain": [
       "{'x_min': 130, 'y_min': 63, 'x_max': 225, 'y_max': 180, 'label': 'clock'}"
      ]
     },
     "execution_count": null,
     "metadata": {},
     "output_type": "execute_result"
    }
   ],
   "source": [
    "json_bbox_file = json.load(open(\"../data/annots.json\"))[0]\n",
    "json_bbox_file"
   ]
  },
  {
   "cell_type": "code",
   "execution_count": null,
   "metadata": {},
   "outputs": [
    {
     "data": {
      "text/plain": [
       "([[130, 63, 225, 180]], ['clock'])"
      ]
     },
     "execution_count": null,
     "metadata": {},
     "output_type": "execute_result"
    }
   ],
   "source": [
    "parse_json(json_bbox_file)"
   ]
  },
  {
   "cell_type": "code",
   "execution_count": null,
   "metadata": {},
   "outputs": [],
   "source": []
  },
  {
   "cell_type": "code",
   "execution_count": null,
   "metadata": {},
   "outputs": [],
   "source": [
    "# | export\n",
    "class Bx:\n",
    "    \"\"\"Interface for all future Bx's\"\"\"\n",
    "\n",
    "    def __init__(self, coords, label: list = None, verbose=False, no_check=False):\n",
    "        # number of points to represent a box\n",
    "        n_points = 4\n",
    "        if no_check:\n",
    "            coords, parsed_label = coords, label\n",
    "        else:\n",
    "            # checks for box validity and parses coordinates\n",
    "            coords, parsed_label = parse_list(coords)\n",
    "        # make coord a list of lists\n",
    "        coords = [coords] if not is_listy(coords[0]) else coords\n",
    "        # make label a list of single item\n",
    "        label = label if label else parsed_label\n",
    "        label = label if is_listy(label) else [label]\n",
    "        # internal representation as a list\n",
    "        _coords = coords[0]\n",
    "        x_min, y_min, x_max, y_max = _coords\n",
    "        store_attr(\n",
    "            \"x_min, y_min, x_max, y_max, _coords, coords, label, verbose, no_check, n_points\"\n",
    "        )\n",
    "\n",
    "    def __str__(self):\n",
    "        return f\"Bx(coords={self.coords}, label={self.label})\"\n",
    "\n",
    "    def __repr__(self):\n",
    "        return self.__str__()\n",
    "\n",
    "    def __len__(self):\n",
    "        return len(self.label)\n",
    "\n",
    "    def get_coords(self):\n",
    "        return self.coords\n",
    "\n",
    "    @property\n",
    "    def coords_as_numpy(self):\n",
    "        return np.array(self.coords, dtype=int)\n",
    "\n",
    "    def get_label(self):\n",
    "        return self.label\n",
    "\n",
    "    @property\n",
    "    def bw(self):\n",
    "        \"\"\"Calculate width\"\"\"\n",
    "        return self.x_max - self.x_min\n",
    "\n",
    "    @property\n",
    "    def bh(self):\n",
    "        \"\"\"Calculate height\"\"\"\n",
    "        return self.y_max - self.y_min\n",
    "\n",
    "    @property\n",
    "    def cx(self):\n",
    "        \"\"\"Calculate center-x\"\"\"\n",
    "        return (self.x_min + self.x_max) / 2.0\n",
    "\n",
    "    @property\n",
    "    def cy(self):\n",
    "        \"\"\"Calculate center-y\"\"\"\n",
    "        return (self.y_min + self.y_max) / 2.0\n",
    "\n",
    "    @property\n",
    "    def area(self):\n",
    "        \"\"\"Calculates the absolute value of the area of the box.\"\"\"\n",
    "        return abs(self.bw * self.bh)\n",
    "\n",
    "    @property\n",
    "    def values(self):\n",
    "        \"\"\"Returns the coordinates and label as a single list.\"\"\"\n",
    "        return L([[*self._coords, *self.label]])\n",
    "\n",
    "    @property\n",
    "    def valid(self):\n",
    "        \"\"\"Checks for validity of the box and returns a boolean.\n",
    "        From `v0.1.3`, validity implies that the box has non-zero area.\n",
    "        \"\"\"\n",
    "        return all(\n",
    "            [(self.area > 0), (self.x_max > self.x_min), (self.y_max > self.y_min)]\n",
    "        )\n",
    "\n",
    "    @property\n",
    "    def xywh(self):\n",
    "        \"\"\"Converts the `pascal_voc` bounding box to `coco` format.\"\"\"\n",
    "        return [[self.x_min, self.y_min, self.bw, self.bh, *self.label]]\n",
    "\n",
    "    def yolo(self, w=1, h=1, normalize=False):\n",
    "        \"\"\"Converts the `pascal_voc` bounding box to `yolo` centroids format.\n",
    "        :param normalize: Whether to normalize the bounding box with image width and height.\n",
    "        :param w: Width of image. Not to be confused with `BaseBx` attribute `w`.\n",
    "        :param h: Height of image. Not to be confused with `BaseBx` attribute `h`.\n",
    "        \"\"\"\n",
    "        if normalize:\n",
    "            assert (w > 1) and (\n",
    "                h > 1\n",
    "            ), f\"{inspect.stack()[0][3]} of {__name__}: Expected width and height of image with normalize={normalize}.\"\n",
    "        _yolo = np.array([self.cx, self.cy, self.bw, self.bh]) / np.tile([w, h], 2)\n",
    "        _yolo = _yolo.round(4).tolist()\n",
    "        _yolo.append(*self.label)\n",
    "        return [_yolo]"
   ]
  },
  {
   "cell_type": "markdown",
   "metadata": {},
   "source": [
    "Initializing an empty `Bx` class. It does a whole lot of things!"
   ]
  },
  {
   "cell_type": "markdown",
   "metadata": {},
   "source": [
    "Generate random coordinates for one anchor boxes."
   ]
  },
  {
   "cell_type": "code",
   "execution_count": null,
   "metadata": {},
   "outputs": [
    {
     "data": {
      "text/plain": [
       "[[14, 51, 71, 92]]"
      ]
     },
     "execution_count": null,
     "metadata": {},
     "output_type": "execute_result"
    }
   ],
   "source": [
    "np.random.seed(42)\n",
    "annots = [sorted([np.random.randint(100) for i in range(4)])]\n",
    "annots"
   ]
  },
  {
   "cell_type": "markdown",
   "metadata": {},
   "source": [
    "If a single list is passed, `Bx` will make it a list of list."
   ]
  },
  {
   "cell_type": "code",
   "execution_count": null,
   "metadata": {},
   "outputs": [
    {
     "data": {
      "text/plain": [
       "[14, 51, 71, 92]"
      ]
     },
     "execution_count": null,
     "metadata": {},
     "output_type": "execute_result"
    }
   ],
   "source": [
    "annots[0]"
   ]
  },
  {
   "cell_type": "code",
   "execution_count": null,
   "metadata": {},
   "outputs": [
    {
     "data": {
      "text/plain": [
       "Bx(coords=[[14, 51, 71, 92]], label=['unknown'])"
      ]
     },
     "execution_count": null,
     "metadata": {},
     "output_type": "execute_result"
    }
   ],
   "source": [
    "b = Bx(annots[0])\n",
    "b"
   ]
  },
  {
   "cell_type": "code",
   "execution_count": null,
   "metadata": {},
   "outputs": [
    {
     "data": {
      "text/plain": [
       "4"
      ]
     },
     "execution_count": null,
     "metadata": {},
     "output_type": "execute_result"
    }
   ],
   "source": [
    "b.n_points"
   ]
  },
  {
   "cell_type": "code",
   "execution_count": null,
   "metadata": {},
   "outputs": [
    {
     "data": {
      "text/plain": [
       "1"
      ]
     },
     "execution_count": null,
     "metadata": {},
     "output_type": "execute_result"
    }
   ],
   "source": [
    "len(b)"
   ]
  },
  {
   "cell_type": "code",
   "execution_count": null,
   "metadata": {},
   "outputs": [
    {
     "data": {
      "text/plain": [
       "42.5"
      ]
     },
     "execution_count": null,
     "metadata": {},
     "output_type": "execute_result"
    }
   ],
   "source": [
    "b.cx"
   ]
  },
  {
   "cell_type": "markdown",
   "metadata": {},
   "source": [
    "If label is passed along with coords, this is used."
   ]
  },
  {
   "cell_type": "code",
   "execution_count": null,
   "metadata": {},
   "outputs": [
    {
     "data": {
      "text/plain": [
       "Bx(coords=[[14, 51, 71, 92]], label=['item'])"
      ]
     },
     "execution_count": null,
     "metadata": {},
     "output_type": "execute_result"
    }
   ],
   "source": [
    "b = Bx(annots[0], label=\"item\")\n",
    "b"
   ]
  },
  {
   "cell_type": "markdown",
   "metadata": {},
   "source": [
    "Can be a list of single item name also."
   ]
  },
  {
   "cell_type": "code",
   "execution_count": null,
   "metadata": {},
   "outputs": [
    {
     "data": {
      "text/plain": [
       "Bx(coords=[[14, 51, 71, 92]], label=['item'])"
      ]
     },
     "execution_count": null,
     "metadata": {},
     "output_type": "execute_result"
    }
   ],
   "source": [
    "b = Bx(annots[0], label=[\"item\"])\n",
    "b"
   ]
  },
  {
   "cell_type": "code",
   "execution_count": null,
   "metadata": {},
   "outputs": [
    {
     "data": {
      "text/plain": [
       "<bound method Bx.yolo of Bx(coords=[[14, 51, 71, 92]], label=['item'])>"
      ]
     },
     "execution_count": null,
     "metadata": {},
     "output_type": "execute_result"
    }
   ],
   "source": [
    "b.yolo"
   ]
  },
  {
   "cell_type": "markdown",
   "metadata": {},
   "source": [
    "To get normalized coordinates wrt to the image dimensions."
   ]
  },
  {
   "cell_type": "code",
   "execution_count": null,
   "metadata": {},
   "outputs": [
    {
     "data": {
      "text/plain": [
       "[[0.1897, 0.3192, 0.2545, 0.183, 'item']]"
      ]
     },
     "execution_count": null,
     "metadata": {},
     "output_type": "execute_result"
    }
   ],
   "source": [
    "b.yolo(224, 224, normalize=True)"
   ]
  },
  {
   "cell_type": "code",
   "execution_count": null,
   "metadata": {},
   "outputs": [
    {
     "data": {
      "text/plain": [
       "(#1) [[14, 51, 71, 92, 'item']]"
      ]
     },
     "execution_count": null,
     "metadata": {},
     "output_type": "execute_result"
    }
   ],
   "source": [
    "b.values"
   ]
  },
  {
   "cell_type": "code",
   "execution_count": null,
   "metadata": {},
   "outputs": [
    {
     "data": {
      "text/plain": [
       "array([[14, 51, 71, 92]])"
      ]
     },
     "execution_count": null,
     "metadata": {},
     "output_type": "execute_result"
    }
   ],
   "source": [
    "b.coords_as_numpy"
   ]
  },
  {
   "cell_type": "code",
   "execution_count": null,
   "metadata": {},
   "outputs": [
    {
     "data": {
      "text/plain": [
       "[[14, 51, 57, 41, 'item']]"
      ]
     },
     "execution_count": null,
     "metadata": {},
     "output_type": "execute_result"
    }
   ],
   "source": [
    "b.xywh"
   ]
  },
  {
   "cell_type": "markdown",
   "metadata": {},
   "source": [
    "Performs all checks for the validity of the box."
   ]
  },
  {
   "cell_type": "code",
   "execution_count": null,
   "metadata": {},
   "outputs": [
    {
     "data": {
      "text/plain": [
       "True"
      ]
     },
     "execution_count": null,
     "metadata": {},
     "output_type": "execute_result"
    }
   ],
   "source": [
    "b.valid"
   ]
  },
  {
   "cell_type": "markdown",
   "metadata": {},
   "source": [
    "`Bx` is inherited by all other types in `pybx`: `BaseBx`, `MultiBx`, `ListBx`, `JsonBx`, exposing the same properties.\n",
    "\n",
    "`BaseBx` works with other types of coordinates too. \n",
    "It accepts the coordinates and label for one anchor box in a `list` or `ndarray` \n",
    "format."
   ]
  },
  {
   "cell_type": "code",
   "execution_count": null,
   "metadata": {},
   "outputs": [],
   "source": [
    "# | export\n",
    "class BaseBx(Bx):\n",
    "    \"\"\"BaseBx is the most primitive form of representing a bounding box.\n",
    "    Coordinates and label of a bounding box can be wrapped as a BaseBx using:\n",
    "    `bbx(coords, label)`.\n",
    "\n",
    "    :param coords: can be of type `list` or `array` representing a single box.\n",
    "        - `list` can be formatted with `label`: `[x_min, y_min, x_max, y_max, label]`\n",
    "            or without `label`: `[x_min, y_min, x_max, y_max]`\n",
    "        - `array` should be a 1-dimensional array of shape `(4,)`\n",
    "\n",
    "    :param label: a `list` or `str` that has the class name or label for the object\n",
    "    in the corresponding box.\n",
    "    \"\"\"\n",
    "\n",
    "    def __init__(self, coords, label: list = None, no_check=False):\n",
    "        self.index = 0  # Fixes #2, calls itself everytime\n",
    "        assert isinstance(\n",
    "            coords, (list, L, np.ndarray)\n",
    "        ), f\"{__name__}: Expected type list or np.ndarray for coords, got {type(coords)}\"\n",
    "        super().__init__(coords, label, no_check=no_check)\n",
    "\n",
    "    def __str__(self):\n",
    "        return f\"BaseBx(coords={self.coords}, label={self.label})\""
   ]
  },
  {
   "cell_type": "markdown",
   "metadata": {},
   "source": [
    "Works with arrays and lists:"
   ]
  },
  {
   "cell_type": "code",
   "execution_count": null,
   "metadata": {},
   "outputs": [
    {
     "data": {
      "text/plain": [
       "[14, 51, 71, 92]"
      ]
     },
     "execution_count": null,
     "metadata": {},
     "output_type": "execute_result"
    }
   ],
   "source": [
    "annots[0]"
   ]
  },
  {
   "cell_type": "code",
   "execution_count": null,
   "metadata": {},
   "outputs": [
    {
     "data": {
      "text/plain": [
       "BaseBx(coords=[[14, 51, 71, 92]], label=['unknown'])"
      ]
     },
     "execution_count": null,
     "metadata": {},
     "output_type": "execute_result"
    }
   ],
   "source": [
    "BaseBx(annots[0])"
   ]
  },
  {
   "cell_type": "code",
   "execution_count": null,
   "metadata": {},
   "outputs": [
    {
     "data": {
      "text/plain": [
       "BaseBx(coords=[[14, 51, 71, 92]], label=['flower'])"
      ]
     },
     "execution_count": null,
     "metadata": {},
     "output_type": "execute_result"
    }
   ],
   "source": [
    "b = BaseBx(annots[0], \"flower\")\n",
    "b"
   ]
  },
  {
   "cell_type": "code",
   "execution_count": null,
   "metadata": {},
   "outputs": [
    {
     "data": {
      "text/plain": [
       "[[14, 51, 71, 92]]"
      ]
     },
     "execution_count": null,
     "metadata": {},
     "output_type": "execute_result"
    }
   ],
   "source": [
    "b.coords"
   ]
  },
  {
   "cell_type": "code",
   "execution_count": null,
   "metadata": {},
   "outputs": [
    {
     "data": {
      "text/plain": [
       "array([[14, 51, 71, 92]])"
      ]
     },
     "execution_count": null,
     "metadata": {},
     "output_type": "execute_result"
    }
   ],
   "source": [
    "b.coords_as_numpy"
   ]
  },
  {
   "cell_type": "markdown",
   "metadata": {},
   "source": [
    "Calling the `values` attribute returns the labels along with the coordinates."
   ]
  },
  {
   "cell_type": "code",
   "execution_count": null,
   "metadata": {},
   "outputs": [
    {
     "data": {
      "text/plain": [
       "(#1) [[14, 51, 71, 92, 'flower']]"
      ]
     },
     "execution_count": null,
     "metadata": {},
     "output_type": "execute_result"
    }
   ],
   "source": [
    "b.values"
   ]
  },
  {
   "cell_type": "markdown",
   "metadata": {},
   "source": [
    "A short cut function that calles `BaseBx` with a list of coordinates."
   ]
  },
  {
   "cell_type": "code",
   "execution_count": null,
   "metadata": {},
   "outputs": [],
   "source": [
    "# | export\n",
    "\n",
    "\n",
    "def bbx(coords=None, label=None, no_check=False):\n",
    "    \"\"\"Alias of the `BaseBx` class using lists.\"\"\"\n",
    "    return BaseBx(coords, label, no_check=no_check)"
   ]
  },
  {
   "cell_type": "markdown",
   "metadata": {},
   "source": [
    "Remember that `BaseBx` can only have one box coordinate and label at a time."
   ]
  },
  {
   "cell_type": "code",
   "execution_count": null,
   "metadata": {},
   "outputs": [],
   "source": [
    "annots_list = [\n",
    "    [10, 20, 100, 200, \"apple\"],\n",
    "    [40, 50, 80, 90, \"coke\"],\n",
    "]"
   ]
  },
  {
   "cell_type": "code",
   "execution_count": null,
   "metadata": {},
   "outputs": [
    {
     "data": {
      "text/plain": [
       "[10, 20, 100, 200, 'apple']"
      ]
     },
     "execution_count": null,
     "metadata": {},
     "output_type": "execute_result"
    }
   ],
   "source": [
    "annots_list[0]"
   ]
  },
  {
   "cell_type": "code",
   "execution_count": null,
   "metadata": {},
   "outputs": [
    {
     "data": {
      "text/plain": [
       "BaseBx(coords=[[10, 20, 100, 200]], label=['apple'])"
      ]
     },
     "execution_count": null,
     "metadata": {},
     "output_type": "execute_result"
    }
   ],
   "source": [
    "bbx(annots_list[0])"
   ]
  },
  {
   "cell_type": "markdown",
   "metadata": {},
   "source": [
    "Boxes with errors will not be initialized."
   ]
  },
  {
   "cell_type": "code",
   "execution_count": null,
   "metadata": {},
   "outputs": [
    {
     "name": "stdout",
     "output_type": "stream",
     "text": [
      "Failed `perform_box_checks` for bounding box coordinates [10, 20, 100, -1, 'apple']\n"
     ]
    }
   ],
   "source": [
    "try:\n",
    "    bbx([10, 20, 100, -1, \"apple\"])\n",
    "except AssertionError as A:\n",
    "    print(A)"
   ]
  },
  {
   "cell_type": "code",
   "execution_count": null,
   "metadata": {},
   "outputs": [
    {
     "data": {
      "text/plain": [
       "BaseBx(coords=[[10, 20, 100, 200]], label=['unknown'])"
      ]
     },
     "execution_count": null,
     "metadata": {},
     "output_type": "execute_result"
    }
   ],
   "source": [
    "bbx(annots_list[0][:4])  # if label is not passed"
   ]
  },
  {
   "cell_type": "markdown",
   "metadata": {},
   "source": [
    "`BaseBx` also exposes a method to calculate the Intersection Over Union (IOU) using the `intersection_box` method"
   ]
  },
  {
   "cell_type": "code",
   "execution_count": null,
   "metadata": {},
   "outputs": [
    {
     "data": {
      "text/plain": [
       "array([ 10,  10, 100, 100])"
      ]
     },
     "execution_count": null,
     "metadata": {},
     "output_type": "execute_result"
    }
   ],
   "source": [
    "intersection_box([10, 10, 100, 100], [10, 10, 150, 150])"
   ]
  },
  {
   "cell_type": "code",
   "execution_count": null,
   "metadata": {},
   "outputs": [],
   "source": [
    "# | export\n",
    "\n",
    "\n",
    "@patch\n",
    "def iou(self: BaseBx, other):\n",
    "    \"\"\"Caclulates the Intersection Over Union (IOU) of the box\n",
    "    w.r.t. another `BaseBx`. Returns the IOU only if the box is\n",
    "    considered `valid`, ie non-zero area.\n",
    "    \"\"\"\n",
    "    if not isinstance(other, Bx):\n",
    "        other = bbx(other)\n",
    "    if self.valid:\n",
    "        try:\n",
    "            int_box = bbx(intersection_box(self.coords, other.coords))\n",
    "        except NoIntersection:\n",
    "            return 0.0\n",
    "        int_area = int_box.area\n",
    "        union_area = other.area + self.area - int_area\n",
    "        return round(int_area / union_area, 4)\n",
    "    return 0.0"
   ]
  },
  {
   "cell_type": "code",
   "execution_count": null,
   "metadata": {},
   "outputs": [
    {
     "data": {
      "text/plain": [
       "BaseBx(coords=[[14, 51, 71, 92]], label=['flower'])"
      ]
     },
     "execution_count": null,
     "metadata": {},
     "output_type": "execute_result"
    }
   ],
   "source": [
    "b"
   ]
  },
  {
   "cell_type": "code",
   "execution_count": null,
   "metadata": {},
   "outputs": [
    {
     "data": {
      "text/plain": [
       "BaseBx(coords=[[40, 50, 80, 90]], label=['coke'])"
      ]
     },
     "execution_count": null,
     "metadata": {},
     "output_type": "execute_result"
    }
   ],
   "source": [
    "b2 = bbx(annots_list[1])\n",
    "b2"
   ]
  },
  {
   "cell_type": "code",
   "execution_count": null,
   "metadata": {},
   "outputs": [
    {
     "data": {
      "text/plain": [
       "0.4432"
      ]
     },
     "execution_count": null,
     "metadata": {},
     "output_type": "execute_result"
    }
   ],
   "source": [
    "b.iou(b2)"
   ]
  },
  {
   "cell_type": "code",
   "execution_count": null,
   "metadata": {},
   "outputs": [
    {
     "data": {
      "text/plain": [
       "1.0"
      ]
     },
     "execution_count": null,
     "metadata": {},
     "output_type": "execute_result"
    }
   ],
   "source": [
    "b.iou(b)"
   ]
  },
  {
   "cell_type": "markdown",
   "metadata": {},
   "source": [
    "`BaseBx` is also pseudo-iterable (calling an iterator returns `self` itself and not the coordinates or labels)."
   ]
  },
  {
   "cell_type": "code",
   "execution_count": null,
   "metadata": {},
   "outputs": [],
   "source": [
    "# | export\n",
    "@patch\n",
    "def __iter__(self: BaseBx):\n",
    "    \"\"\"Iterates through the boxes in `BaseBx` where self.valid is True.\"\"\"\n",
    "    return self\n",
    "\n",
    "\n",
    "@patch\n",
    "def __getitem__(self: BaseBx, idx):\n",
    "    \"\"\"Gets the item at index idx as a BaseBx.\"\"\"\n",
    "    if idx > 0:\n",
    "        # Fixes #2\n",
    "        raise IndexError(\n",
    "            f\"BaseBx has only a single coordinate at idx=0. Got idx={idx}.\"\n",
    "        )\n",
    "    return self\n",
    "\n",
    "\n",
    "@patch\n",
    "def __next__(self: BaseBx):\n",
    "    \"\"\"Iteration is allowed only for valid boxes\"\"\"\n",
    "    try:\n",
    "        b = self[self.index]\n",
    "        if not b.valid:\n",
    "            # 0 area boxes are not valid\n",
    "            self.index += 1\n",
    "            return self.__next__()\n",
    "    except IndexError:\n",
    "        self.index = 0  # reset index\n",
    "        raise StopIteration\n",
    "    self.index += 1\n",
    "    return b"
   ]
  },
  {
   "cell_type": "code",
   "execution_count": null,
   "metadata": {},
   "outputs": [],
   "source": [
    "b = BaseBx(annots[0], \"flower\")"
   ]
  },
  {
   "cell_type": "code",
   "execution_count": null,
   "metadata": {},
   "outputs": [
    {
     "data": {
      "text/plain": [
       "BaseBx(coords=[[14, 51, 71, 92]], label=['flower'])"
      ]
     },
     "execution_count": null,
     "metadata": {},
     "output_type": "execute_result"
    }
   ],
   "source": [
    "next(b)"
   ]
  },
  {
   "cell_type": "code",
   "execution_count": null,
   "metadata": {},
   "outputs": [
    {
     "name": "stdout",
     "output_type": "stream",
     "text": [
      "BaseBx(coords=[[10, 20, 100, 200]], label=['apple'])\n"
     ]
    }
   ],
   "source": [
    "b = BaseBx(annots_list[0])\n",
    "for b_ in b:\n",
    "    print(b_)"
   ]
  },
  {
   "cell_type": "markdown",
   "metadata": {},
   "source": [
    "Working with `json` strings."
   ]
  },
  {
   "cell_type": "code",
   "execution_count": null,
   "metadata": {},
   "outputs": [
    {
     "data": {
      "text/plain": [
       "'{\"x_min\": 14, \"y_min\": 51, \"x_max\": 71, \"y_max\": 92, \"label\": \"item\"}'"
      ]
     },
     "execution_count": null,
     "metadata": {},
     "output_type": "execute_result"
    }
   ],
   "source": [
    "json_bbox"
   ]
  },
  {
   "cell_type": "code",
   "execution_count": null,
   "metadata": {},
   "outputs": [],
   "source": [
    "# | export\n",
    "\n",
    "\n",
    "def jbx(coords=None, label=None):\n",
    "    \"\"\"Alias of the `BaseBx` class using json strings.\"\"\"\n",
    "    coords, parsed_label = parse_json(coords)\n",
    "    # make label a list of single item\n",
    "    label = label if label else parsed_label\n",
    "    label = label if is_listy(label) else [label]\n",
    "    # no_check since parse_json already checks\n",
    "    return BaseBx(coords, label, no_check=True)"
   ]
  },
  {
   "cell_type": "code",
   "execution_count": null,
   "metadata": {},
   "outputs": [
    {
     "data": {
      "text/plain": [
       "BaseBx(coords=[[14, 51, 71, 92]], label=['item'])"
      ]
     },
     "execution_count": null,
     "metadata": {},
     "output_type": "execute_result"
    }
   ],
   "source": [
    "jbx(json_bbox)  # json string"
   ]
  },
  {
   "cell_type": "code",
   "execution_count": null,
   "metadata": {},
   "outputs": [
    {
     "data": {
      "text/plain": [
       "BaseBx(coords=[[130, 63, 225, 180]], label=['clock'])"
      ]
     },
     "execution_count": null,
     "metadata": {},
     "output_type": "execute_result"
    }
   ],
   "source": [
    "jbx(json_bbox_file)  # read from file as python object"
   ]
  },
  {
   "cell_type": "markdown",
   "metadata": {},
   "source": [
    "Working with `dict`s."
   ]
  },
  {
   "cell_type": "code",
   "execution_count": null,
   "metadata": {},
   "outputs": [
    {
     "data": {
      "text/plain": [
       "{'x_min': 14, 'y_min': 51, 'x_max': 71, 'y_max': 92, 'label': 'item'}"
      ]
     },
     "execution_count": null,
     "metadata": {},
     "output_type": "execute_result"
    }
   ],
   "source": [
    "dict_bbox"
   ]
  },
  {
   "cell_type": "code",
   "execution_count": null,
   "metadata": {},
   "outputs": [],
   "source": [
    "# | export\n",
    "\n",
    "\n",
    "def dbx(coords=None, label=None):\n",
    "    \"\"\"Alias of the `BaseBx` class using dict.\"\"\"\n",
    "    coords, parsed_label = parse_dict(coords)\n",
    "    # make label a list of single item\n",
    "    label = label if label else parsed_label\n",
    "    label = label if is_listy(label) else [label]\n",
    "    # no_check since parse_dict already checks\n",
    "    return BaseBx(coords, label, no_check=True)"
   ]
  },
  {
   "cell_type": "code",
   "execution_count": null,
   "metadata": {},
   "outputs": [],
   "source": []
  },
  {
   "cell_type": "code",
   "execution_count": null,
   "metadata": {},
   "outputs": [
    {
     "data": {
      "text/plain": [
       "BaseBx(coords=[[14, 51, 71, 92]], label=['item'])"
      ]
     },
     "execution_count": null,
     "metadata": {},
     "output_type": "execute_result"
    }
   ],
   "source": [
    "dbx(dict_bbox)"
   ]
  },
  {
   "cell_type": "markdown",
   "metadata": {},
   "source": [
    "To make it work with other types, need to infer the datatype. Basically need to call the `parse_X` function based on the datatype, where `X=datatype`."
   ]
  },
  {
   "cell_type": "code",
   "execution_count": null,
   "metadata": {},
   "outputs": [
    {
     "data": {
      "text/plain": [
       "(numpy.ndarray,\n",
       " list,\n",
       " fastcore.foundation.L,\n",
       " tuple,\n",
       " dict,\n",
       " typing.Dict[str, str])"
      ]
     },
     "execution_count": null,
     "metadata": {},
     "output_type": "execute_result"
    }
   ],
   "source": [
    "ALL_ITER_TYPES"
   ]
  },
  {
   "cell_type": "code",
   "execution_count": null,
   "metadata": {},
   "outputs": [
    {
     "data": {
      "text/plain": [
       "typing.Dict[str, str]"
      ]
     },
     "execution_count": null,
     "metadata": {},
     "output_type": "execute_result"
    }
   ],
   "source": [
    "ITER_TYPE_JSON"
   ]
  },
  {
   "cell_type": "code",
   "execution_count": null,
   "metadata": {},
   "outputs": [],
   "source": [
    "# | export\n",
    "\n",
    "\n",
    "def parse_basebx(b: BaseBx, no_check=None):\n",
    "    \"\"\"Reads the attribute of a BaseBx\"\"\"\n",
    "    if no_check is not None:\n",
    "        # no_check is typically passed when creating a basebx\n",
    "        warnings.warn(\n",
    "            f\"no_check={no_check} passed to parse_basebx: are you sure you want to do this?\"\n",
    "        )\n",
    "    return b.coords, b.label"
   ]
  },
  {
   "cell_type": "code",
   "execution_count": null,
   "metadata": {},
   "outputs": [
    {
     "data": {
      "text/plain": [
       "([[10, 20, 100, 200]], ['apple'])"
      ]
     },
     "execution_count": null,
     "metadata": {},
     "output_type": "execute_result"
    }
   ],
   "source": [
    "parse_basebx(b)"
   ]
  },
  {
   "cell_type": "code",
   "execution_count": null,
   "metadata": {},
   "outputs": [
    {
     "name": "stderr",
     "output_type": "stream",
     "text": [
      "/tmp/ipykernel_332941/3032591698.py:8: UserWarning: no_check=False passed to parse_basebx: are you sure you want to do this?\n",
      "  warnings.warn(\n"
     ]
    },
    {
     "data": {
      "text/plain": [
       "([[10, 20, 100, 200]], ['apple'])"
      ]
     },
     "execution_count": null,
     "metadata": {},
     "output_type": "execute_result"
    }
   ],
   "source": [
    "parse_basebx(b, no_check=False)"
   ]
  },
  {
   "cell_type": "code",
   "execution_count": null,
   "metadata": {},
   "outputs": [],
   "source": [
    "# | export\n",
    "\n",
    "\n",
    "def infer_box_dtype(b: ALL_ITER_TYPES, **kwargs):\n",
    "    if isinstance(b, str):\n",
    "        return \"json\"\n",
    "    elif isinstance(b, ITER_TYPES):\n",
    "        return \"list\"\n",
    "    elif isinstance(b, dict):\n",
    "        return \"dict\"\n",
    "    elif isinstance(b, BaseBx):\n",
    "        return \"basebx\"\n",
    "    elif isinstance(b, np.ndarray):\n",
    "        return \"array\"\n",
    "    else:\n",
    "        raise NotImplementedError(\n",
    "            f\"Unknown type {type(b)} passed to `infer_box_dtype` {b}\"\n",
    "        )"
   ]
  },
  {
   "cell_type": "code",
   "execution_count": null,
   "metadata": {},
   "outputs": [
    {
     "data": {
      "text/plain": [
       "('json', 'list', 'dict', 'basebx')"
      ]
     },
     "execution_count": null,
     "metadata": {},
     "output_type": "execute_result"
    }
   ],
   "source": [
    "(\n",
    "    infer_box_dtype(json_bbox),\n",
    "    infer_box_dtype(list_bbox),\n",
    "    infer_box_dtype(json_bbox_file),\n",
    "    infer_box_dtype(b),\n",
    ")"
   ]
  },
  {
   "cell_type": "markdown",
   "metadata": {},
   "source": [
    "Parser method to call the correct method based on the type"
   ]
  },
  {
   "cell_type": "code",
   "execution_count": null,
   "metadata": {},
   "outputs": [],
   "source": [
    "# | export\n",
    "\n",
    "\n",
    "def coord_parser(b, label=\"unknown\", no_check=False):\n",
    "    \"\"\"Takes the box and converts it to a BaseBx after inferring the type.\"\"\"\n",
    "    if not is_listy(label):\n",
    "        label = [label]\n",
    "    box_dtype = infer_box_dtype(b)\n",
    "    parser = eval(f\"parse_{box_dtype}\")\n",
    "    coords, parsed_label = parser(b, no_check=no_check)\n",
    "    if parsed_label[0] == \"unknown\":\n",
    "        parsed_label = label\n",
    "    return bbx(coords=coords[0], label=parsed_label, no_check=no_check)"
   ]
  },
  {
   "cell_type": "code",
   "execution_count": null,
   "metadata": {},
   "outputs": [
    {
     "data": {
      "text/plain": [
       "(BaseBx(coords=[[14, 51, 71, 92]], label=['item']),\n",
       " BaseBx(coords=[[14, 51, 71, 92]], label=['item']),\n",
       " BaseBx(coords=[[130, 63, 225, 180]], label=['clock']))"
      ]
     },
     "execution_count": null,
     "metadata": {},
     "output_type": "execute_result"
    }
   ],
   "source": [
    "(\n",
    "    coord_parser(json_bbox),\n",
    "    coord_parser(list_bbox),\n",
    "    coord_parser(json_bbox_file),\n",
    ")"
   ]
  },
  {
   "cell_type": "markdown",
   "metadata": {},
   "source": [
    "With `no_check`, the validity of the boxes are not checked."
   ]
  },
  {
   "cell_type": "code",
   "execution_count": null,
   "metadata": {},
   "outputs": [
    {
     "data": {
      "text/plain": [
       "BaseBx(coords=[[0, 0, 0, 0]], label=['unknown'])"
      ]
     },
     "execution_count": null,
     "metadata": {},
     "output_type": "execute_result"
    }
   ],
   "source": [
    "coord_parser([0, 0, 0, 0], no_check=True)"
   ]
  },
  {
   "cell_type": "code",
   "execution_count": null,
   "metadata": {},
   "outputs": [
    {
     "data": {
      "text/plain": [
       "(BaseBx(coords=[[14, 51, 71, 92]], label=['unknown']),\n",
       " BaseBx(coords=[[14, 51, 71, 92]], label=['item']),\n",
       " BaseBx(coords=[[14, 51, 71, 92]], label=['item']))"
      ]
     },
     "execution_count": null,
     "metadata": {},
     "output_type": "execute_result"
    }
   ],
   "source": [
    "(\n",
    "    coord_parser(list_bbox_nolabel),\n",
    "    coord_parser(list_bbox_nolabel, [\"item\"]),\n",
    "    coord_parser(list_bbox_nolabel, \"item\"),\n",
    ")"
   ]
  },
  {
   "cell_type": "markdown",
   "metadata": {},
   "source": [
    "# Multiple bounding boxes\n",
    "\n",
    "Working with multiple bounding boxes and annotaions is usually done with the help\n",
    "of `MultiBx`. `MultiBx` allows for iteration."
   ]
  },
  {
   "cell_type": "code",
   "execution_count": null,
   "metadata": {},
   "outputs": [
    {
     "data": {
      "text/plain": [
       "[[10, 20, 100, 200, 'apple'], [40, 50, 80, 90, 'coke']]"
      ]
     },
     "execution_count": null,
     "metadata": {},
     "output_type": "execute_result"
    }
   ],
   "source": [
    "annots_list  # a good candidate for Multibox"
   ]
  },
  {
   "cell_type": "markdown",
   "metadata": {},
   "source": [
    "It could be imagined as such a thing, maybe thats all we need. But maybe it can be made prettier."
   ]
  },
  {
   "cell_type": "code",
   "execution_count": null,
   "metadata": {},
   "outputs": [
    {
     "data": {
      "text/plain": [
       "[BaseBx(coords=[[10, 20, 100, 200]], label=['apple']),\n",
       " BaseBx(coords=[[40, 50, 80, 90]], label=['coke'])]"
      ]
     },
     "execution_count": null,
     "metadata": {},
     "output_type": "execute_result"
    }
   ],
   "source": [
    "primitive_mbx = [bbx(a) for a in annots_list]\n",
    "primitive_mbx"
   ]
  },
  {
   "cell_type": "code",
   "execution_count": null,
   "metadata": {},
   "outputs": [
    {
     "data": {
      "text/plain": [
       "0.0988"
      ]
     },
     "execution_count": null,
     "metadata": {},
     "output_type": "execute_result"
    }
   ],
   "source": [
    "primitive_mbx[0].iou(primitive_mbx[1])"
   ]
  },
  {
   "cell_type": "code",
   "execution_count": null,
   "metadata": {},
   "outputs": [
    {
     "data": {
      "text/plain": [
       "(True, True)"
      ]
     },
     "execution_count": null,
     "metadata": {},
     "output_type": "execute_result"
    }
   ],
   "source": [
    "is_listy(annots), is_listy(annots[0])"
   ]
  },
  {
   "cell_type": "code",
   "execution_count": null,
   "metadata": {},
   "outputs": [],
   "source": [
    "# | export\n",
    "class MultiBx:\n",
    "    \"\"\"`MultiBx` represents a collection of bounding boxes as lists.\n",
    "    Objects of type `MultiBx` can be indexed into, which returns a\n",
    "    `BaseBx` exposing a suite of box-bound operations.\n",
    "    Multiple coordinates and labels of bounding boxes can be wrapped\n",
    "    as a `MultiBx` using:\n",
    "        `mbx(coords, label)`.\n",
    "    :param coords: can be nested coordinates of type `list` of `list`s/`json` strings\n",
    "        (`list`s of `dict`s)/`ndarray`s representing multiple boxes.\n",
    "        If passing a list/json each index of the object should be of the following formats:\n",
    "        - `list` can be formatted with `label`: `[x_min, y_min, x_max, y_max, label]`\n",
    "            or without `label`: `[x_min, y_min, x_max, y_max]`\n",
    "        - `dict` should be in `pascal_voc` format using the keys\n",
    "            {\"x_min\": 0, \"y_min\": 0, \"x_max\": 1, \"y_max\": 1, \"label\": 'none'}\n",
    "        If passing an `ndarray`, it should be of shape `(N,4)`.\n",
    "\n",
    "    :param label: a `list` of `str`s that has the class name or label for the object in the\n",
    "    corresponding box.\n",
    "    \"\"\"\n",
    "\n",
    "    def __init__(self, coords, label: list = None, no_check=False):\n",
    "        self.index = 0\n",
    "        self._setup_complete = False\n",
    "        self.no_check = no_check\n",
    "        label = label if label else [\"unknown\"] * len(coords)  # default labels\n",
    "        # TODO: need a good check for verifying multiple boxes are passed.\n",
    "        # assert len(coords)>1 and len(label)>1, f\"Expected multiple boxes in `MultiBx`: {coords}\"\n",
    "        assert isinstance(coords, ALL_ITER_TYPES)\n",
    "        self.coords = coords\n",
    "        self.label = label\n",
    "        self.__setup__()\n",
    "\n",
    "    def __setup__(self):\n",
    "        \"\"\"Setup the BaseBx for each item at index idx.\"\"\"\n",
    "        # anything here\n",
    "        self._setup_complete = True\n",
    "\n",
    "    def __len__(self):\n",
    "        \"\"\"Gets the length of coordinates.\"\"\"\n",
    "        return len(self.label)\n",
    "\n",
    "    def __getitem__(self, idx):\n",
    "        return coord_parser(self.coords[idx], self.label[idx], no_check=self.no_check)\n",
    "\n",
    "    def __iter__(self):\n",
    "        \"\"\"Iterates through the boxes in `MultiBx` where self.valid is True.\"\"\"\n",
    "        return self\n",
    "\n",
    "    def __next__(self):\n",
    "        \"\"\"Iteration is allowed only for valid boxes\"\"\"\n",
    "        try:\n",
    "            b = self[self.index]\n",
    "            if not b.valid:\n",
    "                # 0 area boxes are not valid\n",
    "                self.index += 1\n",
    "                return self.__next__()\n",
    "        except IndexError:\n",
    "            self.index = 0  # reset index\n",
    "            raise StopIteration\n",
    "        self.index += 1\n",
    "        return b\n",
    "\n",
    "    def __str__(self):\n",
    "        return f\"MultiBx(coords: {len(self.coords)}, labels: {len(self.label)})\"\n",
    "\n",
    "    def __repr__(self):\n",
    "        return self.__str__()\n",
    "\n",
    "    @property\n",
    "    def shape(self):\n",
    "        \"\"\"Returns the shape of coordinates\"\"\"\n",
    "        # TODO: check for number of points coordinates\n",
    "        return len(self.coords), 4"
   ]
  },
  {
   "cell_type": "code",
   "execution_count": null,
   "metadata": {},
   "outputs": [],
   "source": [
    "# | export\n",
    "BX_TYPE = (Bx, MultiBx)"
   ]
  },
  {
   "cell_type": "markdown",
   "metadata": {},
   "source": [
    "Generate random coordinates:"
   ]
  },
  {
   "cell_type": "code",
   "execution_count": null,
   "metadata": {},
   "outputs": [
    {
     "data": {
      "text/plain": [
       "[[14, 51, 71, 92], [20, 60, 82, 86], [74, 74, 87, 99]]"
      ]
     },
     "execution_count": null,
     "metadata": {},
     "output_type": "execute_result"
    }
   ],
   "source": [
    "np.random.seed(42)\n",
    "annots = [sorted([np.random.randint(100) for i in range(4)]) for j in range(3)]\n",
    "annots"
   ]
  },
  {
   "cell_type": "markdown",
   "metadata": {},
   "source": [
    "All annotations are stored as a `BaseBx` in a container called `MultiBx`"
   ]
  },
  {
   "cell_type": "code",
   "execution_count": null,
   "metadata": {},
   "outputs": [
    {
     "data": {
      "text/plain": [
       "MultiBx(coords: 3, labels: 3)"
      ]
     },
     "execution_count": null,
     "metadata": {},
     "output_type": "execute_result"
    }
   ],
   "source": [
    "bxs = MultiBx(annots, [\"apple\", \"coke\", \"tree\"])\n",
    "bxs"
   ]
  },
  {
   "cell_type": "markdown",
   "metadata": {},
   "source": [
    "If no labels are passed, `unknown` is assigned. "
   ]
  },
  {
   "cell_type": "code",
   "execution_count": null,
   "metadata": {},
   "outputs": [
    {
     "data": {
      "text/plain": [
       "MultiBx(coords: 3, labels: 3)"
      ]
     },
     "execution_count": null,
     "metadata": {},
     "output_type": "execute_result"
    }
   ],
   "source": [
    "bxs = MultiBx(annots)\n",
    "bxs"
   ]
  },
  {
   "cell_type": "markdown",
   "metadata": {},
   "source": [
    "If a single bounding box is passed, `AssertionError` is NOT rasied anymore. \n",
    "The previous philosophy was that a single annotaiton `BaseBx` cannot be a `MultiBx`. \n",
    "It is upto the user to provide a list of list and not a list. There are better checks with `get_bx`."
   ]
  },
  {
   "cell_type": "code",
   "execution_count": null,
   "metadata": {},
   "outputs": [
    {
     "name": "stdout",
     "output_type": "stream",
     "text": [
      "box [14, 51, 71, 92] is MultiBx(coords: 1, labels: 1)\n"
     ]
    }
   ],
   "source": [
    "try:\n",
    "    b = MultiBx([annots[0]])\n",
    "    print(f\"box {annots[0]} is {b}\")\n",
    "except AssertionError as A:\n",
    "    print(A)"
   ]
  },
  {
   "cell_type": "markdown",
   "metadata": {},
   "source": [
    "Each index reveals the stored coordinate as a `BaseBx`"
   ]
  },
  {
   "cell_type": "code",
   "execution_count": null,
   "metadata": {},
   "outputs": [
    {
     "data": {
      "text/plain": [
       "(BaseBx(coords=[[14, 51, 71, 92]], label=['unknown']), (3, 4))"
      ]
     },
     "execution_count": null,
     "metadata": {},
     "output_type": "execute_result"
    }
   ],
   "source": [
    "bxs[0], bxs.shape"
   ]
  },
  {
   "cell_type": "code",
   "execution_count": null,
   "metadata": {},
   "outputs": [
    {
     "data": {
      "text/plain": [
       "['unknown', 'unknown', 'unknown']"
      ]
     },
     "execution_count": null,
     "metadata": {},
     "output_type": "execute_result"
    }
   ],
   "source": [
    "bxs.label"
   ]
  },
  {
   "cell_type": "markdown",
   "metadata": {},
   "source": [
    "They can also be iterated:"
   ]
  },
  {
   "cell_type": "code",
   "execution_count": null,
   "metadata": {},
   "outputs": [
    {
     "data": {
      "text/plain": [
       "BaseBx(coords=[[14, 51, 71, 92]], label=['unknown'])"
      ]
     },
     "execution_count": null,
     "metadata": {},
     "output_type": "execute_result"
    }
   ],
   "source": [
    "next(bxs)"
   ]
  },
  {
   "cell_type": "markdown",
   "metadata": {},
   "source": [
    "Or using list comprehension, properties of individual boxes can be extracted"
   ]
  },
  {
   "cell_type": "code",
   "execution_count": null,
   "metadata": {},
   "outputs": [
    {
     "data": {
      "text/plain": [
       "[1612, 325]"
      ]
     },
     "execution_count": null,
     "metadata": {},
     "output_type": "execute_result"
    }
   ],
   "source": [
    "[b.area for b in bxs]"
   ]
  },
  {
   "cell_type": "code",
   "execution_count": null,
   "metadata": {},
   "outputs": [
    {
     "data": {
      "text/plain": [
       "True"
      ]
     },
     "execution_count": null,
     "metadata": {},
     "output_type": "execute_result"
    }
   ],
   "source": [
    "bxs[0].valid"
   ]
  },
  {
   "cell_type": "code",
   "execution_count": null,
   "metadata": {},
   "outputs": [],
   "source": []
  },
  {
   "cell_type": "code",
   "execution_count": null,
   "metadata": {},
   "outputs": [
    {
     "data": {
      "text/plain": [
       "[[51.0, 73.0, 62.0, 26.0, 'unknown']]"
      ]
     },
     "execution_count": null,
     "metadata": {},
     "output_type": "execute_result"
    }
   ],
   "source": [
    "bxs[1].yolo()"
   ]
  },
  {
   "cell_type": "code",
   "execution_count": null,
   "metadata": {},
   "outputs": [
    {
     "data": {
      "text/plain": [
       "2337"
      ]
     },
     "execution_count": null,
     "metadata": {},
     "output_type": "execute_result"
    }
   ],
   "source": [
    "bxs[0].area"
   ]
  },
  {
   "cell_type": "code",
   "execution_count": null,
   "metadata": {},
   "outputs": [
    {
     "data": {
      "text/plain": [
       "[{'x_min': 130, 'y_min': 63, 'x_max': 225, 'y_max': 180, 'label': 'clock'},\n",
       " {'x_min': 13, 'y_min': 158, 'x_max': 90, 'y_max': 213, 'label': 'frame'}]"
      ]
     },
     "execution_count": null,
     "metadata": {},
     "output_type": "execute_result"
    }
   ],
   "source": [
    "annots_json = json.load(open(\"../data/annots.json\"))\n",
    "annots_json"
   ]
  },
  {
   "cell_type": "markdown",
   "metadata": {},
   "source": [
    "If lists of lists are passed."
   ]
  },
  {
   "cell_type": "code",
   "execution_count": null,
   "metadata": {},
   "outputs": [
    {
     "data": {
      "text/plain": [
       "[[14, 51, 71, 92], [20, 60, 82, 86], [74, 74, 87, 99]]"
      ]
     },
     "execution_count": null,
     "metadata": {},
     "output_type": "execute_result"
    }
   ],
   "source": [
    "list_bboxes = annots\n",
    "list_bboxes"
   ]
  },
  {
   "cell_type": "code",
   "execution_count": null,
   "metadata": {},
   "outputs": [
    {
     "data": {
      "text/plain": [
       "MultiBx(coords: 3, labels: 3)"
      ]
     },
     "execution_count": null,
     "metadata": {},
     "output_type": "execute_result"
    }
   ],
   "source": [
    "mbx_list = MultiBx(list_bboxes)\n",
    "mbx_list"
   ]
  },
  {
   "cell_type": "code",
   "execution_count": null,
   "metadata": {},
   "outputs": [
    {
     "data": {
      "text/plain": [
       "BaseBx(coords=[[14, 51, 71, 92]], label=['unknown'])"
      ]
     },
     "execution_count": null,
     "metadata": {},
     "output_type": "execute_result"
    }
   ],
   "source": [
    "mbx_list[0]"
   ]
  },
  {
   "cell_type": "markdown",
   "metadata": {},
   "source": [
    "If dicts are passed."
   ]
  },
  {
   "cell_type": "code",
   "execution_count": null,
   "metadata": {},
   "outputs": [],
   "source": [
    "dict_bboxes = (\n",
    "    {\"x_min\": 14, \"y_min\": 51, \"x_max\": 71, \"y_max\": 92, \"label\": \"item\"},\n",
    "    {\n",
    "        \"x_min\": 20,\n",
    "        \"y_min\": 30,\n",
    "        \"x_max\": 50,\n",
    "        \"y_max\": 90,\n",
    "        \"label\": \"apple\",\n",
    "    },\n",
    ")"
   ]
  },
  {
   "cell_type": "code",
   "execution_count": null,
   "metadata": {},
   "outputs": [
    {
     "data": {
      "text/plain": [
       "MultiBx(coords: 2, labels: 2)"
      ]
     },
     "execution_count": null,
     "metadata": {},
     "output_type": "execute_result"
    }
   ],
   "source": [
    "mbx_dict = MultiBx(dict_bboxes)\n",
    "mbx_dict"
   ]
  },
  {
   "cell_type": "code",
   "execution_count": null,
   "metadata": {},
   "outputs": [
    {
     "data": {
      "text/plain": [
       "BaseBx(coords=[[14, 51, 71, 92]], label=['item'])"
      ]
     },
     "execution_count": null,
     "metadata": {},
     "output_type": "execute_result"
    }
   ],
   "source": [
    "mbx_dict[0]"
   ]
  },
  {
   "cell_type": "markdown",
   "metadata": {},
   "source": [
    "If json strings are passed."
   ]
  },
  {
   "cell_type": "code",
   "execution_count": null,
   "metadata": {},
   "outputs": [],
   "source": [
    "json_bboxes = (\n",
    "    '{\"x_min\": 14, \"y_min\": 51, \"x_max\": 71, \"y_max\": 92, \"label\": \"item\"}',\n",
    "    '{\"x_min\": 20, \"y_min\": 30, \"x_max\": 50, \"y_max\": 90, \"label\": \"apple\"}',\n",
    ")"
   ]
  },
  {
   "cell_type": "code",
   "execution_count": null,
   "metadata": {},
   "outputs": [
    {
     "data": {
      "text/plain": [
       "MultiBx(coords: 2, labels: 2)"
      ]
     },
     "execution_count": null,
     "metadata": {},
     "output_type": "execute_result"
    }
   ],
   "source": [
    "mbx_json = MultiBx(json_bboxes)\n",
    "mbx_json"
   ]
  },
  {
   "cell_type": "code",
   "execution_count": null,
   "metadata": {},
   "outputs": [
    {
     "data": {
      "text/plain": [
       "BaseBx(coords=[[14, 51, 71, 92]], label=['item'])"
      ]
     },
     "execution_count": null,
     "metadata": {},
     "output_type": "execute_result"
    }
   ],
   "source": [
    "mbx_json[0]"
   ]
  },
  {
   "cell_type": "code",
   "execution_count": null,
   "metadata": {},
   "outputs": [
    {
     "data": {
      "text/plain": [
       "[{'x_min': 130, 'y_min': 63, 'x_max': 225, 'y_max': 180, 'label': 'clock'},\n",
       " {'x_min': 13, 'y_min': 158, 'x_max': 90, 'y_max': 213, 'label': 'frame'}]"
      ]
     },
     "execution_count": null,
     "metadata": {},
     "output_type": "execute_result"
    }
   ],
   "source": [
    "json_bboxes_file = json.load(open(\"../data/annots.json\"))\n",
    "json_bboxes_file"
   ]
  },
  {
   "cell_type": "code",
   "execution_count": null,
   "metadata": {},
   "outputs": [
    {
     "data": {
      "text/plain": [
       "MultiBx(coords: 2, labels: 2)"
      ]
     },
     "execution_count": null,
     "metadata": {},
     "output_type": "execute_result"
    }
   ],
   "source": [
    "mbx_json_file = MultiBx(json_bboxes_file)\n",
    "mbx_json_file"
   ]
  },
  {
   "cell_type": "code",
   "execution_count": null,
   "metadata": {},
   "outputs": [
    {
     "data": {
      "text/plain": [
       "(BaseBx(coords=[[130, 63, 225, 180]], label=['clock']),\n",
       " BaseBx(coords=[[13, 158, 90, 213]], label=['frame']))"
      ]
     },
     "execution_count": null,
     "metadata": {},
     "output_type": "execute_result"
    }
   ],
   "source": [
    "mbx_json_file[0], mbx_json_file[1]"
   ]
  },
  {
   "cell_type": "markdown",
   "metadata": {},
   "source": [
    "Also accepts keys (for the dict) as a list, otherwise uses `voc_keys`."
   ]
  },
  {
   "cell_type": "code",
   "execution_count": null,
   "metadata": {},
   "outputs": [
    {
     "data": {
      "text/plain": [
       "['x_min', 'y_min', 'x_max', 'y_max', 'label']"
      ]
     },
     "execution_count": null,
     "metadata": {},
     "output_type": "execute_result"
    }
   ],
   "source": [
    "voc_keys"
   ]
  },
  {
   "cell_type": "markdown",
   "metadata": {},
   "source": [
    "Defining shortcut function to process lists and dicts in `MultiBx`."
   ]
  },
  {
   "cell_type": "code",
   "execution_count": null,
   "metadata": {},
   "outputs": [],
   "source": [
    "# | export\n",
    "\n",
    "\n",
    "def mbx(coords=None, label=None, no_check=False):\n",
    "    \"\"\"Alias of the `MultiBx` class.\"\"\"\n",
    "    return MultiBx(coords, label, no_check=no_check)"
   ]
  },
  {
   "cell_type": "code",
   "execution_count": null,
   "metadata": {},
   "outputs": [
    {
     "data": {
      "text/plain": [
       "[[14, 51, 71, 92], [20, 60, 82, 86], [74, 74, 87, 99]]"
      ]
     },
     "execution_count": null,
     "metadata": {},
     "output_type": "execute_result"
    }
   ],
   "source": [
    "annots_list = annots\n",
    "annots_list"
   ]
  },
  {
   "cell_type": "code",
   "execution_count": null,
   "metadata": {},
   "outputs": [],
   "source": [
    "mbx_list = mbx(annots_list)"
   ]
  },
  {
   "cell_type": "code",
   "execution_count": null,
   "metadata": {},
   "outputs": [
    {
     "data": {
      "text/plain": [
       "[[14, 51, 71, 92], [20, 60, 82, 86], [74, 74, 87, 99]]"
      ]
     },
     "execution_count": null,
     "metadata": {},
     "output_type": "execute_result"
    }
   ],
   "source": [
    "mbx_list.coords"
   ]
  },
  {
   "cell_type": "markdown",
   "metadata": {},
   "source": [
    "When the annotation file contains the key `label`"
   ]
  },
  {
   "cell_type": "code",
   "execution_count": null,
   "metadata": {},
   "outputs": [
    {
     "data": {
      "text/plain": [
       "[{'x_min': 130, 'y_min': 63, 'x_max': 225, 'y_max': 180, 'label': 'clock'},\n",
       " {'x_min': 13, 'y_min': 158, 'x_max': 90, 'y_max': 213, 'label': 'frame'}]"
      ]
     },
     "execution_count": null,
     "metadata": {},
     "output_type": "execute_result"
    }
   ],
   "source": [
    "annots_json = json.load(open(\"../data/annots.json\"))\n",
    "annots_json"
   ]
  },
  {
   "cell_type": "markdown",
   "metadata": {},
   "source": [
    "Still preserves the original format"
   ]
  },
  {
   "cell_type": "code",
   "execution_count": null,
   "metadata": {},
   "outputs": [],
   "source": [
    "mbx_json_ = mbx(annots_json)"
   ]
  },
  {
   "cell_type": "code",
   "execution_count": null,
   "metadata": {},
   "outputs": [
    {
     "data": {
      "text/plain": [
       "('{\"x_min\": 14, \"y_min\": 51, \"x_max\": 71, \"y_max\": 92, \"label\": \"item\"}',\n",
       " '{\"x_min\": 20, \"y_min\": 30, \"x_max\": 50, \"y_max\": 90, \"label\": \"apple\"}')"
      ]
     },
     "execution_count": null,
     "metadata": {},
     "output_type": "execute_result"
    }
   ],
   "source": [
    "mbx_json.coords"
   ]
  },
  {
   "cell_type": "code",
   "execution_count": null,
   "metadata": {},
   "outputs": [
    {
     "data": {
      "text/plain": [
       "['unknown', 'unknown']"
      ]
     },
     "execution_count": null,
     "metadata": {},
     "output_type": "execute_result"
    }
   ],
   "source": [
    "# known issue\n",
    "mbx_json.label"
   ]
  },
  {
   "cell_type": "code",
   "execution_count": null,
   "metadata": {},
   "outputs": [
    {
     "data": {
      "text/plain": [
       "BaseBx(coords=[[20, 30, 50, 90]], label=['apple'])"
      ]
     },
     "execution_count": null,
     "metadata": {},
     "output_type": "execute_result"
    }
   ],
   "source": [
    "mbx_json[1]  # after indexing the 1st index, the label gets assigned to multibx"
   ]
  },
  {
   "cell_type": "markdown",
   "metadata": {},
   "source": [
    "# `get_bx`\n",
    "\n",
    "When in doubt, use `get_bx`."
   ]
  },
  {
   "cell_type": "code",
   "execution_count": null,
   "metadata": {},
   "outputs": [
    {
     "data": {
      "text/plain": [
       "(numpy.ndarray, list, fastcore.foundation.L)"
      ]
     },
     "execution_count": null,
     "metadata": {},
     "output_type": "execute_result"
    }
   ],
   "source": [
    "ITER_TYPES"
   ]
  },
  {
   "cell_type": "code",
   "execution_count": null,
   "metadata": {},
   "outputs": [],
   "source": [
    "# | export\n",
    "\n",
    "\n",
    "def get_bx(coords, label=None, no_check=False):\n",
    "    \"\"\"\n",
    "    Helper function to check and call the correct type of Bx instance.\n",
    "\n",
    "    Checks for the type of data passed and calls the respective class\n",
    "    to generate a Bx instance. Currently only supports ndarray, list, dict,\n",
    "    tuple, nested list, nested tuple.\n",
    "\n",
    "    Parameters\n",
    "    ----------\n",
    "    coords : ndarray, list, dict, tuple, nested list, nested tuple\n",
    "        Coordinates of anchor boxes.\n",
    "    label : list, optional\n",
    "        Labels for anchor boxes in order, by default None\n",
    "\n",
    "    Returns\n",
    "    -------\n",
    "    Bx\n",
    "        An instance of MultiBx, ListBx, BaseBx or JsonBx\n",
    "\n",
    "    Raises\n",
    "    ------\n",
    "    NotImplementedError\n",
    "        If unknown type of coordinates are passed.\n",
    "    \"\"\"\n",
    "    # process ndarray\n",
    "    if isinstance(coords, np.ndarray):\n",
    "        coords = np.atleast_2d(coords)\n",
    "        return mbx(coords, label, no_check)\n",
    "    # process list\n",
    "    if isinstance(coords, (list, L)):\n",
    "        if isinstance(coords[0], COORD_TYPES):\n",
    "            \"\"\"If first item is a position\"\"\"\n",
    "            return bbx(coords, label, no_check)\n",
    "        elif isinstance(coords[0], ITER_TYPES + ITER_TYPES_EXTRA):\n",
    "            \"\"\"If fist item is an iterable\"\"\"\n",
    "            return mbx(coords, label, no_check)\n",
    "        elif isinstance(coords[0], ITER_TYPES_TUPLE):\n",
    "            \"\"\"If first item is a tuple\"\"\"\n",
    "            return mbx([list(c) for c in coords], label, no_check)\n",
    "    # process dict\n",
    "    if isinstance(coords, dict):\n",
    "        return bbx([coords], label, no_check)\n",
    "    # process tuple\n",
    "    if isinstance(coords, tuple):\n",
    "        return bbx(list(coords), label, no_check)\n",
    "    # process BX_TYPE\n",
    "    if isinstance(coords, BX_TYPE):\n",
    "        return coords\n",
    "    else:\n",
    "        raise NotImplementedError(\n",
    "            f\"{inspect.stack()[0][3]} of {__name__}: Got coords={coords} of type {type(coords)}.\"\n",
    "        )"
   ]
  },
  {
   "cell_type": "markdown",
   "metadata": {},
   "source": [
    "`get_bx` runs a bunch of if-else statements to call the right module when in doubt."
   ]
  },
  {
   "cell_type": "code",
   "execution_count": null,
   "metadata": {},
   "outputs": [
    {
     "data": {
      "text/plain": [
       "[{'x_min': 130, 'y_min': 63, 'x_max': 225, 'y_max': 180, 'label': 'clock'},\n",
       " {'x_min': 13, 'y_min': 158, 'x_max': 90, 'y_max': 213, 'label': 'frame'}]"
      ]
     },
     "execution_count": null,
     "metadata": {},
     "output_type": "execute_result"
    }
   ],
   "source": [
    "annots_json"
   ]
  },
  {
   "cell_type": "code",
   "execution_count": null,
   "metadata": {},
   "outputs": [
    {
     "data": {
      "text/plain": [
       "MultiBx(coords: 2, labels: 2)"
      ]
     },
     "execution_count": null,
     "metadata": {},
     "output_type": "execute_result"
    }
   ],
   "source": [
    "get_bx(annots_json)"
   ]
  },
  {
   "cell_type": "code",
   "execution_count": null,
   "metadata": {},
   "outputs": [
    {
     "data": {
      "text/plain": [
       "5"
      ]
     },
     "execution_count": null,
     "metadata": {},
     "output_type": "execute_result"
    }
   ],
   "source": [
    "len(annots_json[0])"
   ]
  },
  {
   "cell_type": "code",
   "execution_count": null,
   "metadata": {},
   "outputs": [
    {
     "data": {
      "text/plain": [
       "MultiBx(coords: 1, labels: 1)"
      ]
     },
     "execution_count": null,
     "metadata": {},
     "output_type": "execute_result"
    }
   ],
   "source": [
    "get_bx([annots_json[0]])"
   ]
  },
  {
   "cell_type": "code",
   "execution_count": null,
   "metadata": {},
   "outputs": [
    {
     "data": {
      "text/plain": [
       "MultiBx(coords: 3, labels: 3)"
      ]
     },
     "execution_count": null,
     "metadata": {},
     "output_type": "execute_result"
    }
   ],
   "source": [
    "get_bx(annots_list)"
   ]
  },
  {
   "cell_type": "code",
   "execution_count": null,
   "metadata": {},
   "outputs": [
    {
     "data": {
      "text/plain": [
       "BaseBx(coords=[[0, 1, 1, 2]], label=['juice'])"
      ]
     },
     "execution_count": null,
     "metadata": {},
     "output_type": "execute_result"
    }
   ],
   "source": [
    "get_bx([0, 1, 1, 2, \"juice\"])  # boxes should be atleast of 1px length"
   ]
  },
  {
   "cell_type": "markdown",
   "metadata": {},
   "source": [
    "The below doesnt fail immediately but fails upon indexing into the box"
   ]
  },
  {
   "cell_type": "code",
   "execution_count": null,
   "metadata": {},
   "outputs": [
    {
     "data": {
      "text/plain": [
       "MultiBx(coords: 1, labels: 1)"
      ]
     },
     "execution_count": null,
     "metadata": {},
     "output_type": "execute_result"
    }
   ],
   "source": [
    "get_bx([[0, 1, 1, 1]])  # two brackets mean we have a multibx now"
   ]
  },
  {
   "cell_type": "markdown",
   "metadata": {},
   "source": [
    "Coming back to the original problem of the users burden in deciding which function to call:\n",
    "```py\n",
    "try:\n",
    "    b = MultiBx([annots[0]])\n",
    "    print(f\"box {annots[0]} is {b}\")\n",
    "except AssertionError as A:\n",
    "    print(A)\n",
    "```\n",
    "\n",
    "`get_bx` addresses this the following way:"
   ]
  },
  {
   "cell_type": "code",
   "execution_count": null,
   "metadata": {},
   "outputs": [
    {
     "data": {
      "text/plain": [
       "MultiBx(coords: 4, labels: 4)"
      ]
     },
     "execution_count": null,
     "metadata": {},
     "output_type": "execute_result"
    }
   ],
   "source": [
    "mbx(annots[0])  # this is wrong, as this is a single coordinate!"
   ]
  },
  {
   "cell_type": "code",
   "execution_count": null,
   "metadata": {},
   "outputs": [
    {
     "data": {
      "text/plain": [
       "BaseBx(coords=[[14, 51, 71, 92]], label=['unknown'])"
      ]
     },
     "execution_count": null,
     "metadata": {},
     "output_type": "execute_result"
    }
   ],
   "source": [
    "get_bx(annots[0])"
   ]
  },
  {
   "cell_type": "code",
   "execution_count": null,
   "metadata": {},
   "outputs": [
    {
     "data": {
      "text/plain": [
       "MultiBx(coords: 1, labels: 1)"
      ]
     },
     "execution_count": null,
     "metadata": {},
     "output_type": "execute_result"
    }
   ],
   "source": [
    "get_bx([annots[0]])"
   ]
  },
  {
   "cell_type": "markdown",
   "metadata": {},
   "source": [
    "The addition operation stacks the bounding boxes."
   ]
  },
  {
   "cell_type": "code",
   "execution_count": null,
   "metadata": {},
   "outputs": [],
   "source": [
    "# | export\n",
    "@patch\n",
    "def __add__(self: BaseBx, other):\n",
    "    \"\"\"Pseudo-add method that stacks the provided boxes and labels. Stacking two\n",
    "    boxes imply that the resulting box is a `MultiBx`: `BaseBx` + `BaseBx`\n",
    "    = `MultiBx`. This violates the idea of `BaseBx` since the result\n",
    "    holds more than 1 coordinate/label for the box.\n",
    "    From `v.2.0`, a `UserWarning` is issued if called.\n",
    "    Recommended use is either: `BaseBx` + `BaseBx` = `MultiBx` or\n",
    "    `basics.stack_bxs()`.\n",
    "    \"\"\"\n",
    "    if not isinstance(other, BX_TYPE):\n",
    "        raise TypeError(\n",
    "            f\"{inspect.stack()[0][3]} of {__name__}: Expected a subclass of {BX_TYPE}\"\n",
    "        )\n",
    "    else:\n",
    "        warnings.warn(\n",
    "            BxViolation(\n",
    "                f\"Change of object type imminent if trying to add \"\n",
    "                f\"{type(self)}+{type(other)}. Use {type(other)}+{type(self)} \"\n",
    "                f\"instead or basics.stack_bxs().\"\n",
    "            )\n",
    "        )\n",
    "    coords = self.coords + other.coords\n",
    "    label = self.label + other.label\n",
    "    return mbx(coords, label)\n",
    "\n",
    "\n",
    "@patch\n",
    "def __add__(self: MultiBx, other):\n",
    "    \"\"\"Pseudo-add method that stacks the provided boxes and labels. Stacking two\n",
    "    boxes imply that the resulting box is a `MultiBx`: `MultiBx` + `MultiBx`\n",
    "    = `MultiBx`. Same as `basics.stack_bxs()`.\n",
    "    \"\"\"\n",
    "    if not isinstance(other, BX_TYPE):\n",
    "        raise TypeError(\n",
    "            f\"{inspect.stack()[0][3]} of {__name__}: Expected type {BX_TYPE}, \"\n",
    "            f\"got self={type(self)}, other={type(other)}\"\n",
    "        )\n",
    "    coords = self.coords + other.coords\n",
    "    label = self.label + other.label\n",
    "    return mbx(coords, label)"
   ]
  },
  {
   "cell_type": "code",
   "execution_count": null,
   "metadata": {},
   "outputs": [],
   "source": [
    "# | export\n",
    "def stack_bxs(b1, b2):\n",
    "    \"\"\"\n",
    "    Method to stack two Bx-types together. Similar to `__add__` of BxTypes\n",
    "    but avoids UserWarning.\n",
    "    :param b1:\n",
    "    :param b2:\n",
    "    :return:\n",
    "    _summary_\n",
    "\n",
    "    Parameters\n",
    "    ----------\n",
    "    b1 : Bx, MultiBx\n",
    "        Anchor box coordinates Bx\n",
    "    b2 : Bx, MultiBx\n",
    "        Anchor box coordinates Bx\n",
    "\n",
    "    Returns\n",
    "    -------\n",
    "    MultiBx\n",
    "        Stacked anchor box coordinates of MultiBx type.\n",
    "\n",
    "    Raises\n",
    "    ------\n",
    "    TypeError\n",
    "        If unknown type of coordinates are passed.\n",
    "    \"\"\"\n",
    "\n",
    "    if not isinstance(b1, BX_TYPE):\n",
    "        raise TypeError(\n",
    "            f\"{inspect.stack()[0][3]} of {__name__}: Expected type {BX_TYPE}, got b1={type(b1)}\"\n",
    "        )\n",
    "    if not isinstance(b2, BX_TYPE):\n",
    "        raise TypeError(\n",
    "            f\"{inspect.stack()[0][3]} of {__name__}: Expected type {BX_TYPE}, got b2={type(b2)}\"\n",
    "        )\n",
    "    if isinstance(b1, BaseBx):\n",
    "        with warnings.catch_warnings():\n",
    "            warnings.filterwarnings(\"ignore\")\n",
    "            return b1 + b2\n",
    "    return b1 + b2\n",
    "\n",
    "\n",
    "def add_bxs(b1, b2):\n",
    "    \"\"\"Alias of stack_bxs().\"\"\"\n",
    "    return stack_bxs(b1, b2)"
   ]
  },
  {
   "cell_type": "code",
   "execution_count": null,
   "metadata": {},
   "outputs": [
    {
     "data": {
      "text/plain": [
       "BaseBx(coords=[[10, 20, 100, 200]], label=['apple'])"
      ]
     },
     "execution_count": null,
     "metadata": {},
     "output_type": "execute_result"
    }
   ],
   "source": [
    "b"
   ]
  },
  {
   "cell_type": "markdown",
   "metadata": {},
   "source": [
    "Internally this is what is done to stack them:"
   ]
  },
  {
   "cell_type": "code",
   "execution_count": null,
   "metadata": {},
   "outputs": [
    {
     "data": {
      "text/plain": [
       "([[14, 51, 71, 92], [20, 60, 82, 86], [74, 74, 87, 99], [10, 20, 100, 200]],\n",
       " ['unknown', 'unknown', 'unknown', 'apple'])"
      ]
     },
     "execution_count": null,
     "metadata": {},
     "output_type": "execute_result"
    }
   ],
   "source": [
    "bxs.coords + b.coords, bxs.label + b.label"
   ]
  },
  {
   "cell_type": "code",
   "execution_count": null,
   "metadata": {},
   "outputs": [
    {
     "data": {
      "text/plain": [
       "MultiBx(coords: 4, labels: 4)"
      ]
     },
     "execution_count": null,
     "metadata": {},
     "output_type": "execute_result"
    }
   ],
   "source": [
    "bxs + b"
   ]
  },
  {
   "cell_type": "markdown",
   "metadata": {},
   "source": [
    "Adding a `MultiBx` to a `BaseBx` makes the new set of coordinates a `MultiBx`, so a `BxViolation` warning is issued\n",
    "if this was not intended. "
   ]
  },
  {
   "cell_type": "code",
   "execution_count": null,
   "metadata": {},
   "outputs": [
    {
     "name": "stderr",
     "output_type": "stream",
     "text": [
      "/tmp/ipykernel_312689/55513013.py:17: BxViolation: Change of object type imminent if trying to add <class '__main__.BaseBx'>+<class '__main__.MultiBx'>. Use <class '__main__.MultiBx'>+<class '__main__.BaseBx'> instead or basics.stack_bxs().\n",
      "  warnings.warn(\n"
     ]
    },
    {
     "data": {
      "text/plain": [
       "MultiBx(coords: 4, labels: 4)"
      ]
     },
     "execution_count": null,
     "metadata": {},
     "output_type": "execute_result"
    }
   ],
   "source": [
    "b + bxs"
   ]
  },
  {
   "cell_type": "code",
   "execution_count": null,
   "metadata": {},
   "outputs": [
    {
     "data": {
      "text/plain": [
       "MultiBx(coords: 4, labels: 4)"
      ]
     },
     "execution_count": null,
     "metadata": {},
     "output_type": "execute_result"
    }
   ],
   "source": [
    "stack_bxs(b, bxs)"
   ]
  },
  {
   "cell_type": "markdown",
   "metadata": {},
   "source": [
    "To avoid the `BxViolation`, use the method `stack_bxs`."
   ]
  },
  {
   "cell_type": "code",
   "execution_count": null,
   "metadata": {},
   "outputs": [
    {
     "data": {
      "text/plain": [
       "MultiBx(coords: 4, labels: 4)"
      ]
     },
     "execution_count": null,
     "metadata": {},
     "output_type": "execute_result"
    }
   ],
   "source": [
    "stack_bxs(bxs, b)"
   ]
  },
  {
   "cell_type": "code",
   "execution_count": null,
   "metadata": {},
   "outputs": [],
   "source": [
    "# | export\n",
    "def stack_bxs_inplace(b, *args):\n",
    "    \"\"\"Stack the passed boxes on top of the first item.\"\"\"\n",
    "    for b_ in args:\n",
    "        b = stack_bxs(b, b_)\n",
    "    return b"
   ]
  },
  {
   "cell_type": "code",
   "execution_count": null,
   "metadata": {},
   "outputs": [],
   "source": [
    "boxes = [\n",
    "    BaseBx(coords=[200, 100, 300, 200], label=[\"a_3x3_1.0_5\"]),\n",
    "    BaseBx(coords=[214, 79, 285, 220], label=[\"a_3x3_0.5_5\"]),\n",
    "    BaseBx(coords=[222, 58, 277, 241], label=[\"a_3x3_0.3_5\"]),\n",
    "]"
   ]
  },
  {
   "cell_type": "code",
   "execution_count": null,
   "metadata": {},
   "outputs": [],
   "source": [
    "stacked_bxs = stack_bxs_inplace(*boxes)"
   ]
  },
  {
   "cell_type": "code",
   "execution_count": null,
   "metadata": {},
   "outputs": [
    {
     "data": {
      "text/plain": [
       "MultiBx(coords: 3, labels: 3)"
      ]
     },
     "execution_count": null,
     "metadata": {},
     "output_type": "execute_result"
    }
   ],
   "source": [
    "stacked_bxs"
   ]
  },
  {
   "cell_type": "code",
   "execution_count": null,
   "metadata": {},
   "outputs": [
    {
     "data": {
      "text/plain": [
       "[[200, 100, 300, 200], [214, 79, 285, 220], [222, 58, 277, 241]]"
      ]
     },
     "execution_count": null,
     "metadata": {},
     "output_type": "execute_result"
    }
   ],
   "source": [
    "stacked_bxs.coords"
   ]
  },
  {
   "cell_type": "code",
   "execution_count": null,
   "metadata": {},
   "outputs": [
    {
     "data": {
      "text/plain": [
       "3"
      ]
     },
     "execution_count": null,
     "metadata": {},
     "output_type": "execute_result"
    }
   ],
   "source": [
    "len(stacked_bxs)"
   ]
  },
  {
   "cell_type": "markdown",
   "metadata": {},
   "source": [
    "`BaseBx` also supports calculation of bounding box offset by calling the `get_offset()` method."
   ]
  },
  {
   "cell_type": "code",
   "execution_count": null,
   "metadata": {},
   "outputs": [
    {
     "data": {
      "text/plain": [
       "(BaseBx(coords=[[10, 20, 100, 200]], label=['apple']),\n",
       " BaseBx(coords=[[18, 44, 71, 90]], label=['probably_flower']))"
      ]
     },
     "execution_count": null,
     "metadata": {},
     "output_type": "execute_result"
    }
   ],
   "source": [
    "b1 = b\n",
    "b2 = BaseBx(\n",
    "    [18, 44, 71, 90], \"probably_flower\"\n",
    ")  # simulating the case where we might have a bbox prediction\n",
    "b1, b2"
   ]
  },
  {
   "cell_type": "code",
   "execution_count": null,
   "metadata": {},
   "outputs": [
    {
     "data": {
      "text/plain": [
       "array([[ -8, -24,  29, 110]])"
      ]
     },
     "execution_count": null,
     "metadata": {},
     "output_type": "execute_result"
    }
   ],
   "source": [
    "(b.coords_as_numpy - b2.coords_as_numpy)"
   ]
  },
  {
   "cell_type": "code",
   "execution_count": null,
   "metadata": {},
   "outputs": [
    {
     "data": {
      "text/plain": [
       "array([[ -4. , -24. ,  14.5, 110. ]])"
      ]
     },
     "execution_count": null,
     "metadata": {},
     "output_type": "execute_result"
    }
   ],
   "source": [
    "(b.coords_as_numpy - b2.coords_as_numpy) / np.tile([2, 1], 2)"
   ]
  },
  {
   "cell_type": "code",
   "execution_count": null,
   "metadata": {},
   "outputs": [],
   "source": [
    "# | export\n",
    "\n",
    "\n",
    "@patch\n",
    "def get_offset(\n",
    "    self: BaseBx,\n",
    "    other: BaseBx,\n",
    "    normalize=True,\n",
    "    log_func=np.log,\n",
    "    sigma=(0.1, 0.2),\n",
    "    self_is_anchor=False,\n",
    "):\n",
    "    \"\"\"\n",
    "    Caclulates the offset of the box I with another box O.\n",
    "    The most basic calculation of offset involves a) taking the distance between the centers: `I_cx - O_cx`, `I_cy - O_cy`.\n",
    "    b) taking the ratio of the two boxes: `I_w/Ow, I_h/O_h`.\n",
    "\n",
    "    If `normalize=True`, the center distances and ratios are normalized as per https://arxiv.org/pdf/1512.02325.pdf\n",
    "    `(I_cx - O_cx)/O_w`, `(I_cy - O_cy)/O_h`, `log(I_w/Ow), log(I_h/O_h)`\n",
    "    These are further scaled with an appoximation of standard deviation for the distances and ratios\n",
    "    `((I_cx - O_cx)/O_w)/sigma_c`, `((I_cy - O_cy)/O_h)/sigma_c`, `log(I_w/Ow)/sigma_r, log(I_h/O_h)/sigma_r`\n",
    "\n",
    "    Args:\n",
    "        other (BaseBx): Any supported type of bounding box format, even takes a list of coordinates. Typically the anchor box.\n",
    "        normalize (bool, optional): Whether to normalize the offsets. Defaults to True.\n",
    "        log_func (func, optional): Function for normalizing the ratio of widths and heights. Defaults to np.log.\n",
    "        sigma (tuple, optional): Estimated of standard deviation for the distances and ratios. Defaults to (0.1, 0.2).\n",
    "        self_is_anchor (bool, optional): Typically `other` is assumed to be the anchor box, this flag tells that this assumption is False. Defaults to False.\n",
    "\n",
    "    Returns:\n",
    "        list: Offsets of the two bounding boxes\n",
    "    \"\"\"\n",
    "    if isinstance(other, MultiBx):\n",
    "        warnings.warn(BxViolation(f\"Other should be BaseBx, got MultiBx\"))\n",
    "        assert len(other) == 1, f\"{other} cannot be converted to single bounding box.\"\n",
    "        other = other[0]\n",
    "    elif not isinstance(other, Bx):\n",
    "        other = bbx(other)\n",
    "\n",
    "    if self_is_anchor:\n",
    "        # if self_is_anchor, ie anchor.get_offset(ground_truth) is called\n",
    "        anchor = self\n",
    "        gt = other\n",
    "    else:\n",
    "        # if not self_is_anchor, ie ground_truth.get_offset(anchor) is called (default behaviour)\n",
    "        gt = self\n",
    "        anchor = other\n",
    "    # get anchor box w and h\n",
    "    anchor_bw_norm = anchor.bw\n",
    "    anchor_bh_norm = anchor.bh\n",
    "    sigma_c, sigma_r = sigma\n",
    "    # if not normalize, reset params\n",
    "    if not normalize:\n",
    "        log_func = noop\n",
    "        sigma_c, sigma_r, anchor_bw_norm, anchor_bh_norm = [1.0] * 4\n",
    "    # center distances\n",
    "    # norm with anchor box w and h\n",
    "    cx_offset, cy_offset = (\n",
    "        (gt.cx - anchor.cx) / anchor_bw_norm,\n",
    "        (gt.cy - anchor.cy) / anchor_bh_norm,\n",
    "    )\n",
    "    # scale of boxes\n",
    "    w_offset = log_func(gt.bw / anchor_bw_norm)\n",
    "    h_offset = log_func(gt.bh / anchor_bh_norm)\n",
    "\n",
    "    offset = np.asarray([cx_offset, cy_offset, w_offset, h_offset])\n",
    "    # norm with sigmaxy and sigmawh\n",
    "    # print(sigma_c, sigma_r)\n",
    "    offset /= np.repeat([sigma_c, sigma_r], 2)\n",
    "    # not np.tile as norm is cx/sigma_c, cy/sigma_c, w/sigma_r, h/sigma_r\n",
    "    return L(offset.round(4).tolist())"
   ]
  },
  {
   "cell_type": "code",
   "execution_count": null,
   "metadata": {},
   "outputs": [
    {
     "data": {
      "text/plain": [
       "array([1, 1, 2, 2])"
      ]
     },
     "execution_count": null,
     "metadata": {},
     "output_type": "execute_result"
    }
   ],
   "source": [
    "np.repeat([1, 2], 2)"
   ]
  },
  {
   "cell_type": "code",
   "execution_count": null,
   "metadata": {},
   "outputs": [
    {
     "data": {
      "text/plain": [
       "True"
      ]
     },
     "execution_count": null,
     "metadata": {},
     "output_type": "execute_result"
    }
   ],
   "source": [
    "isinstance(b, BaseBx)"
   ]
  },
  {
   "cell_type": "code",
   "execution_count": null,
   "metadata": {},
   "outputs": [
    {
     "data": {
      "text/plain": [
       "(BaseBx(coords=[[10, 20, 100, 200]], label=['apple']),\n",
       " BaseBx(coords=[[18, 44, 71, 90]], label=['probably_flower']))"
      ]
     },
     "execution_count": null,
     "metadata": {},
     "output_type": "execute_result"
    }
   ],
   "source": [
    "b, b2"
   ]
  },
  {
   "cell_type": "code",
   "execution_count": null,
   "metadata": {},
   "outputs": [
    {
     "data": {
      "text/plain": [
       "(#4) [10.5,43.0,90.0,180.0]"
      ]
     },
     "execution_count": null,
     "metadata": {},
     "output_type": "execute_result"
    }
   ],
   "source": [
    "b.get_offset(b2, normalize=False)"
   ]
  },
  {
   "cell_type": "code",
   "execution_count": null,
   "metadata": {},
   "outputs": [
    {
     "data": {
      "text/plain": [
       "(#4) [1.9811,9.3478,2.6476,6.8216]"
      ]
     },
     "execution_count": null,
     "metadata": {},
     "output_type": "execute_result"
    }
   ],
   "source": [
    "b.get_offset(b2, normalize=True)"
   ]
  },
  {
   "cell_type": "markdown",
   "metadata": {},
   "source": [
    "To make sure consistency with the reverse case where self is the ground truth anchor box and ground truth bounding box is the other box, use the `self_is_anchor` flag."
   ]
  },
  {
   "cell_type": "code",
   "execution_count": null,
   "metadata": {},
   "outputs": [
    {
     "data": {
      "text/plain": [
       "(#4) [1.9811,9.3478,2.6476,6.8216]"
      ]
     },
     "execution_count": null,
     "metadata": {},
     "output_type": "execute_result"
    }
   ],
   "source": [
    "b2.get_offset(b, normalize=True, self_is_anchor=True)  # correct"
   ]
  },
  {
   "cell_type": "markdown",
   "metadata": {},
   "source": [
    "If `self_is_anchor=False` flag is not turned on, when ground truth bounding box is the other box, the latter can lead to a systematic bug."
   ]
  },
  {
   "cell_type": "code",
   "execution_count": null,
   "metadata": {},
   "outputs": [
    {
     "data": {
      "text/plain": [
       "(#4) [-1.1667,-2.3889,-2.6476,-6.8216]"
      ]
     },
     "execution_count": null,
     "metadata": {},
     "output_type": "execute_result"
    }
   ],
   "source": [
    "b2.get_offset(b, normalize=True)  # not correct"
   ]
  },
  {
   "cell_type": "code",
   "execution_count": null,
   "metadata": {},
   "outputs": [],
   "source": []
  },
  {
   "cell_type": "code",
   "execution_count": null,
   "metadata": {},
   "outputs": [],
   "source": [
    "# |hide\n",
    "from nbdev import nbdev_export\n",
    "\n",
    "nbdev_export()"
   ]
  },
  {
   "cell_type": "code",
   "execution_count": null,
   "metadata": {},
   "outputs": [],
   "source": []
  }
 ],
 "metadata": {
  "kernelspec": {
   "display_name": "python3",
   "language": "python",
   "name": "python3"
  },
  "language_info": {
   "codemirror_mode": {
    "name": "ipython",
    "version": 3
   },
   "file_extension": ".py",
   "mimetype": "text/x-python",
   "name": "python",
   "nbconvert_exporter": "python",
   "pygments_lexer": "ipython3",
   "version": "3.8.18"
  }
 },
 "nbformat": 4,
 "nbformat_minor": 4
}
