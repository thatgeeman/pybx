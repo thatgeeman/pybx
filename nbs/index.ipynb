{
 "cells": [
  {
   "cell_type": "markdown",
   "metadata": {},
   "source": [
    "[![PyPI version](https://badge.fury.io/py/pybx.svg)](https://badge.fury.io/py/pybx)\n",
    "[![Open In Collab](https://colab.research.google.com/assets/colab-badge.svg)](https://colab.research.google.com/github/thatgeeman/pybx/blob/master/nbs/pybx_walkthrough.ipynb)\n",
    "\n",
    "A simple python package to generate anchor boxes for multi-box \n",
    "object detection models. \n",
    "\n",
    "Calculated anchor boxes are in `pascal_voc` format by default."
   ]
  },
  {
   "cell_type": "markdown",
   "metadata": {},
   "source": [
    "### Installation\n",
    "```shell\n",
    "pip install pybx\n",
    "```"
   ]
  },
  {
   "cell_type": "markdown",
   "metadata": {},
   "source": [
    "### Usage\n",
    "\n",
    "To calculate the anchor boxes for a single feature size and \n",
    "aspect ratio, given the image size: "
   ]
  },
  {
   "cell_type": "code",
   "execution_count": null,
   "metadata": {},
   "outputs": [],
   "source": [
    "from pybx import anchor, ops\n",
    "\n",
    "image_sz = (300, 300)\n",
    "feature_sz = (10, 10)\n",
    "asp_ratio = 1/2.\n",
    "\n",
    "coords, labels = anchor.bx(image_sz, feature_sz, asp_ratio)"
   ]
  },
  {
   "cell_type": "markdown",
   "metadata": {},
   "source": [
    "100 anchor boxes of `asp_ratio` 0.5 is generated along with [unique labels](../data/README.md):"
   ]
  },
  {
   "cell_type": "code",
   "execution_count": null,
   "metadata": {},
   "outputs": [
    {
     "data": {
      "text/plain": [
       "(100, 100)"
      ]
     },
     "execution_count": null,
     "metadata": {},
     "output_type": "execute_result"
    }
   ],
   "source": [
    "len(coords), len(labels)"
   ]
  },
  {
   "cell_type": "markdown",
   "metadata": {},
   "source": [
    "The anchor box labels are especially useful, since they are pretty descriptive:"
   ]
  },
  {
   "cell_type": "code",
   "execution_count": null,
   "metadata": {},
   "outputs": [
    {
     "data": {
      "text/plain": [
       "([274.3933982822018, 263.7867965644036, 295.6066017177982, 300.0],\n",
       " 'a_10x10_0.5_99')"
      ]
     },
     "execution_count": null,
     "metadata": {},
     "output_type": "execute_result"
    }
   ],
   "source": [
    "coords[-1], labels[-1]"
   ]
  },
  {
   "cell_type": "markdown",
   "metadata": {},
   "source": [
    "To calculate anchor boxes for **multiple** feature sizes and \n",
    "aspect ratios, we use `anchor.bxs` instead:"
   ]
  },
  {
   "cell_type": "code",
   "execution_count": null,
   "metadata": {},
   "outputs": [],
   "source": [
    "feature_szs = [(10, 10), (8, 8)]\n",
    "asp_ratios = [1., 1/2., 2.]\n",
    "\n",
    "coords, labels = anchor.bxs(image_sz, feature_szs, asp_ratios)"
   ]
  },
  {
   "cell_type": "markdown",
   "metadata": {},
   "source": [
    "All anchor boxes are returned as `ndarrays` of shape `(N,4)` where N\n",
    "is the number of boxes. \n",
    "\n",
    "The box labels are even more important now, since they help you uniquely identify \n",
    "to which feature map size or aspect ratios they belong to."
   ]
  },
  {
   "cell_type": "code",
   "execution_count": null,
   "metadata": {},
   "outputs": [
    {
     "data": {
      "text/plain": [
       "(array([34.39339828,  0.        , 55.60660172, 36.21320344]), 'a_10x10_0.5_1')"
      ]
     },
     "execution_count": null,
     "metadata": {},
     "output_type": "execute_result"
    }
   ],
   "source": [
    "coords[101], labels[101]"
   ]
  },
  {
   "cell_type": "code",
   "execution_count": null,
   "metadata": {},
   "outputs": [
    {
     "data": {
      "text/plain": [
       "(array([254.73349571, 267.99174785, 300.        , 294.50825215]),\n",
       " 'a_8x8_2.0_63')"
      ]
     },
     "execution_count": null,
     "metadata": {},
     "output_type": "execute_result"
    }
   ],
   "source": [
    "coords[-1], labels[-1]"
   ]
  },
  {
   "cell_type": "markdown",
   "metadata": {},
   "source": [
    "#### `MultiBx` methods\n",
    "Box coordinates (with/without labels) in any format \n",
    "(usually `ndarray`, `list`, `json`, `dict`) \n",
    "can be instantialized as a `MultiBx`, exposing many useful \n",
    "methods and attributes of `MultiBx`. \n",
    "For example to calculate the area of each box iteratively:"
   ]
  },
  {
   "cell_type": "code",
   "execution_count": null,
   "metadata": {},
   "outputs": [
    {
     "name": "stdout",
     "output_type": "stream",
     "text": [
      "(492, 4)\n"
     ]
    },
    {
     "data": {
      "text/plain": [
       "pybx.basics.MultiBx"
      ]
     },
     "execution_count": null,
     "metadata": {},
     "output_type": "execute_result"
    }
   ],
   "source": [
    "from pybx.basics import * \n",
    "# passing anchor boxes and labels from anchor.bxs()\n",
    "print(coords.shape)\n",
    "\n",
    "boxes = mbx(coords, labels)\n",
    "type(boxes)"
   ]
  },
  {
   "cell_type": "code",
   "execution_count": null,
   "metadata": {},
   "outputs": [
    {
     "data": {
      "text/plain": [
       "492"
      ]
     },
     "execution_count": null,
     "metadata": {},
     "output_type": "execute_result"
    }
   ],
   "source": [
    "len(boxes)"
   ]
  },
  {
   "cell_type": "code",
   "execution_count": null,
   "metadata": {},
   "outputs": [],
   "source": [
    "areas = [b.area for b in boxes]"
   ]
  },
  {
   "cell_type": "code",
   "execution_count": null,
   "metadata": {},
   "outputs": [],
   "source": [
    "#| hide\n",
    "assert areas[-1] == ops.get_op('sub')(*boxes[-1]._coords[::2][::-1]) * ops.get_op('sub')(*boxes[-1]._coords[1::2][::-1])"
   ]
  },
  {
   "cell_type": "markdown",
   "metadata": {},
   "source": [
    "Each annotation in the `MultiBx` object `boxes` is also a `BaseBx` \n",
    "with its own set of methods and properties. "
   ]
  },
  {
   "cell_type": "code",
   "execution_count": null,
   "metadata": {},
   "outputs": [
    {
     "data": {
      "text/plain": [
       "BaseBx(coords=[[254.73349570550448, 267.9917478527522, 300.0, 294.5082521472478]], label=['a_8x8_2.0_63'])"
      ]
     },
     "execution_count": null,
     "metadata": {},
     "output_type": "execute_result"
    }
   ],
   "source": [
    "boxes[-1]"
   ]
  },
  {
   "cell_type": "code",
   "execution_count": null,
   "metadata": {},
   "outputs": [
    {
     "data": {
      "text/plain": [
       "((#1) [[254.73349570550448, 267.9917478527522, 300.0, 294.5082521472478]],\n",
       " (#1) ['a_8x8_2.0_63'])"
      ]
     },
     "execution_count": null,
     "metadata": {},
     "output_type": "execute_result"
    }
   ],
   "source": [
    "boxes[-1].coords, boxes[-1].label"
   ]
  },
  {
   "cell_type": "markdown",
   "metadata": {},
   "source": [
    "`MultiBx` objects can also be \"added\" which stacks \n",
    "them vertically to create a new `MultiBx` object:"
   ]
  },
  {
   "cell_type": "code",
   "execution_count": null,
   "metadata": {},
   "outputs": [
    {
     "data": {
      "text/plain": [
       "[{'x_min': 150, 'y_min': 70, 'x_max': 270, 'y_max': 220, 'label': 'clock'},\n",
       " {'x_min': 10, 'y_min': 180, 'x_max': 115, 'y_max': 260, 'label': 'frame'}]"
      ]
     },
     "execution_count": null,
     "metadata": {},
     "output_type": "execute_result"
    }
   ],
   "source": [
    "#| hide \n",
    "import json\n",
    "from fastcore.basics import Path\n",
    "coords_json = json.load(Path('../data/annots.json').open()) \n",
    "coords_json"
   ]
  },
  {
   "cell_type": "code",
   "execution_count": null,
   "metadata": {},
   "outputs": [],
   "source": [
    "#| hide\n",
    "coords_numpy = coords.copy()"
   ]
  },
  {
   "cell_type": "code",
   "execution_count": null,
   "metadata": {},
   "outputs": [
    {
     "data": {
      "text/plain": [
       "2"
      ]
     },
     "execution_count": null,
     "metadata": {},
     "output_type": "execute_result"
    }
   ],
   "source": [
    "boxes_true = mbx(coords_json)    # annotation as json records\n",
    "len(boxes_true)"
   ]
  },
  {
   "cell_type": "code",
   "execution_count": null,
   "metadata": {},
   "outputs": [
    {
     "data": {
      "text/plain": [
       "492"
      ]
     },
     "execution_count": null,
     "metadata": {},
     "output_type": "execute_result"
    }
   ],
   "source": [
    "boxes_anchor = mbx(coords_numpy) # annotation as ndarray\n",
    "len(boxes_anchor)"
   ]
  },
  {
   "cell_type": "code",
   "execution_count": null,
   "metadata": {},
   "outputs": [
    {
     "data": {
      "text/plain": [
       "MultiBx(coords=[[150, 70, 270, 220], [10, 180, 115, 260]], label=['clock', 'frame'])"
      ]
     },
     "execution_count": null,
     "metadata": {},
     "output_type": "execute_result"
    }
   ],
   "source": [
    "boxes_true"
   ]
  },
  {
   "cell_type": "code",
   "execution_count": null,
   "metadata": {},
   "outputs": [],
   "source": [
    "boxes = boxes_true + boxes_anchor + boxes_true"
   ]
  },
  {
   "cell_type": "code",
   "execution_count": null,
   "metadata": {},
   "outputs": [
    {
     "data": {
      "text/plain": [
       "496"
      ]
     },
     "execution_count": null,
     "metadata": {},
     "output_type": "execute_result"
    }
   ],
   "source": [
    "len(boxes)"
   ]
  },
  {
   "cell_type": "code",
   "execution_count": null,
   "metadata": {},
   "outputs": [],
   "source": []
  }
 ],
 "metadata": {
  "kernelspec": {
   "display_name": "pybx",
   "language": "python",
   "name": "pybx"
  }
 },
 "nbformat": 4,
 "nbformat_minor": 4
}
